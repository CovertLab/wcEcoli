{
 "cells": [
  {
   "cell_type": "markdown",
   "metadata": {},
   "source": [
    "# *E. coli* Live Simulation Notebook"
   ]
  },
  {
   "cell_type": "markdown",
   "metadata": {},
   "source": [
    "## Setup Simulation"
   ]
  },
  {
   "cell_type": "code",
   "execution_count": 1,
   "metadata": {
    "collapsed": false
   },
   "outputs": [],
   "source": [
    "import os\n",
    "import sys\n",
    "import datetime\n",
    "\n",
    "WC_ECOLI_DIRECTORY = os.path.expanduser(\"~/wcEcoli\")\n",
    "OUT_DIRECTORY = os.path.join(WC_ECOLI_DIRECTORY, \"out\")\n",
    "\n",
    "now = datetime.datetime.now()\n",
    "SUBMISSION_TIME = \"%04d%02d%02d.%02d%02d%02d.%06d\" % (\n",
    "\tnow.year, now.month, now.day,\n",
    "\tnow.hour, now.minute, now.second,\n",
    "\tnow.microsecond)\n",
    "\n",
    "JUPYTER_OUT_DIR = \"jupyter\"\n",
    "KB_DIRECTORY = os.path.join(OUT_DIRECTORY, JUPYTER_OUT_DIR, \"kb\")\n",
    "METADATA_DIRECTORY = os.path.join(OUT_DIRECTORY, JUPYTER_OUT_DIR, \"metadata\")\n",
    "CELL_DIRECTORY = os.path.join(OUT_DIRECTORY, JUPYTER_OUT_DIR, \"wildtype_000000\", \"000000\", \"generation_000000\", \"000000\")\n",
    "SIM_DATA_PATH = os.path.join(KB_DIRECTORY, \"simData_Fit_1.cPickle\")\n",
    "\n",
    "if not os.path.exists(KB_DIRECTORY):\n",
    "    os.makedirs(KB_DIRECTORY)\n",
    "\n",
    "if not os.path.exists(METADATA_DIRECTORY):\n",
    "    os.makedirs(METADATA_DIRECTORY)\n",
    "    \n",
    "if not os.path.exists(CELL_DIRECTORY):\n",
    "    os.makedirs(CELL_DIRECTORY)\n",
    "\n",
    "sys.path.append(WC_ECOLI_DIRECTORY)"
   ]
  },
  {
   "cell_type": "markdown",
   "metadata": {},
   "source": [
    "Load and fit the data."
   ]
  },
  {
   "cell_type": "code",
   "execution_count": 2,
   "metadata": {
    "collapsed": false
   },
   "outputs": [
    {
     "name": "stderr",
     "output_type": "stream",
     "text": [
      "/share/PI/mcovert/pyenv/versions/wcEcoli/lib/python2.7/site-packages/theano/scan_module/scan_perform_ext.py:133: RuntimeWarning: numpy.ndarray size changed, may indicate binary incompatibility\n",
      "  from scan_perform.scan_perform import *\n"
     ]
    }
   ],
   "source": [
    "import cPickle\n",
    "from reconstruction.ecoli.knowledge_base_raw import KnowledgeBaseEcoli\n",
    "from reconstruction.ecoli.fit_sim_data_1 import fitSimData_1\n",
    "from reconstruction.ecoli.fit_sim_data_2 import fitSimData_2\n",
    "\n",
    "raw_data = KnowledgeBaseEcoli()\n",
    "sim_data = fitSimData_1(raw_data)\n",
    "\n",
    "with open(SIM_DATA_PATH, 'wb') as f:\n",
    "    cPickle.dump(sim_data, f, cPickle.HIGHEST_PROTOCOL)"
   ]
  },
  {
   "cell_type": "code",
   "execution_count": 8,
   "metadata": {
    "collapsed": false
   },
   "outputs": [],
   "source": [
    "from models.ecoli.sim.simulation import EcoliSimulation\n",
    "\n",
    "class EcoliLiveSimulation(EcoliSimulation):\n",
    "    def startup(self):\n",
    "        # Perform initial mass calculations\n",
    "        for state in self.states.itervalues():\n",
    "            state.calculatePreEvolveStateMass()\n",
    "            state.calculatePostEvolveStateMass()\n",
    "\n",
    "        # Perform initial listener update\n",
    "        for listener in self.listeners.itervalues():\n",
    "            listener.initialUpdate()\n",
    "\n",
    "        # Start logging\n",
    "        for logger in self.loggers.itervalues():\n",
    "            logger.initialize(self)\n",
    "            \n",
    "    def step(self, steps=1, time=None):\n",
    "        startTime = self._timeTotal\n",
    "        stepCount = 0\n",
    "        \n",
    "        while True:\n",
    "            stepCount += 1\n",
    "            \n",
    "            if steps > 0 and stepCount > steps:\n",
    "                return\n",
    "            \n",
    "            if time is not None and startTime + time < self._timeTotal:\n",
    "                return\n",
    "            \n",
    "            if self._cellCycleComplete:\n",
    "                print \"Cell cycle complete\"\n",
    "                return\n",
    "\n",
    "            self._simulationStep += 1\n",
    "            self._timeTotal += self._timeStepSec\n",
    "            self._evolveState()\n",
    "    \n",
    "    def shutdown(self):\n",
    "        # Run post-simulation hooks\n",
    "        for hook in self.hooks.itervalues():\n",
    "            hook.finalize(self)\n",
    "\n",
    "        # Divide mother into daughter cells\n",
    "        self._divideCellFunction()\n",
    "\n",
    "        # Finish logging\n",
    "        for logger in self.loggers.itervalues():\n",
    "            logger.finalize(self)"
   ]
  },
  {
   "cell_type": "code",
   "execution_count": 4,
   "metadata": {
    "collapsed": true
   },
   "outputs": [],
   "source": [
    "options = {}\n",
    "\n",
    "options[\"simDataLocation\"] = SIM_DATA_PATH\n",
    "options[\"outputDir\"] = os.path.join(CELL_DIRECTORY, \"simOut\")\n",
    "sim = EcoliLiveSimulation(**options)"
   ]
  },
  {
   "cell_type": "code",
   "execution_count": 6,
   "metadata": {
    "collapsed": false
   },
   "outputs": [
    {
     "name": "stdout",
     "output_type": "stream",
     "text": [
      "Time (s)  Dry mass     Dry mass      Protein          RNA     Expected\n",
      "              (fg)  fold change  fold change  fold change  fold change\n",
      "========  ========  ===========  ===========  ===========  ===========\n",
      "       0    245.46        1.000        1.000        1.000        1.000\n"
     ]
    }
   ],
   "source": [
    "sim.startup()"
   ]
  },
  {
   "cell_type": "code",
   "execution_count": 10,
   "metadata": {
    "collapsed": false
   },
   "outputs": [
    {
     "name": "stdout",
     "output_type": "stream",
     "text": [
      "      11    246.93        1.006        1.002        1.000        1.002\n",
      "steps\n"
     ]
    }
   ],
   "source": [
    "sim.step(steps=1)"
   ]
  }
 ],
 "metadata": {
  "kernelspec": {
   "display_name": "Python 2",
   "language": "python",
   "name": "python2"
  },
  "language_info": {
   "codemirror_mode": {
    "name": "ipython",
    "version": 2
   },
   "file_extension": ".py",
   "mimetype": "text/x-python",
   "name": "python",
   "nbconvert_exporter": "python",
   "pygments_lexer": "ipython2",
   "version": "2.7.4"
  }
 },
 "nbformat": 4,
 "nbformat_minor": 0
}
