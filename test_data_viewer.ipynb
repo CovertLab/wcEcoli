{
 "cells": [
  {
   "cell_type": "code",
   "execution_count": 1,
   "metadata": {},
   "outputs": [],
   "source": [
    "import matplotlib.pyplot as plt\n",
    "import pandas as pd\n",
    "import numpy as np\n",
    "import csv\n",
    "\n",
    "%matplotlib inline\n"
   ]
  },
  {
   "cell_type": "code",
   "execution_count": 2,
   "metadata": {},
   "outputs": [],
   "source": [
    "# x = []\n",
    "# y = []\n",
    "\n",
    "# with open('test_data.csv','rb') as csvfile:\n",
    "#     plots = csv.reader(csvfile, delimiter=',')\n",
    "#     for row in plots:\n",
    "#         x.append(row[0])\n",
    "#         y.append(row[1])"
   ]
  },
  {
   "cell_type": "code",
   "execution_count": 3,
   "metadata": {},
   "outputs": [
    {
     "data": {
      "text/html": [
       "<div>\n",
       "<style scoped>\n",
       "    .dataframe tbody tr th:only-of-type {\n",
       "        vertical-align: middle;\n",
       "    }\n",
       "\n",
       "    .dataframe tbody tr th {\n",
       "        vertical-align: top;\n",
       "    }\n",
       "\n",
       "    .dataframe thead th {\n",
       "        text-align: right;\n",
       "    }\n",
       "</style>\n",
       "<table border=\"1\" class=\"dataframe\">\n",
       "  <thead>\n",
       "    <tr style=\"text-align: right;\">\n",
       "      <th></th>\n",
       "      <th>agent_id</th>\n",
       "      <th>timestep</th>\n",
       "      <th>volume</th>\n",
       "      <th>media</th>\n",
       "      <th>GLC[c]</th>\n",
       "      <th>GLT[c]</th>\n",
       "      <th>CYS[c]</th>\n",
       "    </tr>\n",
       "  </thead>\n",
       "  <tbody>\n",
       "    <tr>\n",
       "      <th>0</th>\n",
       "      <td>3929</td>\n",
       "      <td>0.0</td>\n",
       "      <td>1.1</td>\n",
       "      <td>minimal</td>\n",
       "      <td>12.727273</td>\n",
       "      <td>0.909091</td>\n",
       "      <td>0.909091</td>\n",
       "    </tr>\n",
       "    <tr>\n",
       "      <th>1</th>\n",
       "      <td>3139</td>\n",
       "      <td>0.0</td>\n",
       "      <td>1.1</td>\n",
       "      <td>minimal</td>\n",
       "      <td>14.545455</td>\n",
       "      <td>5.454545</td>\n",
       "      <td>5.454545</td>\n",
       "    </tr>\n",
       "    <tr>\n",
       "      <th>2</th>\n",
       "      <td>4430</td>\n",
       "      <td>0.0</td>\n",
       "      <td>1.1</td>\n",
       "      <td>minimal</td>\n",
       "      <td>12.727273</td>\n",
       "      <td>4.545455</td>\n",
       "      <td>4.545455</td>\n",
       "    </tr>\n",
       "    <tr>\n",
       "      <th>3</th>\n",
       "      <td>3929</td>\n",
       "      <td>5.0</td>\n",
       "      <td>1.2</td>\n",
       "      <td>minimal</td>\n",
       "      <td>17.166667</td>\n",
       "      <td>1.750000</td>\n",
       "      <td>1.750000</td>\n",
       "    </tr>\n",
       "    <tr>\n",
       "      <th>4</th>\n",
       "      <td>4430</td>\n",
       "      <td>5.0</td>\n",
       "      <td>1.2</td>\n",
       "      <td>minimal</td>\n",
       "      <td>11.666667</td>\n",
       "      <td>8.750000</td>\n",
       "      <td>8.750000</td>\n",
       "    </tr>\n",
       "  </tbody>\n",
       "</table>\n",
       "</div>"
      ],
      "text/plain": [
       "   agent_id  timestep  volume    media     GLC[c]    GLT[c]    CYS[c]\n",
       "0      3929       0.0     1.1  minimal  12.727273  0.909091  0.909091\n",
       "1      3139       0.0     1.1  minimal  14.545455  5.454545  5.454545\n",
       "2      4430       0.0     1.1  minimal  12.727273  4.545455  4.545455\n",
       "3      3929       5.0     1.2  minimal  17.166667  1.750000  1.750000\n",
       "4      4430       5.0     1.2  minimal  11.666667  8.750000  8.750000"
      ]
     },
     "execution_count": 3,
     "metadata": {},
     "output_type": "execute_result"
    }
   ],
   "source": [
    "# import test_data.csv from surrogate experiments\n",
    "test_data = pd.read_csv('test_data.csv')\n",
    "test_data.head()\n",
    "\n"
   ]
  },
  {
   "cell_type": "code",
   "execution_count": 15,
   "metadata": {},
   "outputs": [],
   "source": [
    "# save individual agents' outputs as dataframes\n",
    "agent_1 = test_data[test_data.agent_id == test_data.agent_id[1]]\n",
    "agent_2 = test_data[test_data.agent_id == test_data.agent_id[2]]\n",
    "agent_3 = test_data[test_data.agent_id == test_data.agent_id[3]]\n"
   ]
  },
  {
   "cell_type": "code",
   "execution_count": null,
   "metadata": {},
   "outputs": [],
   "source": [
    "\n"
   ]
  },
  {
   "cell_type": "code",
   "execution_count": null,
   "metadata": {},
   "outputs": [],
   "source": []
  },
  {
   "cell_type": "code",
   "execution_count": 16,
   "metadata": {},
   "outputs": [
    {
     "data": {
      "text/plain": [
       "<matplotlib.lines.Line2D at 0x7f6788e56e90>"
      ]
     },
     "execution_count": 16,
     "metadata": {},
     "output_type": "execute_result"
    },
    {
     "data": {
      "image/png": "[encoded data removed]",
      "text/plain": [
       "<Figure size 432x288 with 1 Axes>"
      ]
     },
     "metadata": {
      "needs_background": "light"
     },
     "output_type": "display_data"
    }
   ],
   "source": [
    "# compare agents' internal glucose counts\n",
    "x = agent_1['timestep']\n",
    "y1 = agent_1['GLC[c]']\n",
    "y2 = agent_2['GLC[c]']\n",
    "y3 = agent_3['GLC[c]']\n",
    "plt.plot(x,y1)\n",
    "plt.plot(x,y2)\n",
    "plt.plot(x,y3)\n",
    "plt.xlabel(\"time\")\n",
    "plt.ylabel(\"glucose\")\n",
    "plt.title(\"Glucose Concentrations\")\n",
    "\n",
    "plt.axvline(x=0)\n",
    "plt.axvline(x=50)\n",
    "plt.axvline(x=100)\n"
   ]
  },
  {
   "cell_type": "code",
   "execution_count": 17,
   "metadata": {},
   "outputs": [
    {
     "data": {
      "text/plain": [
       "<matplotlib.lines.Line2D at 0x7f6788d64350>"
      ]
     },
     "execution_count": 17,
     "metadata": {},
     "output_type": "execute_result"
    },
    {
     "data": {
      "image/png": "[encoded data removed]",
      "text/plain": [
       "<Figure size 432x288 with 1 Axes>"
      ]
     },
     "metadata": {
      "needs_background": "light"
     },
     "output_type": "display_data"
    }
   ],
   "source": [
    "# compare agents' internal glutamine counts\n",
    "x = agent_1['timestep']\n",
    "y1 = agent_1['GLT[c]']\n",
    "y2 = agent_2['GLT[c]']\n",
    "y3 = agent_3['GLT[c]']\n",
    "plt.plot(x,y1)\n",
    "plt.plot(x,y2)\n",
    "plt.plot(x,y3)\n",
    "plt.xlabel(\"time\")\n",
    "plt.ylabel(\"glutamine\")\n",
    "plt.title(\"Glutamine Concentrations\")\n",
    "\n",
    "plt.axvline(x=0)\n",
    "plt.axvline(x=50)\n",
    "plt.axvline(x=100)"
   ]
  },
  {
   "cell_type": "code",
   "execution_count": null,
   "metadata": {},
   "outputs": [],
   "source": []
  },
  {
   "cell_type": "code",
   "execution_count": null,
   "metadata": {},
   "outputs": [],
   "source": []
  }
 ],
 "metadata": {
  "kernelspec": {
   "display_name": "Python 2",
   "language": "python",
   "name": "python2"
  },
  "language_info": {
   "codemirror_mode": {
    "name": "ipython",
    "version": 2
   },
   "file_extension": ".py",
   "mimetype": "text/x-python",
   "name": "python",
   "nbconvert_exporter": "python",
   "pygments_lexer": "ipython2",
   "version": "2.7.15rc1"
  }
 },
 "nbformat": 4,
 "nbformat_minor": 2
}
