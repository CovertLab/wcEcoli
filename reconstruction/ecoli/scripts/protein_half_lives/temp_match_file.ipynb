{
 "cells": [
  {
   "cell_type": "code",
   "execution_count": null,
   "id": "initial_id",
   "metadata": {
    "collapsed": true
   },
   "outputs": [],
   "source": [
    "# this file is for temporarily matching figuring out how to match what we have in the model to the lit data \n",
    "# easier to debugg in here!\n"
   ]
  },
  {
   "cell_type": "code",
   "execution_count": 9,
   "outputs": [],
   "source": [
    "#import polars as pl\n",
    "import numpy as np\n",
    "from matplotlib import pyplot as plt\n",
    "import os\n",
    "import json\n",
    "import pandas as pd\n",
    "#import seaborn as sns\n",
    "from scipy.sparse import csr_matrix"
   ],
   "metadata": {
    "collapsed": false,
    "ExecuteTime": {
     "end_time": "2024-04-30T18:57:22.850166Z",
     "start_time": "2024-04-30T18:57:22.580194Z"
    }
   },
   "id": "5876ffd6517c0ea8"
  },
  {
   "cell_type": "code",
   "execution_count": 25,
   "outputs": [],
   "source": [
    "# Load in the data sources that we currently use: \n",
    "# TODO: not sure why, but I cannot figure out how to import these not using the absolute path...\n",
    "\n",
    "Nend_data = pd.read_table(\"/Users/miagrahn/wcEcoli/reconstruction/ecoli/flat/protein_half_lives_n_end_rule.tsv\", comment=\"#\")\n",
    "exp_data = pd.read_table(\"/Users/miagrahn/wcEcoli/reconstruction/ecoli/flat/protein_half_lives_measured.tsv\", comment=\"#\")\n",
    "ML_data = pd.read_table(\"/Users/miagrahn/wcEcoli/reconstruction/ecoli/flat/protein_half_lives_pulsed_silac.tsv\", comment=\"#\")"
   ],
   "metadata": {
    "collapsed": false,
    "ExecuteTime": {
     "end_time": "2024-04-30T19:22:40.530552Z",
     "start_time": "2024-04-30T19:22:40.522681Z"
    }
   },
   "id": "83b4b3522c19ae2b"
  },
  {
   "cell_type": "code",
   "execution_count": 32,
   "outputs": [],
   "source": [
    "# Load in the experimental data from the new paper (Gupta et al., 2023), Table S1 (https://www.biorxiv.org/content/10.1101/2022.08.01.502339v2.full): \n",
    "\n",
    "# Measured half lives (from Gupta et al., 2023 bioRxiv)\n",
    "new_data = pd.read_table(\"/Users/miagrahn/wcEcoli/reconstruction/ecoli/flat/protein_half_lives_gupta.tsv\", comment=\"#\")\n",
    "#TODO: figure out to read out the new data with out having to use my aboslute file path. NOt sure why it isnt working...."
   ],
   "metadata": {
    "collapsed": false,
    "ExecuteTime": {
     "end_time": "2024-04-30T19:38:07.635649Z",
     "start_time": "2024-04-30T19:38:07.626921Z"
    }
   },
   "id": "80e74bc9bfd3d51a"
  },
  {
   "cell_type": "markdown",
   "source": [
    "## figure out what all the current monomers in the model are:"
   ],
   "metadata": {
    "collapsed": false
   },
   "id": "3fb93afc9c90c1c2"
  },
  {
   "cell_type": "code",
   "execution_count": 29,
   "outputs": [
    {
     "data": {
      "text/plain": "0      L-ALPHA-ALANINE[c]\n1                  ARG[c]\n2                  ASN[c]\n3          L-ASPARTATE[c]\n4                  CYS[c]\n5                  GLT[c]\n6                  GLN[c]\n7                  GLY[c]\n8                  HIS[c]\n9                  ILE[c]\n10                 LEU[c]\n11                 LYS[c]\n12                 MET[c]\n13                 PHE[c]\n14                 PRO[c]\n15                 SER[c]\n16                 THR[c]\n17                 TRP[c]\n18                 TYR[c]\n19    L-SELENOCYSTEINE[c]\n20                 VAL[c]\nName: aa_id, dtype: object"
     },
     "execution_count": 29,
     "metadata": {},
     "output_type": "execute_result"
    }
   ],
   "source": [
    "# N-end rule calculated protein degredation rates\n",
    "\n",
    "# Half lives of protein monomers are determined by the identity of their amino-terminal residues. Slow degradation is assumed for P and U. (Tobias et al, 1986)\n",
    "Nend_monomers = Nend_data.aa_id\n",
    "# TODO: this is the only one I am sort of not sure how stuff in it is defined? @Nora do you know what these are and how they could relate to protein/monomer names?\n",
    "Nend_monomers"
   ],
   "metadata": {
    "collapsed": false,
    "ExecuteTime": {
     "end_time": "2024-04-30T19:24:22.817762Z",
     "start_time": "2024-04-30T19:24:22.815869Z"
    }
   },
   "id": "1b663ecc042187e7"
  },
  {
   "cell_type": "code",
   "execution_count": 30,
   "outputs": [
    {
     "data": {
      "text/plain": "0                DCUR-MONOMER\n1    DETHIOBIOTIN-SYN-MONOMER\n2             EG10863-MONOMER\n3              CARBPSYN-SMALL\n4             EG10743-MONOMER\n5          GLUTCYSLIG-MONOMER\n6         CDPDIGLYSYN-MONOMER\nName: id, dtype: object"
     },
     "execution_count": 30,
     "metadata": {},
     "output_type": "execute_result"
    }
   ],
   "source": [
    "# Experimentally measured protein degredation rates \n",
    "\n",
    "# Measured half lives (from Macklin et al., 2020)\n",
    "exp_monomers = exp_data.id\n",
    "exp_monomers"
   ],
   "metadata": {
    "collapsed": false,
    "ExecuteTime": {
     "end_time": "2024-04-30T19:24:30.602376Z",
     "start_time": "2024-04-30T19:24:30.597721Z"
    }
   },
   "id": "b4866b59b92bec2a"
  },
  {
   "cell_type": "code",
   "execution_count": 31,
   "outputs": [
    {
     "data": {
      "text/plain": "0                   2-ISOPROPYLMALATESYN-MONOMER\n1       2-OCTAPRENYL-METHOXY-BENZOQ-METH-MONOMER\n2       3-CH3-2-OXOBUTANOATE-OH-CH3-XFER-MONOMER\n3                 3-ISOPROPYLMALDEHYDROG-MONOMER\n4                   3-OXOACYL-ACP-REDUCT-MONOMER\n                          ...                   \n1088                                        YIDC\n1089                                YJCX-MONOMER\n1090                                YJJK-MONOMER\n1091                                YLIB-MONOMER\n1092                                ZNUA-MONOMER\nName: id, Length: 1093, dtype: object"
     },
     "execution_count": 31,
     "metadata": {},
     "output_type": "execute_result"
    }
   ],
   "source": [
    "# ML DATA\n",
    "\n",
    "# Generated by reconstruction/ecoli/scripts/protein_half_lives/convert_to_flat.py on Mon May  9 13:39:16 2022 \n",
    "# using the methods in https://pubmed.ncbi.nlm.nih.gov/33531410/\n",
    "ML_monomers = ML_data.id\n",
    "ML_monomers"
   ],
   "metadata": {
    "collapsed": false,
    "ExecuteTime": {
     "end_time": "2024-04-30T19:24:36.199432Z",
     "start_time": "2024-04-30T19:24:36.195279Z"
    }
   },
   "id": "397e406265453915"
  },
  {
   "cell_type": "code",
   "execution_count": null,
   "outputs": [],
   "source": [
    "# New Data\n",
    "new_monomers = new_data[\"Protein name\"]\n",
    "new_genes = new_data[\"Gene name\"]"
   ],
   "metadata": {
    "collapsed": false
   },
   "id": "2be7c2c7af3b94bf"
  },
  {
   "cell_type": "markdown",
   "source": [
    "## Map the monomer names in the current data to gene names:"
   ],
   "metadata": {
    "collapsed": false
   },
   "id": "2ed967b173c8c0a4"
  },
  {
   "cell_type": "code",
   "execution_count": 66,
   "outputs": [],
   "source": [
    "# Obtain the gene id and monomer id mappings: \n",
    "\n",
    "rnas = pd.read_table(\"/Users/miagrahn/wcEcoli/reconstruction/ecoli/flat/rnas.tsv\", comment=\"#\")\n",
    "\n",
    "m_ids = rnas.monomer_ids\n",
    "monomer_ids = []\n",
    "for i in range(len(m_ids)):\n",
    "\tm = m_ids[i]\n",
    "\tm = m.replace(\"[\",\"\"); m = m.replace(\"]\",\"\")\n",
    "\tm = m.replace('\"','')\n",
    "\tmonomer_ids.append(m)\n",
    "\t\n",
    "gene_ids = rnas.gene_id\n",
    "gene_CNs = rnas.common_name\n",
    "\n",
    "# make organized libraries of monomer names to indexes: \n",
    "monomer_idx_dict = {id: i for i, id in enumerate(monomer_ids)}\n",
    "idx_monomer_dict = {idx: i for i, idx in monomer_idx_dict.items()}\n",
    "\n",
    "gene_idx_dict = {id: i for i, id in enumerate(gene_ids)}\n",
    "idx_gene_dict = {idx: i for i, idx in gene_idx_dict.items()}\n",
    "\n",
    "GCN_idx_dict = {id: i for i, id in enumerate(gene_CNs)}\n",
    "idx_GCN_dict = {idx: i for i, idx in GCN_idx_dict.items()}\n"
   ],
   "metadata": {
    "collapsed": false,
    "ExecuteTime": {
     "end_time": "2024-05-01T00:03:05.193561Z",
     "start_time": "2024-05-01T00:03:05.167417Z"
    }
   },
   "id": "8503f1b6485dae5f"
  },
  {
   "cell_type": "code",
   "execution_count": null,
   "outputs": [],
   "source": [
    "# Figure out which gene each monomer in the N end rule data set corresponds to: \n",
    "\n",
    "# TODO: figure out the amino acid part of this"
   ],
   "metadata": {
    "collapsed": false
   },
   "id": "1e0a234c6decafb"
  },
  {
   "cell_type": "code",
   "execution_count": 74,
   "outputs": [
    {
     "name": "stdout",
     "output_type": "stream",
     "text": [
      "7\n"
     ]
    }
   ],
   "source": [
    "# Figure out which gene each monomer in the experimental data set corresponds to: \n",
    "exp_match_Pids = []\n",
    "exp_match_idxs = [] \n",
    "exp_match_Gids = []\n",
    "exp_match_GCNids = []\n",
    "\n",
    "too_many_exp_match_Pidxs = []\n",
    "non_exp_match_Pids = []\n",
    "non_exp_match_Pidxs = []\n",
    "\n",
    "for i in range(len(exp_monomers)):\n",
    "\tm = str(exp_monomers[i])\n",
    "\tindex = [name for key, name in monomer_idx_dict.items() if m in key]\n",
    "\tif len(index) > 1: \n",
    "\t\tprint(\"too many?\")\n",
    "\t\ttoo_many_exp_match_Pidxs.append(index)\n",
    "\tif len(index) == 0:\n",
    "\t\tindex = index[0]\n",
    "\t\tnon_exp_match_Pids.append(m)\n",
    "\t\tnon_exp_match_Pidxs.append(i)\n",
    "\telse: \n",
    "\t\tindex = index[0]\n",
    "\t\texp_match_Pids.append(m)\n",
    "\t\texp_match_idxs.append(i)\n",
    "\t\tgene_id = idx_gene_dict.get(index)\n",
    "\t\texp_match_Gids.append(gene_id)\n",
    "\t\tgene_CN = idx_GCN_dict.get(index)\n",
    "\t\texp_match_GCNids.append(gene_CN)\n",
    "\t\t\n",
    "print(len(exp_match_Pids))"
   ],
   "metadata": {
    "collapsed": false,
    "ExecuteTime": {
     "end_time": "2024-05-01T00:07:43.513739Z",
     "start_time": "2024-05-01T00:07:43.507310Z"
    }
   },
   "id": "7a979c2af536eaf4"
  },
  {
   "cell_type": "code",
   "execution_count": 90,
   "outputs": [
    {
     "name": "stdout",
     "output_type": "stream",
     "text": [
      "too many?\n",
      "too many?\n",
      "too many?\n",
      "too many?\n",
      "too many?\n",
      "too many?\n",
      "1093\n",
      "6\n",
      "0\n"
     ]
    }
   ],
   "source": [
    "# Figure out which gene each monomer in the ML data set corresponds to: \n",
    "ML_match_Pids = []\n",
    "ML_match_idxs = [] \n",
    "ML_match_Gids = []\n",
    "ML_match_GCNids = []\n",
    "\n",
    "too_many_ML_match_Pids = []\n",
    "too_many_ML_match_Pidxs = []\n",
    "non_ML_match_Pids = []\n",
    "non_ML_match_Pidxs = []\n",
    "\n",
    "for i in range(len(ML_monomers)):\n",
    "\tm = str(ML_monomers[i])\n",
    "\t#TODO: figure out if we want exact == here or \"in\" here (it changes the result) \n",
    "\tindex = [name for key, name in monomer_idx_dict.items() if m in key]\n",
    "\tif len(index) > 1: \n",
    "\t\tprint(\"too many?\")\n",
    "\t\ttoo_many_ML_match_Pids.append(m)\n",
    "\t\ttoo_many_ML_match_Pidxs.append(index)\n",
    "\tif len(index) == 0:\n",
    "\t\tnon_ML_match_Pids.append(m)\n",
    "\t\tnon_ML_match_Pidxs.append(i)\n",
    "\telse: \n",
    "\t\tindex = index[0]\n",
    "\t\tML_match_Pids.append(m)\n",
    "\t\tML_match_idxs.append(i)\n",
    "\t\tgene_id = idx_gene_dict.get(index)\n",
    "\t\tML_match_Gids.append(gene_id)\n",
    "\t\tgene_CN = idx_GCN_dict.get(index)\n",
    "\t\tML_match_GCNids.append(gene_CN)\n",
    "\t\t\n",
    "print(len(ML_match_Pids))\n",
    "print(len(too_many_ML_match_Pidxs))\n",
    "print(len(non_ML_match_Pidxs))"
   ],
   "metadata": {
    "collapsed": false,
    "ExecuteTime": {
     "end_time": "2024-05-01T00:18:52.222711Z",
     "start_time": "2024-05-01T00:18:52.144469Z"
    }
   },
   "id": "2cba2da052bb86f3"
  },
  {
   "cell_type": "code",
   "execution_count": 91,
   "outputs": [
    {
     "data": {
      "text/plain": "['BIOTIN-SYN-MONOMER',\n 'GLUTKIN-MONOMER',\n 'GLYCEROL-3-P-ACYLTRANSFER-MONOMER',\n 'PKI-MONOMER',\n 'PROTEIN-NRI',\n 'THII-MONOMER']"
     },
     "execution_count": 91,
     "metadata": {},
     "output_type": "execute_result"
    }
   ],
   "source": [
    "too_many_ML_match_Pids"
   ],
   "metadata": {
    "collapsed": false,
    "ExecuteTime": {
     "end_time": "2024-05-01T00:18:59.833614Z",
     "start_time": "2024-05-01T00:18:59.819545Z"
    }
   },
   "id": "c2370428cfa1f615"
  },
  {
   "cell_type": "code",
   "execution_count": null,
   "outputs": [],
   "source": [],
   "metadata": {
    "collapsed": false
   },
   "id": "93dc262f8ed3ca38"
  }
 ],
 "metadata": {
  "kernelspec": {
   "display_name": "Python 3",
   "language": "python",
   "name": "python3"
  },
  "language_info": {
   "codemirror_mode": {
    "name": "ipython",
    "version": 2
   },
   "file_extension": ".py",
   "mimetype": "text/x-python",
   "name": "python",
   "nbconvert_exporter": "python",
   "pygments_lexer": "ipython2",
   "version": "2.7.6"
  }
 },
 "nbformat": 4,
 "nbformat_minor": 5
}
