{
 "cells": [
  {
   "cell_type": "code",
   "execution_count": null,
   "id": "initial_id",
   "metadata": {
    "collapsed": true
   },
   "outputs": [],
   "source": [
    "# this file is for temporarily matching figuring out how to match what we have in the model to the lit data \n",
    "# easier to debugg in here!\n"
   ]
  },
  {
   "cell_type": "code",
   "execution_count": 9,
   "outputs": [],
   "source": [
    "#import polars as pl\n",
    "import numpy as np\n",
    "from matplotlib import pyplot as plt\n",
    "import os\n",
    "import json\n",
    "import pandas as pd\n",
    "#import seaborn as sns\n",
    "from scipy.sparse import csr_matrix"
   ],
   "metadata": {
    "collapsed": false,
    "ExecuteTime": {
     "end_time": "2024-04-30T18:57:22.850166Z",
     "start_time": "2024-04-30T18:57:22.580194Z"
    }
   },
   "id": "5876ffd6517c0ea8"
  },
  {
   "cell_type": "code",
   "execution_count": 25,
   "outputs": [],
   "source": [
    "# Load in the data sources that we currently use: \n",
    "# TODO: not sure why, but I cannot figure out how to import these not using the absolute path...\n",
    "\n",
    "Nend_data = pd.read_table(\"/Users/miagrahn/wcEcoli/reconstruction/ecoli/flat/protein_half_lives_n_end_rule.tsv\", comment=\"#\")\n",
    "exp_data = pd.read_table(\"/Users/miagrahn/wcEcoli/reconstruction/ecoli/flat/protein_half_lives_measured.tsv\", comment=\"#\")\n",
    "ML_data = pd.read_table(\"/Users/miagrahn/wcEcoli/reconstruction/ecoli/flat/protein_half_lives_pulsed_silac.tsv\", comment=\"#\")"
   ],
   "metadata": {
    "collapsed": false,
    "ExecuteTime": {
     "end_time": "2024-04-30T19:22:40.530552Z",
     "start_time": "2024-04-30T19:22:40.522681Z"
    }
   },
   "id": "83b4b3522c19ae2b"
  },
  {
   "cell_type": "code",
   "execution_count": 32,
   "outputs": [],
   "source": [
    "# Load in the experimental data from the new paper (Gupta et al., 2023), Table S1 (https://www.biorxiv.org/content/10.1101/2022.08.01.502339v2.full): \n",
    "\n",
    "# Measured half lives (from Gupta et al., 2023 bioRxiv)\n",
    "new_data = pd.read_table(\"/Users/miagrahn/wcEcoli/reconstruction/ecoli/flat/protein_half_lives_gupta.tsv\", comment=\"#\")\n",
    "#TODO: figure out to read out the new data with out having to use my aboslute file path. NOt sure why it isnt working...."
   ],
   "metadata": {
    "collapsed": false,
    "ExecuteTime": {
     "end_time": "2024-04-30T19:38:07.635649Z",
     "start_time": "2024-04-30T19:38:07.626921Z"
    }
   },
   "id": "80e74bc9bfd3d51a"
  },
  {
   "cell_type": "markdown",
   "source": [
    "## figure out what all the current monomers in the model are:"
   ],
   "metadata": {
    "collapsed": false
   },
   "id": "3fb93afc9c90c1c2"
  },
  {
   "cell_type": "code",
   "execution_count": 29,
   "outputs": [
    {
     "data": {
      "text/plain": "0      L-ALPHA-ALANINE[c]\n1                  ARG[c]\n2                  ASN[c]\n3          L-ASPARTATE[c]\n4                  CYS[c]\n5                  GLT[c]\n6                  GLN[c]\n7                  GLY[c]\n8                  HIS[c]\n9                  ILE[c]\n10                 LEU[c]\n11                 LYS[c]\n12                 MET[c]\n13                 PHE[c]\n14                 PRO[c]\n15                 SER[c]\n16                 THR[c]\n17                 TRP[c]\n18                 TYR[c]\n19    L-SELENOCYSTEINE[c]\n20                 VAL[c]\nName: aa_id, dtype: object"
     },
     "execution_count": 29,
     "metadata": {},
     "output_type": "execute_result"
    }
   ],
   "source": [
    "# N-end rule calculated protein degredation rates\n",
    "\n",
    "# Half lives of protein monomers are determined by the identity of their amino-terminal residues. Slow degradation is assumed for P and U. (Tobias et al, 1986)\n",
    "Nend_monomers = Nend_data.aa_id\n",
    "# TODO: this is the only one I am sort of not sure how stuff in it is defined? @Nora do you know what these are and how they could relate to protein/monomer names?\n",
    "Nend_monomers"
   ],
   "metadata": {
    "collapsed": false,
    "ExecuteTime": {
     "end_time": "2024-04-30T19:24:22.817762Z",
     "start_time": "2024-04-30T19:24:22.815869Z"
    }
   },
   "id": "1b663ecc042187e7"
  },
  {
   "cell_type": "code",
   "execution_count": 30,
   "outputs": [
    {
     "data": {
      "text/plain": "0                DCUR-MONOMER\n1    DETHIOBIOTIN-SYN-MONOMER\n2             EG10863-MONOMER\n3              CARBPSYN-SMALL\n4             EG10743-MONOMER\n5          GLUTCYSLIG-MONOMER\n6         CDPDIGLYSYN-MONOMER\nName: id, dtype: object"
     },
     "execution_count": 30,
     "metadata": {},
     "output_type": "execute_result"
    }
   ],
   "source": [
    "# Experimentally measured protein degredation rates \n",
    "\n",
    "# Measured half lives (from Macklin et al., 2020)\n",
    "exp_monomers = exp_data.id\n",
    "exp_monomers"
   ],
   "metadata": {
    "collapsed": false,
    "ExecuteTime": {
     "end_time": "2024-04-30T19:24:30.602376Z",
     "start_time": "2024-04-30T19:24:30.597721Z"
    }
   },
   "id": "b4866b59b92bec2a"
  },
  {
   "cell_type": "code",
   "execution_count": 31,
   "outputs": [
    {
     "data": {
      "text/plain": "0                   2-ISOPROPYLMALATESYN-MONOMER\n1       2-OCTAPRENYL-METHOXY-BENZOQ-METH-MONOMER\n2       3-CH3-2-OXOBUTANOATE-OH-CH3-XFER-MONOMER\n3                 3-ISOPROPYLMALDEHYDROG-MONOMER\n4                   3-OXOACYL-ACP-REDUCT-MONOMER\n                          ...                   \n1088                                        YIDC\n1089                                YJCX-MONOMER\n1090                                YJJK-MONOMER\n1091                                YLIB-MONOMER\n1092                                ZNUA-MONOMER\nName: id, Length: 1093, dtype: object"
     },
     "execution_count": 31,
     "metadata": {},
     "output_type": "execute_result"
    }
   ],
   "source": [
    "# ML DATA\n",
    "\n",
    "# Generated by reconstruction/ecoli/scripts/protein_half_lives/convert_to_flat.py on Mon May  9 13:39:16 2022 \n",
    "# using the methods in https://pubmed.ncbi.nlm.nih.gov/33531410/\n",
    "ML_monomers = ML_data.id\n",
    "ML_monomers"
   ],
   "metadata": {
    "collapsed": false,
    "ExecuteTime": {
     "end_time": "2024-04-30T19:24:36.199432Z",
     "start_time": "2024-04-30T19:24:36.195279Z"
    }
   },
   "id": "397e406265453915"
  },
  {
   "cell_type": "code",
   "execution_count": 102,
   "outputs": [],
   "source": [
    "# New Data\n",
    "new_monomers = new_data[\"Protein name\"]\n",
    "new_genes = new_data[\"Gene name\"]"
   ],
   "metadata": {
    "collapsed": false,
    "ExecuteTime": {
     "end_time": "2024-05-05T00:29:56.868383Z",
     "start_time": "2024-05-05T00:29:56.859191Z"
    }
   },
   "id": "2be7c2c7af3b94bf"
  },
  {
   "cell_type": "markdown",
   "source": [
    "## Map the monomer names in the current data to gene names:"
   ],
   "metadata": {
    "collapsed": false
   },
   "id": "2ed967b173c8c0a4"
  },
  {
   "cell_type": "code",
   "execution_count": 66,
   "outputs": [],
   "source": [
    "# Obtain the gene id and monomer id mappings: \n",
    "\n",
    "rnas = pd.read_table(\"/Users/miagrahn/wcEcoli/reconstruction/ecoli/flat/rnas.tsv\", comment=\"#\")\n",
    "\n",
    "m_ids = rnas.monomer_ids\n",
    "monomer_ids = []\n",
    "for i in range(len(m_ids)):\n",
    "\tm = m_ids[i]\n",
    "\tm = m.replace(\"[\",\"\"); m = m.replace(\"]\",\"\")\n",
    "\tm = m.replace('\"','')\n",
    "\tmonomer_ids.append(m)\n",
    "\t\n",
    "gene_ids = rnas.gene_id\n",
    "gene_CNs = rnas.common_name\n",
    "\n",
    "# make organized libraries of monomer names to indexes: \n",
    "monomer_idx_dict = {id: i for i, id in enumerate(monomer_ids)}\n",
    "idx_monomer_dict = {idx: i for i, idx in monomer_idx_dict.items()}\n",
    "\n",
    "gene_idx_dict = {id: i for i, id in enumerate(gene_ids)}\n",
    "idx_gene_dict = {idx: i for i, idx in gene_idx_dict.items()}\n",
    "\n",
    "GCN_idx_dict = {id: i for i, id in enumerate(gene_CNs)}\n",
    "idx_GCN_dict = {idx: i for i, idx in GCN_idx_dict.items()}\n"
   ],
   "metadata": {
    "collapsed": false,
    "ExecuteTime": {
     "end_time": "2024-05-01T00:03:05.193561Z",
     "start_time": "2024-05-01T00:03:05.167417Z"
    }
   },
   "id": "8503f1b6485dae5f"
  },
  {
   "cell_type": "code",
   "execution_count": null,
   "outputs": [],
   "source": [
    "# Figure out which gene each monomer in the N end rule data set corresponds to: \n",
    "\n",
    "# TODO: figure out the amino acid part of this\n",
    "# TODO: i think that these ones might be included in the list for the exp data anyway, double check with nora what she thinks by just showing her what the exp_data looks lik e"
   ],
   "metadata": {
    "collapsed": false
   },
   "id": "1e0a234c6decafb"
  },
  {
   "cell_type": "code",
   "execution_count": 101,
   "outputs": [
    {
     "name": "stdout",
     "output_type": "stream",
     "text": [
      "7\n"
     ]
    },
    {
     "data": {
      "text/plain": "['DCUR-MONOMER',\n 'DETHIOBIOTIN-SYN-MONOMER',\n 'EG10863-MONOMER',\n 'CARBPSYN-SMALL',\n 'EG10743-MONOMER',\n 'GLUTCYSLIG-MONOMER',\n 'CDPDIGLYSYN-MONOMER']"
     },
     "execution_count": 101,
     "metadata": {},
     "output_type": "execute_result"
    }
   ],
   "source": [
    "# Figure out which gene each monomer in the experimental data set corresponds to: \n",
    "exp_match_Pids = []\n",
    "exp_match_idxs = [] \n",
    "exp_match_Gids = []\n",
    "exp_match_GCNids = []\n",
    "\n",
    "too_many_exp_match_Pidxs = []\n",
    "non_exp_match_Pids = []\n",
    "non_exp_match_Pidxs = []\n",
    "\n",
    "for i in range(len(exp_monomers)):\n",
    "\tm = str(exp_monomers[i])\n",
    "\tindex = [name for key, name in monomer_idx_dict.items() if m in key]\n",
    "\tif len(index) > 1: \n",
    "\t\tprint(\"too many?\")\n",
    "\t\ttoo_many_exp_match_Pidxs.append(index)\n",
    "\tif len(index) == 0:\n",
    "\t\tindex = index[0]\n",
    "\t\tnon_exp_match_Pids.append(m)\n",
    "\t\tnon_exp_match_Pidxs.append(i)\n",
    "\telse: \n",
    "\t\tindex = index[0]\n",
    "\t\texp_match_Pids.append(m)\n",
    "\t\texp_match_idxs.append(i)\n",
    "\t\tgene_id = idx_gene_dict.get(index)\n",
    "\t\texp_match_Gids.append(gene_id)\n",
    "\t\tgene_CN = idx_GCN_dict.get(index)\n",
    "\t\texp_match_GCNids.append(gene_CN)\n",
    "\t\t\n",
    "print(len(exp_match_Pids))\n",
    "exp_match_Pids"
   ],
   "metadata": {
    "collapsed": false,
    "ExecuteTime": {
     "end_time": "2024-05-05T00:25:58.353252Z",
     "start_time": "2024-05-05T00:25:58.348345Z"
    }
   },
   "id": "7a979c2af536eaf4"
  },
  {
   "cell_type": "code",
   "execution_count": 98,
   "outputs": [
    {
     "name": "stdout",
     "output_type": "stream",
     "text": [
      "1087\n",
      "0\n",
      "6\n"
     ]
    }
   ],
   "source": [
    "# Figure out which gene each monomer in the ML data set corresponds to: \n",
    "ML_match_Pids = []\n",
    "ML_match_idxs = [] \n",
    "ML_match_Gids = []\n",
    "ML_match_GCNids = []\n",
    "\n",
    "too_many_ML_match_Pids = []\n",
    "too_many_ML_match_Pidxs = []\n",
    "non_ML_match_Pids = []\n",
    "non_ML_match_Pidxs = []\n",
    "\n",
    "for i in range(len(ML_monomers)):\n",
    "\tm = str(ML_monomers[i])\n",
    "\t#TODO: figure out if we want exact == here or \"in\" here (it changes the result) \n",
    "\tindex = [name for key, name in monomer_idx_dict.items() if m == key]\n",
    "\tif len(index) > 1: \n",
    "\t\tprint(\"too many?\")\n",
    "\t\tprint(index)\n",
    "\t\tprint(m)\n",
    "\t\ttoo_many_ML_match_Pids.append(m)\n",
    "\t\ttoo_many_ML_match_Pidxs.append(index)\n",
    "\tif len(index) == 0:\n",
    "\t\tnon_ML_match_Pids.append(m)\n",
    "\t\tnon_ML_match_Pidxs.append(i)\n",
    "\telse: \n",
    "\t\tindex = index[0]\n",
    "\t\tML_match_Pids.append(m)\n",
    "\t\tML_match_idxs.append(i)\n",
    "\t\tgene_id = idx_gene_dict.get(index)\n",
    "\t\tML_match_Gids.append(gene_id)\n",
    "\t\tgene_CN = idx_GCN_dict.get(index)\n",
    "\t\tML_match_GCNids.append(gene_CN)\n",
    "\t\t\n",
    "print(len(ML_match_Pids))\n",
    "print(len(too_many_ML_match_Pidxs))\n",
    "print(len(non_ML_match_Pidxs))"
   ],
   "metadata": {
    "collapsed": false,
    "ExecuteTime": {
     "end_time": "2024-05-05T00:25:00.618522Z",
     "start_time": "2024-05-05T00:25:00.571918Z"
    }
   },
   "id": "2cba2da052bb86f3"
  },
  {
   "cell_type": "code",
   "execution_count": 103,
   "outputs": [
    {
     "data": {
      "text/plain": "4748"
     },
     "execution_count": 103,
     "metadata": {},
     "output_type": "execute_result"
    }
   ],
   "source": [
    "len(monomer_ids)\n",
    "# TODO: why do none of the current data add up to this 4748 number? shouldnt they?"
   ],
   "metadata": {
    "collapsed": false,
    "ExecuteTime": {
     "end_time": "2024-05-05T00:32:05.740918Z",
     "start_time": "2024-05-05T00:32:05.722290Z"
    }
   },
   "id": "81f93f73415e5e70"
  },
  {
   "cell_type": "code",
   "execution_count": 104,
   "outputs": [
    {
     "data": {
      "text/plain": "1093"
     },
     "execution_count": 104,
     "metadata": {},
     "output_type": "execute_result"
    }
   ],
   "source": [
    "len(ML_monomers)"
   ],
   "metadata": {
    "collapsed": false,
    "ExecuteTime": {
     "end_time": "2024-05-05T00:32:27.379489Z",
     "start_time": "2024-05-05T00:32:27.360451Z"
    }
   },
   "id": "f83e93ff544c153d"
  },
  {
   "cell_type": "code",
   "execution_count": 109,
   "outputs": [
    {
     "data": {
      "text/plain": "21"
     },
     "execution_count": 109,
     "metadata": {},
     "output_type": "execute_result"
    }
   ],
   "source": [
    "len(Nend_monomers)"
   ],
   "metadata": {
    "collapsed": false,
    "ExecuteTime": {
     "end_time": "2024-05-05T00:51:09.065572Z",
     "start_time": "2024-05-05T00:51:09.056507Z"
    }
   },
   "id": "757cbd551f57aa0d"
  },
  {
   "cell_type": "code",
   "execution_count": 115,
   "outputs": [
    {
     "data": {
      "text/plain": "                         id  half life (units.min)   \n0              DCUR-MONOMER                    108  \\\n1  DETHIOBIOTIN-SYN-MONOMER                    324   \n2           EG10863-MONOMER                     36   \n3            CARBPSYN-SMALL                    846   \n4           EG10743-MONOMER                    972   \n5        GLUTCYSLIG-MONOMER                   2382   \n6       CDPDIGLYSYN-MONOMER                    600   \n\n                                           _comments  \n0                                               DcuR  \n1                                               BioD  \n2                                                Rph  \n3                                               CarA  \n4                                                Pnp  \n5                                               GshA  \n6  CdsA, unable to measure exactly but measured a...  ",
      "text/html": "<div>\n<style scoped>\n    .dataframe tbody tr th:only-of-type {\n        vertical-align: middle;\n    }\n\n    .dataframe tbody tr th {\n        vertical-align: top;\n    }\n\n    .dataframe thead th {\n        text-align: right;\n    }\n</style>\n<table border=\"1\" class=\"dataframe\">\n  <thead>\n    <tr style=\"text-align: right;\">\n      <th></th>\n      <th>id</th>\n      <th>half life (units.min)</th>\n      <th>_comments</th>\n    </tr>\n  </thead>\n  <tbody>\n    <tr>\n      <th>0</th>\n      <td>DCUR-MONOMER</td>\n      <td>108</td>\n      <td>DcuR</td>\n    </tr>\n    <tr>\n      <th>1</th>\n      <td>DETHIOBIOTIN-SYN-MONOMER</td>\n      <td>324</td>\n      <td>BioD</td>\n    </tr>\n    <tr>\n      <th>2</th>\n      <td>EG10863-MONOMER</td>\n      <td>36</td>\n      <td>Rph</td>\n    </tr>\n    <tr>\n      <th>3</th>\n      <td>CARBPSYN-SMALL</td>\n      <td>846</td>\n      <td>CarA</td>\n    </tr>\n    <tr>\n      <th>4</th>\n      <td>EG10743-MONOMER</td>\n      <td>972</td>\n      <td>Pnp</td>\n    </tr>\n    <tr>\n      <th>5</th>\n      <td>GLUTCYSLIG-MONOMER</td>\n      <td>2382</td>\n      <td>GshA</td>\n    </tr>\n    <tr>\n      <th>6</th>\n      <td>CDPDIGLYSYN-MONOMER</td>\n      <td>600</td>\n      <td>CdsA, unable to measure exactly but measured a...</td>\n    </tr>\n  </tbody>\n</table>\n</div>"
     },
     "execution_count": 115,
     "metadata": {},
     "output_type": "execute_result"
    }
   ],
   "source": [
    "exp_data"
   ],
   "metadata": {
    "collapsed": false,
    "ExecuteTime": {
     "end_time": "2024-05-06T17:14:02.731501Z",
     "start_time": "2024-05-06T17:14:02.720674Z"
    }
   },
   "id": "4c60324642f4760c"
  },
  {
   "cell_type": "code",
   "execution_count": 116,
   "outputs": [
    {
     "data": {
      "text/plain": "       GCN  gene id                monomer id     PDR\n0     dcuR    G7826              DCUR-MONOMER   108.0\n1     bioD  EG10120  DETHIOBIOTIN-SYN-MONOMER   324.0\n2      rph  EG10863           EG10863-MONOMER    36.0\n3     carA  EG10134            CARBPSYN-SMALL   846.0\n4      pnp  EG10743           EG10743-MONOMER   972.0\n...    ...      ...                       ...     ...\n1089  yidC  EG11197                      YIDC   241.4\n1090  alsB  EG12458              YJCX-MONOMER    51.3\n1091  ettA  EG12343              YJJK-MONOMER  2829.2\n1092  gsiB    G6430              YLIB-MONOMER   254.1\n1093  znuA    G7017              ZNUA-MONOMER  5000.0\n\n[1094 rows x 4 columns]",
      "text/html": "<div>\n<style scoped>\n    .dataframe tbody tr th:only-of-type {\n        vertical-align: middle;\n    }\n\n    .dataframe tbody tr th {\n        vertical-align: top;\n    }\n\n    .dataframe thead th {\n        text-align: right;\n    }\n</style>\n<table border=\"1\" class=\"dataframe\">\n  <thead>\n    <tr style=\"text-align: right;\">\n      <th></th>\n      <th>GCN</th>\n      <th>gene id</th>\n      <th>monomer id</th>\n      <th>PDR</th>\n    </tr>\n  </thead>\n  <tbody>\n    <tr>\n      <th>0</th>\n      <td>dcuR</td>\n      <td>G7826</td>\n      <td>DCUR-MONOMER</td>\n      <td>108.0</td>\n    </tr>\n    <tr>\n      <th>1</th>\n      <td>bioD</td>\n      <td>EG10120</td>\n      <td>DETHIOBIOTIN-SYN-MONOMER</td>\n      <td>324.0</td>\n    </tr>\n    <tr>\n      <th>2</th>\n      <td>rph</td>\n      <td>EG10863</td>\n      <td>EG10863-MONOMER</td>\n      <td>36.0</td>\n    </tr>\n    <tr>\n      <th>3</th>\n      <td>carA</td>\n      <td>EG10134</td>\n      <td>CARBPSYN-SMALL</td>\n      <td>846.0</td>\n    </tr>\n    <tr>\n      <th>4</th>\n      <td>pnp</td>\n      <td>EG10743</td>\n      <td>EG10743-MONOMER</td>\n      <td>972.0</td>\n    </tr>\n    <tr>\n      <th>...</th>\n      <td>...</td>\n      <td>...</td>\n      <td>...</td>\n      <td>...</td>\n    </tr>\n    <tr>\n      <th>1089</th>\n      <td>yidC</td>\n      <td>EG11197</td>\n      <td>YIDC</td>\n      <td>241.4</td>\n    </tr>\n    <tr>\n      <th>1090</th>\n      <td>alsB</td>\n      <td>EG12458</td>\n      <td>YJCX-MONOMER</td>\n      <td>51.3</td>\n    </tr>\n    <tr>\n      <th>1091</th>\n      <td>ettA</td>\n      <td>EG12343</td>\n      <td>YJJK-MONOMER</td>\n      <td>2829.2</td>\n    </tr>\n    <tr>\n      <th>1092</th>\n      <td>gsiB</td>\n      <td>G6430</td>\n      <td>YLIB-MONOMER</td>\n      <td>254.1</td>\n    </tr>\n    <tr>\n      <th>1093</th>\n      <td>znuA</td>\n      <td>G7017</td>\n      <td>ZNUA-MONOMER</td>\n      <td>5000.0</td>\n    </tr>\n  </tbody>\n</table>\n<p>1094 rows × 4 columns</p>\n</div>"
     },
     "execution_count": 116,
     "metadata": {},
     "output_type": "execute_result"
    }
   ],
   "source": [
    "# complie a list of ALL the current commen name gene ids from the current model data:\n",
    "old_GCNs = exp_match_GCNids + ML_match_GCNids\n",
    "old_genes = exp_match_Gids + ML_match_Gids\n",
    "old_monomers = exp_match_Pids + ML_match_Pids\n",
    "\n",
    "# find the protein degradation rate constant for each known set of indices:\n",
    "exp_match_PDRs = []\n",
    "for i in exp_match_idxs:\n",
    "\tPDR = exp_data[\"half life (units.min)\"][i]\n",
    "\texp_match_PDRs.append(PDR)\n",
    "\t\n",
    "ML_match_PDRs = []\n",
    "for i in ML_match_idxs:\n",
    "\tPDR = ML_data[\"half_life (units.min)\"][i]\n",
    "\tML_match_PDRs.append(PDR)\n",
    "\t\n",
    "# put all the protein deg rates together: \n",
    "old_PDRs = exp_match_PDRs + ML_match_PDRs\n",
    "\n",
    "old_data = {'GCN': old_GCNs, 'gene id': old_genes, 'monomer id': old_monomers, 'PDR': old_PDRs}\n",
    "old_df = pd.DataFrame(old_data)\n",
    "old_df"
   ],
   "metadata": {
    "collapsed": false,
    "ExecuteTime": {
     "end_time": "2024-05-06T18:30:47.886309Z",
     "start_time": "2024-05-06T18:30:47.882413Z"
    }
   },
   "id": "bdbcee84980d039"
  },
  {
   "cell_type": "markdown",
   "source": [
    "## Map the new data to the monomers in the model:"
   ],
   "metadata": {
    "collapsed": false
   },
   "id": "5ea5fbd7d7e36c65"
  },
  {
   "cell_type": "code",
   "execution_count": 106,
   "outputs": [
    {
     "name": "stdout",
     "output_type": "stream",
     "text": [
      "0\n",
      "0\n",
      "3253\n"
     ]
    }
   ],
   "source": [
    "# Figure out which gene each monomer in the new data set corresponds to: \n",
    "# TODO: so note that none of the new data monomers match the names in the original monomer list, so maybe compare the gene id directly since I have it \n",
    "new_match_Pids = []\n",
    "new_match_idxs = [] \n",
    "new_match_Gids = []\n",
    "new_match_GCNids = []\n",
    "\n",
    "too_many_new_match_Pids = []\n",
    "too_many_new_match_Pidxs = []\n",
    "non_new_match_Pids = []\n",
    "non_new_match_Pidxs = []\n",
    "\n",
    "for i in range(len(new_monomers)):\n",
    "\tm = str(new_monomers[i])\n",
    "\tindex = [name for key, name in monomer_idx_dict.items() if m == key]\n",
    "\tif len(index) > 1: \n",
    "\t\tprint(\"too many?\")\n",
    "\t\ttoo_many_new_match_Pids.append(m)\n",
    "\t\ttoo_many_new_match_Pidxs.append(index)\n",
    "\tif len(index) == 0:\n",
    "\t\tnon_new_match_Pids.append(m)\n",
    "\t\tnon_new_match_Pidxs.append(i)\n",
    "\telse: \n",
    "\t\tindex = index[0]\n",
    "\t\tnew_match_Pids.append(m)\n",
    "\t\tnew_match_idxs.append(i)\n",
    "\t\tgene_id = idx_gene_dict.get(index)\n",
    "\t\tnew_match_Gids.append(gene_id)\n",
    "\t\tgene_CN = idx_GCN_dict.get(index)\n",
    "\t\tnew_match_GCNids.append(gene_CN)\n",
    "\t\t\n",
    "print(len(new_match_Pids))\n",
    "print(len(too_many_new_match_Pidxs))\n",
    "print(len(non_new_match_Pidxs))"
   ],
   "metadata": {
    "collapsed": false,
    "ExecuteTime": {
     "end_time": "2024-05-05T00:49:29.830860Z",
     "start_time": "2024-05-05T00:49:29.625986Z"
    }
   },
   "id": "56753c1021eb8e82"
  },
  {
   "cell_type": "code",
   "execution_count": 111,
   "outputs": [
    {
     "name": "stdout",
     "output_type": "stream",
     "text": [
      "3089\n",
      "0\n",
      "3253\n"
     ]
    }
   ],
   "source": [
    "# Map new data gene common names matched to those in the current model entire list: \n",
    "# TODO: ask nora what to do about the fact that some of the protiens/genes in the new data that do not have a rate constant reported for them ( like towards the bottom of the excel, you can see not all protiens have a rate reported for them. should we be filtering those out first somehow?) RN i think its sort of doing all of them, I need to change that (i can only see the first 100 in the short preview too)\n",
    "new_match_Pids = []\n",
    "new_match_idxs = [] \n",
    "new_match_Gids = []\n",
    "new_match_GCNids = []\n",
    "\n",
    "too_many_new_match_GCNids = []\n",
    "too_many_new_match_GCNidxs = []\n",
    "non_new_match_GCNids = []\n",
    "non_new_match_GCNidxs = []\n",
    "\n",
    "for i in range(len(new_genes)):\n",
    "\tm = str(new_genes[i])\n",
    "\tindex = [name for key, name in GCN_idx_dict.items() if m == key]\n",
    "\tif len(index) > 1: \n",
    "\t\tprint(\"too many?\")\n",
    "\t\ttoo_many_new_match_GCNids.append(m)\n",
    "\t\ttoo_many_new_match_GCNidxs.append(index)\n",
    "\tif len(index) == 0:\n",
    "\t\tnon_new_match_GCNids.append(m)\n",
    "\t\tnon_new_match_GCNidxs.append(i)\n",
    "\telse: \n",
    "\t\tindex = index[0]\n",
    "\t\tnew_match_GCNids.append(m)\n",
    "\t\tnew_match_idxs.append(i)\n",
    "\t\tgene_id = idx_gene_dict.get(index)\n",
    "\t\tnew_match_Gids.append(gene_id)\n",
    "\t\tmonomer_id = idx_monomer_dict.get(index)\n",
    "\t\tnew_match_Pids.append(monomer_id)\n",
    "\t\t\n",
    "print(len(new_match_Pids))\n",
    "print(len(too_many_new_match_Pidxs))\n",
    "print(len(non_new_match_Pidxs))"
   ],
   "metadata": {
    "collapsed": false,
    "ExecuteTime": {
     "end_time": "2024-05-05T00:55:43.619577Z",
     "start_time": "2024-05-05T00:55:43.411880Z"
    }
   },
   "id": "b8d5a5b92fd43306"
  },
  {
   "cell_type": "code",
   "execution_count": 117,
   "outputs": [
    {
     "data": {
      "text/plain": "      Unnamed: 0 Uniprot accession Protein name Gene name  MinimalMedia_1   \n0              1            A5A614   YCIZ_ECOLI      yciZ        0.442631  \\\n1              2            O32583   THIS_ECOLI      thiS        0.424812   \n2              3            P00350   6PGD_ECOLI       gnd        0.902359   \n3              4            P00363   FRDA_ECOLI      frdA        0.768480   \n4              5            P00370   DHE4_ECOLI      gdhA        0.759368   \n...          ...               ...          ...       ...             ...   \n3248        3249            P77736   YAHD_ECOLI      yahD             NaN   \n3249        3250            Q2M7X4   YICS_ECOLI      yicS             NaN   \n3250        3251            Q46796   YGEP_ECOLI      ygeP             NaN   \n3251        3252            Q47013   ELAD_ECOLI      elaD             NaN   \n3252        3253            Q47538   TAUB_ECOLI      tauB             NaN   \n\n      MinimalMedia_2  MinimalMedia_mean  \n0                NaN           0.442631  \n1           0.673641           0.549227  \n2           0.798815           0.850587  \n3           0.780088           0.774284  \n4           0.670745           0.715057  \n...              ...                ...  \n3248             NaN                NaN  \n3249             NaN                NaN  \n3250             NaN                NaN  \n3251             NaN                NaN  \n3252             NaN                NaN  \n\n[3253 rows x 7 columns]",
      "text/html": "<div>\n<style scoped>\n    .dataframe tbody tr th:only-of-type {\n        vertical-align: middle;\n    }\n\n    .dataframe tbody tr th {\n        vertical-align: top;\n    }\n\n    .dataframe thead th {\n        text-align: right;\n    }\n</style>\n<table border=\"1\" class=\"dataframe\">\n  <thead>\n    <tr style=\"text-align: right;\">\n      <th></th>\n      <th>Unnamed: 0</th>\n      <th>Uniprot accession</th>\n      <th>Protein name</th>\n      <th>Gene name</th>\n      <th>MinimalMedia_1</th>\n      <th>MinimalMedia_2</th>\n      <th>MinimalMedia_mean</th>\n    </tr>\n  </thead>\n  <tbody>\n    <tr>\n      <th>0</th>\n      <td>1</td>\n      <td>A5A614</td>\n      <td>YCIZ_ECOLI</td>\n      <td>yciZ</td>\n      <td>0.442631</td>\n      <td>NaN</td>\n      <td>0.442631</td>\n    </tr>\n    <tr>\n      <th>1</th>\n      <td>2</td>\n      <td>O32583</td>\n      <td>THIS_ECOLI</td>\n      <td>thiS</td>\n      <td>0.424812</td>\n      <td>0.673641</td>\n      <td>0.549227</td>\n    </tr>\n    <tr>\n      <th>2</th>\n      <td>3</td>\n      <td>P00350</td>\n      <td>6PGD_ECOLI</td>\n      <td>gnd</td>\n      <td>0.902359</td>\n      <td>0.798815</td>\n      <td>0.850587</td>\n    </tr>\n    <tr>\n      <th>3</th>\n      <td>4</td>\n      <td>P00363</td>\n      <td>FRDA_ECOLI</td>\n      <td>frdA</td>\n      <td>0.768480</td>\n      <td>0.780088</td>\n      <td>0.774284</td>\n    </tr>\n    <tr>\n      <th>4</th>\n      <td>5</td>\n      <td>P00370</td>\n      <td>DHE4_ECOLI</td>\n      <td>gdhA</td>\n      <td>0.759368</td>\n      <td>0.670745</td>\n      <td>0.715057</td>\n    </tr>\n    <tr>\n      <th>...</th>\n      <td>...</td>\n      <td>...</td>\n      <td>...</td>\n      <td>...</td>\n      <td>...</td>\n      <td>...</td>\n      <td>...</td>\n    </tr>\n    <tr>\n      <th>3248</th>\n      <td>3249</td>\n      <td>P77736</td>\n      <td>YAHD_ECOLI</td>\n      <td>yahD</td>\n      <td>NaN</td>\n      <td>NaN</td>\n      <td>NaN</td>\n    </tr>\n    <tr>\n      <th>3249</th>\n      <td>3250</td>\n      <td>Q2M7X4</td>\n      <td>YICS_ECOLI</td>\n      <td>yicS</td>\n      <td>NaN</td>\n      <td>NaN</td>\n      <td>NaN</td>\n    </tr>\n    <tr>\n      <th>3250</th>\n      <td>3251</td>\n      <td>Q46796</td>\n      <td>YGEP_ECOLI</td>\n      <td>ygeP</td>\n      <td>NaN</td>\n      <td>NaN</td>\n      <td>NaN</td>\n    </tr>\n    <tr>\n      <th>3251</th>\n      <td>3252</td>\n      <td>Q47013</td>\n      <td>ELAD_ECOLI</td>\n      <td>elaD</td>\n      <td>NaN</td>\n      <td>NaN</td>\n      <td>NaN</td>\n    </tr>\n    <tr>\n      <th>3252</th>\n      <td>3253</td>\n      <td>Q47538</td>\n      <td>TAUB_ECOLI</td>\n      <td>tauB</td>\n      <td>NaN</td>\n      <td>NaN</td>\n      <td>NaN</td>\n    </tr>\n  </tbody>\n</table>\n<p>3253 rows × 7 columns</p>\n</div>"
     },
     "execution_count": 117,
     "metadata": {},
     "output_type": "execute_result"
    }
   ],
   "source": [
    "new_data"
   ],
   "metadata": {
    "collapsed": false,
    "ExecuteTime": {
     "end_time": "2024-05-06T18:32:51.950104Z",
     "start_time": "2024-05-06T18:32:51.947382Z"
    }
   },
   "id": "fe31b35c1d545fe7"
  },
  {
   "cell_type": "code",
   "execution_count": 118,
   "outputs": [
    {
     "data": {
      "text/plain": "       GCN   gene id                monomer id       PDR\n0     yciZ  G0-10591             MONOMER0-2820  0.442631\n1     thiS        G1              THIS-MONOMER  0.549227\n2      gnd   EG10411  6PGLUCONDEHYDROG-MONOMER  0.850587\n3     frdA   EG10330                 FUM-FLAVO  0.774284\n4     gdhA   EG10372              GDHA-MONOMER  0.715057\n...    ...       ...                       ...       ...\n3084  yahD     G6183             G6183-MONOMER       NaN\n3085  yicS  G0-10469             MONOMER0-2691       NaN\n3086  ygeP     G7482             G7482-MONOMER       NaN\n3087  elaD     G7176             G7176-MONOMER       NaN\n3088  tauB     G6218              TAUB-MONOMER       NaN\n\n[3089 rows x 4 columns]",
      "text/html": "<div>\n<style scoped>\n    .dataframe tbody tr th:only-of-type {\n        vertical-align: middle;\n    }\n\n    .dataframe tbody tr th {\n        vertical-align: top;\n    }\n\n    .dataframe thead th {\n        text-align: right;\n    }\n</style>\n<table border=\"1\" class=\"dataframe\">\n  <thead>\n    <tr style=\"text-align: right;\">\n      <th></th>\n      <th>GCN</th>\n      <th>gene id</th>\n      <th>monomer id</th>\n      <th>PDR</th>\n    </tr>\n  </thead>\n  <tbody>\n    <tr>\n      <th>0</th>\n      <td>yciZ</td>\n      <td>G0-10591</td>\n      <td>MONOMER0-2820</td>\n      <td>0.442631</td>\n    </tr>\n    <tr>\n      <th>1</th>\n      <td>thiS</td>\n      <td>G1</td>\n      <td>THIS-MONOMER</td>\n      <td>0.549227</td>\n    </tr>\n    <tr>\n      <th>2</th>\n      <td>gnd</td>\n      <td>EG10411</td>\n      <td>6PGLUCONDEHYDROG-MONOMER</td>\n      <td>0.850587</td>\n    </tr>\n    <tr>\n      <th>3</th>\n      <td>frdA</td>\n      <td>EG10330</td>\n      <td>FUM-FLAVO</td>\n      <td>0.774284</td>\n    </tr>\n    <tr>\n      <th>4</th>\n      <td>gdhA</td>\n      <td>EG10372</td>\n      <td>GDHA-MONOMER</td>\n      <td>0.715057</td>\n    </tr>\n    <tr>\n      <th>...</th>\n      <td>...</td>\n      <td>...</td>\n      <td>...</td>\n      <td>...</td>\n    </tr>\n    <tr>\n      <th>3084</th>\n      <td>yahD</td>\n      <td>G6183</td>\n      <td>G6183-MONOMER</td>\n      <td>NaN</td>\n    </tr>\n    <tr>\n      <th>3085</th>\n      <td>yicS</td>\n      <td>G0-10469</td>\n      <td>MONOMER0-2691</td>\n      <td>NaN</td>\n    </tr>\n    <tr>\n      <th>3086</th>\n      <td>ygeP</td>\n      <td>G7482</td>\n      <td>G7482-MONOMER</td>\n      <td>NaN</td>\n    </tr>\n    <tr>\n      <th>3087</th>\n      <td>elaD</td>\n      <td>G7176</td>\n      <td>G7176-MONOMER</td>\n      <td>NaN</td>\n    </tr>\n    <tr>\n      <th>3088</th>\n      <td>tauB</td>\n      <td>G6218</td>\n      <td>TAUB-MONOMER</td>\n      <td>NaN</td>\n    </tr>\n  </tbody>\n</table>\n<p>3089 rows × 4 columns</p>\n</div>"
     },
     "execution_count": 118,
     "metadata": {},
     "output_type": "execute_result"
    }
   ],
   "source": [
    "# complie a list of ALL the new commen name gene ids from the current model data:\n",
    "# TODO: ask nora waht the units are on these PDRs \n",
    "\n",
    "# find the protein degradation rate constant for each known set of indices:\n",
    "new_match_PDRs = []\n",
    "for i in new_match_idxs:\n",
    "\tPDR = new_data[\"MinimalMedia_mean\"][i]\n",
    "\tnew_match_PDRs.append(PDR)\n",
    "\n",
    "new_df_data = {'GCN': new_match_GCNids, 'gene id': new_match_Gids, 'monomer id': new_match_Pids, 'PDR': new_match_PDRs}\n",
    "new_df = pd.DataFrame(new_df_data)\n",
    "new_df"
   ],
   "metadata": {
    "collapsed": false,
    "ExecuteTime": {
     "end_time": "2024-05-06T18:34:41.052258Z",
     "start_time": "2024-05-06T18:34:41.031183Z"
    }
   },
   "id": "d8653f0f0b92cba8"
  },
  {
   "cell_type": "code",
   "execution_count": 125,
   "outputs": [
    {
     "data": {
      "text/plain": "       GCN  gene id                monomer id   new PDR  old PDR\n0      gnd  EG10411  6PGLUCONDEHYDROG-MONOMER  0.850587    390.7\n1     gdhA  EG10372              GDHA-MONOMER  0.715057    484.0\n2      ndh  EG10649         NADH-DHII-MONOMER  1.009853    316.0\n3     sodA  EG10953  SUPEROX-DISMUTMN-MONOMER  0.806555    128.3\n4     nrdA  EG10660              NRDA-MONOMER  0.858176    266.5\n...    ...      ...                       ...       ...      ...\n1073   glf  EG11981           GALPMUT-MONOMER       NaN    159.6\n1074  yjdJ    G7829             G7829-MONOMER       NaN     52.5\n1075  ynfM    G6854             B1596-MONOMER       NaN   5000.0\n1076  csgG    G6543             G6543-MONOMER       NaN    114.3\n1077  holE  EG11505           EG11505-MONOMER       NaN     44.5\n\n[1078 rows x 5 columns]",
      "text/html": "<div>\n<style scoped>\n    .dataframe tbody tr th:only-of-type {\n        vertical-align: middle;\n    }\n\n    .dataframe tbody tr th {\n        vertical-align: top;\n    }\n\n    .dataframe thead th {\n        text-align: right;\n    }\n</style>\n<table border=\"1\" class=\"dataframe\">\n  <thead>\n    <tr style=\"text-align: right;\">\n      <th></th>\n      <th>GCN</th>\n      <th>gene id</th>\n      <th>monomer id</th>\n      <th>new PDR</th>\n      <th>old PDR</th>\n    </tr>\n  </thead>\n  <tbody>\n    <tr>\n      <th>0</th>\n      <td>gnd</td>\n      <td>EG10411</td>\n      <td>6PGLUCONDEHYDROG-MONOMER</td>\n      <td>0.850587</td>\n      <td>390.7</td>\n    </tr>\n    <tr>\n      <th>1</th>\n      <td>gdhA</td>\n      <td>EG10372</td>\n      <td>GDHA-MONOMER</td>\n      <td>0.715057</td>\n      <td>484.0</td>\n    </tr>\n    <tr>\n      <th>2</th>\n      <td>ndh</td>\n      <td>EG10649</td>\n      <td>NADH-DHII-MONOMER</td>\n      <td>1.009853</td>\n      <td>316.0</td>\n    </tr>\n    <tr>\n      <th>3</th>\n      <td>sodA</td>\n      <td>EG10953</td>\n      <td>SUPEROX-DISMUTMN-MONOMER</td>\n      <td>0.806555</td>\n      <td>128.3</td>\n    </tr>\n    <tr>\n      <th>4</th>\n      <td>nrdA</td>\n      <td>EG10660</td>\n      <td>NRDA-MONOMER</td>\n      <td>0.858176</td>\n      <td>266.5</td>\n    </tr>\n    <tr>\n      <th>...</th>\n      <td>...</td>\n      <td>...</td>\n      <td>...</td>\n      <td>...</td>\n      <td>...</td>\n    </tr>\n    <tr>\n      <th>1073</th>\n      <td>glf</td>\n      <td>EG11981</td>\n      <td>GALPMUT-MONOMER</td>\n      <td>NaN</td>\n      <td>159.6</td>\n    </tr>\n    <tr>\n      <th>1074</th>\n      <td>yjdJ</td>\n      <td>G7829</td>\n      <td>G7829-MONOMER</td>\n      <td>NaN</td>\n      <td>52.5</td>\n    </tr>\n    <tr>\n      <th>1075</th>\n      <td>ynfM</td>\n      <td>G6854</td>\n      <td>B1596-MONOMER</td>\n      <td>NaN</td>\n      <td>5000.0</td>\n    </tr>\n    <tr>\n      <th>1076</th>\n      <td>csgG</td>\n      <td>G6543</td>\n      <td>G6543-MONOMER</td>\n      <td>NaN</td>\n      <td>114.3</td>\n    </tr>\n    <tr>\n      <th>1077</th>\n      <td>holE</td>\n      <td>EG11505</td>\n      <td>EG11505-MONOMER</td>\n      <td>NaN</td>\n      <td>44.5</td>\n    </tr>\n  </tbody>\n</table>\n<p>1078 rows × 5 columns</p>\n</div>"
     },
     "execution_count": 125,
     "metadata": {},
     "output_type": "execute_result"
    }
   ],
   "source": [
    "# match the new and old data together now! \n",
    "matches = []\n",
    "match_idxs = []\n",
    "match_Pids = []\n",
    "match_Gids = [] \n",
    "match_GCNs = []\n",
    "match_old_PDRs = []\n",
    "match_new_PDRs = [] \n",
    "\n",
    "no_match_new_to_old_GCNs = []\n",
    "no_match_new_to_old_idxs = []\n",
    "\n",
    "old_GCN_idx_dict = {id: i for i, id in enumerate(old_GCNs)}\n",
    "old_idx_GCN_dict = {idx: i for i, idx in old_GCN_idx_dict.items()}\n",
    "\n",
    "for i in range(len(new_match_GCNids)):\n",
    "\tGCN = new_match_GCNids[i]\n",
    "\tindex = [name for key, name in old_GCN_idx_dict.items() if GCN == key]\n",
    "\tif len(index) == 0:\n",
    "\t\tno_match_new_to_old_GCNs.append(GCN)\n",
    "\t\tno_match_new_to_old_idxs.append(i)\n",
    "\telse: \n",
    "\t\tindex = index[0]\n",
    "\t\tmatch_GCNs.append(GCN)\n",
    "\t\tmatch_idxs.append(i)\n",
    "\t\tgene_id = old_genes[index]\n",
    "\t\tmatch_Gids.append(gene_id)\n",
    "\t\tp_id = old_monomers[index]\n",
    "\t\tmatch_Pids.append(p_id)\n",
    "\t\told_PDR = old_PDRs[index]\n",
    "\t\tmatch_old_PDRs.append(old_PDR)\n",
    "\t\tnew_PDR = new_match_PDRs[i]\n",
    "\t\tmatch_new_PDRs.append(new_PDR)\n",
    "\t\n",
    "# make a total data frame: \n",
    "match_df = {'GCN': match_GCNs, 'gene id': match_Gids, 'monomer id': match_Pids, 'new PDR': match_new_PDRs, 'old PDR': match_old_PDRs}\n",
    "match_df = pd.DataFrame(match_df)\n",
    "match_df"
   ],
   "metadata": {
    "collapsed": false,
    "ExecuteTime": {
     "end_time": "2024-05-08T16:52:25.870636Z",
     "start_time": "2024-05-08T16:52:25.838528Z"
    }
   },
   "id": "cbbd56721b828c20"
  },
  {
   "cell_type": "code",
   "execution_count": 133,
   "outputs": [
    {
     "name": "stdout",
     "output_type": "stream",
     "text": [
      "2011 monomers in the new dataset were not found in the old dataset\n"
     ]
    }
   ],
   "source": [
    "# how many in the new data set were not found in the old dataset?\n",
    "print(f\"{len(no_match_new_to_old_GCNs)} monomers in the new dataset were not found in the old dataset\")"
   ],
   "metadata": {
    "collapsed": false,
    "ExecuteTime": {
     "end_time": "2024-05-08T16:59:08.466144Z",
     "start_time": "2024-05-08T16:59:08.456469Z"
    }
   },
   "id": "3015c694749c8fb2"
  },
  {
   "cell_type": "code",
   "execution_count": 127,
   "outputs": [
    {
     "data": {
      "text/plain": "       GCN  gene id                monomer id   new PDR  old PDR\n0     dcuR    G7826              DCUR-MONOMER  0.557266    108.0\n1     bioD  EG10120  DETHIOBIOTIN-SYN-MONOMER  0.764226    324.0\n2      rph  EG10863           EG10863-MONOMER  0.891793     36.0\n3     carA  EG10134            CARBPSYN-SMALL  0.741366    846.0\n4      pnp  EG10743           EG10743-MONOMER  0.760874    972.0\n...    ...      ...                       ...       ...      ...\n1089  yidC  EG11197                      YIDC  0.674876    241.4\n1090  alsB  EG12458              YJCX-MONOMER  0.823808     51.3\n1091  ettA  EG12343              YJJK-MONOMER  0.751185   2829.2\n1092  gsiB    G6430              YLIB-MONOMER  0.735787    254.1\n1093  znuA    G7017              ZNUA-MONOMER  0.840579   5000.0\n\n[1094 rows x 5 columns]",
      "text/html": "<div>\n<style scoped>\n    .dataframe tbody tr th:only-of-type {\n        vertical-align: middle;\n    }\n\n    .dataframe tbody tr th {\n        vertical-align: top;\n    }\n\n    .dataframe thead th {\n        text-align: right;\n    }\n</style>\n<table border=\"1\" class=\"dataframe\">\n  <thead>\n    <tr style=\"text-align: right;\">\n      <th></th>\n      <th>GCN</th>\n      <th>gene id</th>\n      <th>monomer id</th>\n      <th>new PDR</th>\n      <th>old PDR</th>\n    </tr>\n  </thead>\n  <tbody>\n    <tr>\n      <th>0</th>\n      <td>dcuR</td>\n      <td>G7826</td>\n      <td>DCUR-MONOMER</td>\n      <td>0.557266</td>\n      <td>108.0</td>\n    </tr>\n    <tr>\n      <th>1</th>\n      <td>bioD</td>\n      <td>EG10120</td>\n      <td>DETHIOBIOTIN-SYN-MONOMER</td>\n      <td>0.764226</td>\n      <td>324.0</td>\n    </tr>\n    <tr>\n      <th>2</th>\n      <td>rph</td>\n      <td>EG10863</td>\n      <td>EG10863-MONOMER</td>\n      <td>0.891793</td>\n      <td>36.0</td>\n    </tr>\n    <tr>\n      <th>3</th>\n      <td>carA</td>\n      <td>EG10134</td>\n      <td>CARBPSYN-SMALL</td>\n      <td>0.741366</td>\n      <td>846.0</td>\n    </tr>\n    <tr>\n      <th>4</th>\n      <td>pnp</td>\n      <td>EG10743</td>\n      <td>EG10743-MONOMER</td>\n      <td>0.760874</td>\n      <td>972.0</td>\n    </tr>\n    <tr>\n      <th>...</th>\n      <td>...</td>\n      <td>...</td>\n      <td>...</td>\n      <td>...</td>\n      <td>...</td>\n    </tr>\n    <tr>\n      <th>1089</th>\n      <td>yidC</td>\n      <td>EG11197</td>\n      <td>YIDC</td>\n      <td>0.674876</td>\n      <td>241.4</td>\n    </tr>\n    <tr>\n      <th>1090</th>\n      <td>alsB</td>\n      <td>EG12458</td>\n      <td>YJCX-MONOMER</td>\n      <td>0.823808</td>\n      <td>51.3</td>\n    </tr>\n    <tr>\n      <th>1091</th>\n      <td>ettA</td>\n      <td>EG12343</td>\n      <td>YJJK-MONOMER</td>\n      <td>0.751185</td>\n      <td>2829.2</td>\n    </tr>\n    <tr>\n      <th>1092</th>\n      <td>gsiB</td>\n      <td>G6430</td>\n      <td>YLIB-MONOMER</td>\n      <td>0.735787</td>\n      <td>254.1</td>\n    </tr>\n    <tr>\n      <th>1093</th>\n      <td>znuA</td>\n      <td>G7017</td>\n      <td>ZNUA-MONOMER</td>\n      <td>0.840579</td>\n      <td>5000.0</td>\n    </tr>\n  </tbody>\n</table>\n<p>1094 rows × 5 columns</p>\n</div>"
     },
     "execution_count": 127,
     "metadata": {},
     "output_type": "execute_result"
    }
   ],
   "source": [
    "# have the reverse method coded so that I can figure out which of the new monomers are not in the old set: \n",
    "match_idxs = []\n",
    "match_Pids = []\n",
    "match_Gids = [] \n",
    "match_GCNs = []\n",
    "match_old_PDRs = []\n",
    "match_new_PDRs = [] \n",
    "\n",
    "# these will help figure out which are missing and need to be replaced\n",
    "no_match_old_to_new_GCNs = []\n",
    "no_match_old_to_new_idxs = []\n",
    "\n",
    "new_GCN_idx_dict = {id: i for i, id in enumerate(new_match_GCNids)}\n",
    "new_idx_GCN_dict = {idx: i for i, idx in new_GCN_idx_dict.items()}\n",
    "\n",
    "for i in range(len(old_GCNs)):\n",
    "\tGCN = old_GCNs[i]\n",
    "\tindex = [name for key, name in new_GCN_idx_dict.items() if GCN == key]\n",
    "\tif len(index) == 0:\n",
    "\t\tno_match_old_to_new_GCNs.append(GCN)\n",
    "\t\tno_match_old_to_new_idxs.append(i)\n",
    "\t\tmatch_GCNs.append(GCN)\n",
    "\t\tgene_id = old_genes[i]\n",
    "\t\tmatch_Gids.append(gene_id)\n",
    "\t\tp_id = old_monomers[i]\n",
    "\t\tmatch_Pids.append(p_id)\n",
    "\t\told_PDR = old_PDRs[i]\n",
    "\t\tmatch_old_PDRs.append(old_PDR)\n",
    "\t\t#TODO: ask Nora if she thinks I should just make this value that of the old data set, so that we can use one data colum easily going forward\n",
    "\t\tnew_PDR = \"NA\"\n",
    "\t\tmatch_new_PDRs.append(new_PDR)\n",
    "\telse: \n",
    "\t\tindex = index[0]\n",
    "\t\tmatch_GCNs.append(GCN)\n",
    "\t\tmatch_idxs.append(i)\n",
    "\t\tgene_id = new_match_Gids[index]\n",
    "\t\tmatch_Gids.append(gene_id)\n",
    "\t\tp_id = new_match_Pids[index]\n",
    "\t\tmatch_Pids.append(p_id)\n",
    "\t\told_PDR = old_PDRs[i]\n",
    "\t\tmatch_old_PDRs.append(old_PDR)\n",
    "\t\tnew_PDR = new_match_PDRs[index]\n",
    "\t\tmatch_new_PDRs.append(new_PDR)\n",
    "\t\n",
    "# make a total data frame: \n",
    "old_to_new_match_df = {'GCN': match_GCNs, 'gene id': match_Gids, 'monomer id': match_Pids, 'new PDR': match_new_PDRs, 'old PDR': match_old_PDRs}\n",
    "old_to_new_match_df = pd.DataFrame(old_to_new_match_df)\n",
    "old_to_new_match_df"
   ],
   "metadata": {
    "collapsed": false,
    "ExecuteTime": {
     "end_time": "2024-05-08T16:53:27.607384Z",
     "start_time": "2024-05-08T16:53:27.552555Z"
    }
   },
   "id": "388c07e2792cb628"
  },
  {
   "cell_type": "code",
   "execution_count": 131,
   "outputs": [
    {
     "name": "stdout",
     "output_type": "stream",
     "text": [
      "15 monomers in the old dataset were not found in the new dataset\n"
     ]
    },
    {
     "data": {
      "text/plain": "['cdsA',\n 'argF',\n 'rfbD',\n 'rpmG',\n 'hdeA',\n 'dicD',\n 'yacG',\n 'ydiE',\n 'evgA',\n 'ydbL',\n 'pqqU',\n 'galF',\n 'yffS',\n 'gatA',\n 'osmF']"
     },
     "execution_count": 131,
     "metadata": {},
     "output_type": "execute_result"
    }
   ],
   "source": [
    "# see how many monomers from the old dataset were not found in the new dataset: \n",
    "print(f\"{len(no_match_old_to_new_GCNs)} monomers in the old dataset were not found in the new dataset\")\n",
    "no_match_old_to_new_GCNs"
   ],
   "metadata": {
    "collapsed": false,
    "ExecuteTime": {
     "end_time": "2024-05-08T16:57:00.553431Z",
     "start_time": "2024-05-08T16:57:00.545259Z"
    }
   },
   "id": "440dd1077a8a6a1d"
  },
  {
   "cell_type": "code",
   "execution_count": null,
   "outputs": [],
   "source": [],
   "metadata": {
    "collapsed": false
   },
   "id": "858f2dfc4798828"
  }
 ],
 "metadata": {
  "kernelspec": {
   "display_name": "Python 3",
   "language": "python",
   "name": "python3"
  },
  "language_info": {
   "codemirror_mode": {
    "name": "ipython",
    "version": 2
   },
   "file_extension": ".py",
   "mimetype": "text/x-python",
   "name": "python",
   "nbconvert_exporter": "python",
   "pygments_lexer": "ipython2",
   "version": "2.7.6"
  }
 },
 "nbformat": 4,
 "nbformat_minor": 5
}
