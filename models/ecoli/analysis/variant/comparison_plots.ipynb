{
 "cells": [
  {
   "cell_type": "code",
   "execution_count": null,
   "id": "initial_id",
   "metadata": {
    "collapsed": true
   },
   "outputs": [],
   "source": [
    "import pickle\n",
    "import os\n",
    "import pandas as pd\n",
    "from matplotlib import pyplot as plt\n",
    "os.chdir(os.path.expanduser('~/wcEcoli'))\n",
    "# noinspection PyUnresolvedReferences\n",
    "import numpy as np\n",
    "import plotly.graph_objects as go\n",
    "from models.ecoli.analysis import variantAnalysisPlot\n",
    "from wholecell.analysis.analysis_tools import (exportFigure,\n",
    "\tread_bulk_molecule_counts, read_stacked_bulk_molecules, read_stacked_columns)\n",
    "from wholecell.io.tablereader import TableReader"
   ]
  }
 ],
 "metadata": {
  "kernelspec": {
   "display_name": "Python 3",
   "language": "python",
   "name": "python3"
  },
  "language_info": {
   "codemirror_mode": {
    "name": "ipython",
    "version": 2
   },
   "file_extension": ".py",
   "mimetype": "text/x-python",
   "name": "python",
   "nbconvert_exporter": "python",
   "pygments_lexer": "ipython2",
   "version": "2.7.6"
  }
 },
 "nbformat": 4,
 "nbformat_minor": 5
}
