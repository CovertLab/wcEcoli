{
 "cells": [
  {
   "cell_type": "code",
   "id": "initial_id",
   "metadata": {
    "collapsed": true
   },
   "source": [
    "# import the nessessary packages\n",
    "import pickle\n",
    "import os\n",
    "import pandas as pd\n",
    "from matplotlib import pyplot as plt\n",
    "import numpy as np\n",
    "import polars as pl\n",
    "import plotly.graph_objects as go\n",
    "from models.ecoli.analysis import variantAnalysisPlot\n",
    "from wholecell.analysis.analysis_tools import (exportFigure,\n",
    "\tread_bulk_molecule_counts, read_stacked_bulk_molecules, read_stacked_columns)\n",
    "from wholecell.io.tablereader import TableReader"
   ],
   "outputs": [],
   "execution_count": null
  },
  {
   "metadata": {},
   "cell_type": "code",
   "source": [
    "# todo for this notebook:\n",
    "# 1. make a plotly version of these graphing functions (and run Mica's function on the proteins that deviate the most from the line)\n",
    "# 2. decide if I should maybe make the lines a different color from the scatter data colors to differenciate them better\n",
    "# 3. "
   ],
   "id": "235671c1bcf037de",
   "outputs": [],
   "execution_count": null
  },
  {
   "metadata": {},
   "cell_type": "code",
   "source": [
    "# work with the filterd data from saved_data_ng_internal_shift1: \n",
    "os.chdir(os.path.expanduser('~/wcEcoli/out/sherlock_data/saved_data_ng_internal_shift1/unfiltered_data/'))\n",
    "\n",
    "# work specifically with the log data for the second sherlock run \n",
    "name_front = 'AvgProteinCounts_Variant_'\n",
    "name_back = '_startGen_14.csv'\n",
    "variant_info = pd.read_excel('~/wcEcoli/out/sherlock_data/saved_data_ng_internal_shift1/sherlock_sim1_info.xlsx')\n",
    "\n",
    "# define function that creates a sting with the experimental variant's info\n",
    "def get_sim1_var_info(var_num):\n",
    "    # extract the information for a specific variant: \n",
    "    variant = variant_info[var_num:var_num+1]\n",
    "    EI = variant[\"NG expression\"].item()\n",
    "    TE = variant[\"TE\"].item()\n",
    "    S = variant[\"analysis sims\"].item()\n",
    "    log10NGPCs = variant[\"log(NG PCs +1)\"].item()\n",
    "    \n",
    "    # create string for the legends: \n",
    "    info_string = \"V\"+str(var_num)+\" (NG EI: \"+str(EI)+\", NG TE: \"+str(TE)+\", Sims: \"+str(S)+\", $log_{10}$(NG PCs+1): \"+str(round(log10NGPCs,2))+\")\"\n",
    "    \n",
    "    return info_string\n",
    "    \n",
    "# normalize the data and convert it to log10 values: \n",
    "def log10_normalized_data(var_num):\n",
    "    # load the data frame: \n",
    "    df = pd.read_csv(name_front + str(var_num) + name_back)\n",
    "    \n",
    "    # convert the data frame to a polars data frame:\n",
    "    pl_df = pl.DataFrame(df)\n",
    "    \n",
    "    # rename the columns:\n",
    "    Cname = pl_df.columns[1]\n",
    "    name = pl_df.columns[2]\n",
    "    pl_df = pl_df.rename({Cname: \"Control_Variant\", name: \"Experimental_Variant\"}) \n",
    "    \n",
    "    # calculate the sum of all the protein counts for both the control and experimental variant:\n",
    "    df_sum = pl_df.sum()\n",
    "  \n",
    "    # normalize the control data and take the log10 of the data (note: log10(protein_count_value) - log10(sum_over_all_protein_counts) = log10(protein_count_value/sum_over_all_protein_counts)):\n",
    "    df_log10_C = pl_df.with_columns((pl.col(\"Control_Variant\") + 1).log10().alias(\"log10_Control_Variant\"))\n",
    "    df_log10_Csum = df_sum[\"Control_Variant\"].log10()\n",
    "    df_log10_C = df_log10_C.with_columns(pl.col(\"log10_Control_Variant\") - df_log10_Csum)\n",
    "    \n",
    "    # normalize the experimental data and take the log10 of the data :\n",
    "    df_log10_E = df_log10_C.with_columns((pl.col(\"Experimental_Variant\") + 1).log10().alias(\"log10_Experimental_Variant\"))\n",
    "    df_log10_Esum = df_sum[\"Experimental_Variant\"].log10()\n",
    "    df_log10_E = df_log10_E.with_columns(pl.col(\"log10_Experimental_Variant\") - df_log10_Esum)\n",
    "    \n",
    "    df_normalized_log10 = df_log10_E.select([pl_df.columns[0],\"log10_Control_Variant\", \"log10_Experimental_Variant\"])\n",
    "    df_normalized_log10 = df_normalized_log10.to_pandas()\n",
    "    \n",
    "    return df_normalized_log10\n",
    "\n",
    "# define the function that calculates the linear information, including x-intercept, for each variant:\n",
    "def get_linear_info_log10(df):\n",
    "    # get the data for the control and experimental variant:\n",
    "    x = df[\"log10_Control_Variant\"]\n",
    "    y = df[\"log10_Experimental_Variant\"]\n",
    "    \n",
    "    # calculate the slope and y-intercept for the linear fit:\n",
    "    m, b = np.polyfit(x, y, 1)\n",
    "    \n",
    "    # calculate the x-intercept:\n",
    "    x_intercept = -b/m\n",
    "    \n",
    "    # return the linear information:\n",
    "    return m, b, x_intercept\n",
    "    \n",
    "    \n",
    "# create a function that plots the data and the linear fit for each variant:\n",
    "\n",
    "# note that the following might need to be adjusted depending on the number of variants and which ones are being plotted: alpha values for data and lines, the minimum value for the x and y axis (by default this is set to -10), and the number of columns in the legend.\n",
    "\n",
    "def plot_linear_fit_log10(variant_nums):\n",
    "    plt.figure(figsize=(10, 10))\n",
    "    last_val = -7 \n",
    "    \n",
    "    for i in range(len(variant_nums)):\n",
    "        var_num = variant_nums[i]\n",
    "        df = log10_normalized_data(var_num)\n",
    "        str_info = get_sim1_var_info(var_num)\n",
    "        \n",
    "        # get the linear information:\n",
    "        m, b, x_intercept = get_linear_info_log10(df)\n",
    "        \n",
    "        linar_info = \"V\"+str(var_num)+\": y = \"+str(round(m, 2))+\"x + \"+str(round(b, 2))+\" (x-intercept: \"+str(round(x_intercept, 2))+\")\"\n",
    "        \n",
    "        # plot the data:\n",
    "        plt.scatter(df[\"log10_Control_Variant\"], df[\"log10_Experimental_Variant\"], label = str_info, alpha = 0.6, s = 3)\n",
    "        \n",
    "        # plot the linear fit:\n",
    "        #x_values = [last_val+0.3, df[\"log10_Control_Variant\"].max()] # extend the line a bit\n",
    "        x_values = [-7, -1.05]\n",
    "        x_values = np.array(x_values)\n",
    "        plt.plot(x_values, m*x_values + b, linestyle=\"--\", label = linar_info)\n",
    "    \n",
    "    # add a y=x line: \n",
    "    yxvals= np.linspace(-7, -1, 100)\n",
    "    plt.plot(yxvals, yxvals, linewidth=.5, linestyle=\"dashed\", color=\"k\", alpha=0.5, label=\"y=x\")\n",
    "    \n",
    "    # plotting specs\n",
    "    plt.axis('square'); plt.ylim([last_val, -1]); plt.xlim([last_val, -1])\n",
    "    plt.xlabel(\"log10(Control Variant Protein Counts + 1)\")\n",
    "    plt.ylabel(\"log10(Experimental Variant Protein Counts + 1)\")\n",
    "    plt.title(\"Comparison of Experimental Variant Protein Counts to Control Variant Protein Counts\")\n",
    "    plt.legend(loc='upper center', bbox_to_anchor=(0.5, -0.09), ncol=1)\n",
    "    plt.show()\n",
    "    "
   ],
   "id": "9dabc028d36dcfb",
   "outputs": [],
   "execution_count": null
  },
  {
   "metadata": {},
   "cell_type": "code",
   "source": [
    "v14_log10 = log10_normalized_data(14); str14 = get_sim1_var_info(14)\n",
    "v19_log10 = log10_normalized_data(19); str19 = get_sim1_var_info(19)\n",
    "v9_log10 = log10_normalized_data(9); str9 = get_sim1_var_info(9)\n",
    "v4_log10 = log10_normalized_data(4); str4 = get_sim1_var_info(4)\n",
    "\n",
    "# # plot all log data. Plot x = control, y = experimental:\n",
    "plt.figure(figsize=(10, 10))\n",
    "\n",
    "# plot the data:\n",
    "plt.scatter(v4_log10.log10_Control_Variant, v4_log10.log10_Experimental_Variant, .6);\n",
    "plt.scatter(v9_log10.log10_Control_Variant, v9_log10.log10_Experimental_Variant, .6);\n",
    "plt.scatter(v14_log10.log10_Control_Variant, v14_log10.log10_Experimental_Variant, .6);\n",
    "plt.scatter(v19_log10.log10_Control_Variant, v19_log10.log10_Experimental_Variant, .6);\n",
    "\n",
    "# plot a y=x string\n",
    "yxvals= np.linspace(-7, -1, 100)\n",
    "plt.plot(yxvals, yxvals, linewidth=.5, linestyle=\"dashed\", color=\"#FF796C\"); yxstr = \"y=x\"\n",
    "legend = [str4, str9, str14, str19, yxstr]\n",
    "\n",
    "plt.legend(legend)\n",
    "plt.axis('square')\n",
    "plt.xlabel(\"$log_{10}$(Control Variant) (w/o New Gene)\")\n",
    "plt.ylabel(\"$log_{10}$(Experimental Variant) (w/ New Gene)\")\n",
    "plt.title(f\"Normalized protein counts for variants with 0 New Gene counts\")"
   ],
   "id": "34c729f59be79aab",
   "outputs": [],
   "execution_count": null
  },
  {
   "metadata": {},
   "cell_type": "code",
   "source": [
    "# create a function that plots the data and the linear fit for each variant:\n",
    "def plot_x_intercept_and_NG_count_log10(variant_nums):\n",
    "    plt.figure(figsize=(7, 7))\n",
    "    \n",
    "    for i in range(len(variant_nums)):\n",
    "        var_num = variant_nums[i]\n",
    "        var_string = get_sim1_var_info(var_num)\n",
    "        \n",
    "        # get the linear information:\n",
    "        df = log10_normalized_data(var_num)\n",
    "        m, b, x_intercept = get_linear_info_log10(df)\n",
    "        \n",
    "        # get the NG counts for the variant:\n",
    "        variant = variant_info[var_num:var_num+1]\n",
    "        log10NGPCs = variant[\"log(NG PCs +1)\"].item()\n",
    "        \n",
    "        # plot a scatter point for the x-intercept and the log10(NG counts) and label the point on the graph:\n",
    "        plt.scatter(log10NGPCs, x_intercept, label = var_string, s = 10)\n",
    "        plt.text(log10NGPCs, x_intercept, \"V\"+str(var_num), fontsize=10)\n",
    "        \n",
    "    # plotting specs\n",
    "    plt.ylabel(\"x-intercept\")\n",
    "    plt.xlabel(\"log10(NG Protein Counts + 1)\")\n",
    "    plt.title(\"Comparison of x-intercept to log10(Experimental Variant Protein Counts + 1)\")\n",
    "    plt.legend(loc='upper center', bbox_to_anchor=(0.5, -0.09), ncol=1)\n",
    "    plt.show()\n",
    "    \n",
    "plot_x_intercept_and_NG_count_log10([1,2,3,4,5,6,7,8,9,10,11,12,13,14,15,16,17,18,19,20])"
   ],
   "id": "bb6030dae0ca24f0",
   "outputs": [],
   "execution_count": null
  },
  {
   "metadata": {},
   "cell_type": "code",
   "source": "",
   "id": "5bf542ee9e7973f5",
   "outputs": [],
   "execution_count": null
  },
  {
   "metadata": {},
   "cell_type": "markdown",
   "source": "# Linear Fit Comparisons sorted by amount of NG in the variant",
   "id": "30124392c13b79c"
  },
  {
   "metadata": {},
   "cell_type": "markdown",
   "source": "## Linear Fit comparisons for NG counts = 0",
   "id": "78147873fee4ebf3"
  },
  {
   "metadata": {},
   "cell_type": "code",
   "source": "plot_linear_fit_log10([4,9,14,19])\n",
   "id": "cfdba6b6e6b8998f",
   "outputs": [],
   "execution_count": null
  },
  {
   "metadata": {},
   "cell_type": "markdown",
   "source": "## Linear Fit comparisons for NG counts between 3 and 5",
   "id": "cba943f137692313"
  },
  {
   "metadata": {},
   "cell_type": "code",
   "source": "plot_linear_fit_log10([3,8,2,18,13])",
   "id": "e528c21b9e9c131b",
   "outputs": [],
   "execution_count": null
  },
  {
   "metadata": {},
   "cell_type": "markdown",
   "source": "## Linear Fit comparisons for NG counts between 5 and 6",
   "id": "4a9762ba48dced19"
  },
  {
   "metadata": {},
   "cell_type": "code",
   "source": "plot_linear_fit_log10([1,5,7,12,17,6])",
   "id": "e19645b284965198",
   "outputs": [],
   "execution_count": null
  },
  {
   "metadata": {},
   "cell_type": "markdown",
   "source": "# Linear Fit Comparisons for NG counts above 6",
   "id": "fc27a67462cc41ea"
  },
  {
   "metadata": {},
   "cell_type": "code",
   "source": "plot_linear_fit_log10([10,16,11,15,20])",
   "id": "1f6470fe2d032cec",
   "outputs": [],
   "execution_count": null
  },
  {
   "metadata": {},
   "cell_type": "markdown",
   "source": "# Linear Fit Comparisons sorted by NG Expression",
   "id": "8779d70b4a66639f"
  },
  {
   "metadata": {},
   "cell_type": "markdown",
   "source": "## Linear Fit comparisons for NG expression = 7",
   "id": "7a5364610a3ec33e"
  },
  {
   "metadata": {},
   "cell_type": "code",
   "source": "plot_linear_fit_log10([1,2,3,4,5])",
   "id": "b9bb46420bd4c3e5",
   "outputs": [],
   "execution_count": null
  },
  {
   "metadata": {},
   "cell_type": "markdown",
   "source": "## Linear Fit comparisons for NG expression = 8",
   "id": "ac961cec001f5598"
  },
  {
   "metadata": {},
   "cell_type": "code",
   "source": "plot_linear_fit_log10([6,7,8,9,10])",
   "id": "73cae6cd430107af",
   "outputs": [],
   "execution_count": null
  },
  {
   "metadata": {},
   "cell_type": "markdown",
   "source": "## Linear Fit comparisons for NG expression = 9",
   "id": "d6dd715e3e131d67"
  },
  {
   "metadata": {},
   "cell_type": "code",
   "source": "plot_linear_fit_log10([11,12,13,14,15])",
   "id": "1cf23fb4f695832e",
   "outputs": [],
   "execution_count": null
  },
  {
   "metadata": {},
   "cell_type": "markdown",
   "source": "## Linear Fit comparisons for NG expression = 10",
   "id": "4c763354ea196b37"
  },
  {
   "metadata": {},
   "cell_type": "code",
   "source": "plot_linear_fit_log10([16,17,18,19,20])",
   "id": "9d1edbc7f776b0e8",
   "outputs": [],
   "execution_count": null
  },
  {
   "metadata": {},
   "cell_type": "markdown",
   "source": "# Translation Efficency Comparisons",
   "id": "aa5fff652e97839c"
  },
  {
   "metadata": {},
   "cell_type": "markdown",
   "source": "## Linear Fit comparisons for TE = 0.0",
   "id": "897166019c6fc30d"
  },
  {
   "metadata": {},
   "cell_type": "code",
   "source": [
    "plot_linear_fit_log10([4,9,14,19])\n",
    "# todo: maybe make the lines a different color or alpha so that its not so hard to differenciate between them and the data points"
   ],
   "id": "7a52e0362fa73bed",
   "outputs": [],
   "execution_count": null
  },
  {
   "metadata": {},
   "cell_type": "markdown",
   "source": "## Linear Fit comparisons for TE = 0.1",
   "id": "d0302adfe68b5341"
  },
  {
   "metadata": {},
   "cell_type": "code",
   "source": "plot_linear_fit_log10([3,8,13,18])",
   "id": "2a9a306b940859d7",
   "outputs": [],
   "execution_count": null
  },
  {
   "metadata": {},
   "cell_type": "code",
   "source": "",
   "id": "7d732c7c51d3e651",
   "outputs": [],
   "execution_count": null
  },
  {
   "metadata": {},
   "cell_type": "markdown",
   "source": "## Linear Fit comparisons for TE = 1",
   "id": "65c7737ba4202400"
  },
  {
   "metadata": {},
   "cell_type": "code",
   "source": "plot_linear_fit_log10([2,7,12,17])",
   "id": "5c90e868733e812b",
   "outputs": [],
   "execution_count": null
  },
  {
   "metadata": {},
   "cell_type": "code",
   "source": "",
   "id": "c09cf43214ff5173",
   "outputs": [],
   "execution_count": null
  },
  {
   "metadata": {},
   "cell_type": "markdown",
   "source": "## Linear Fit comparisons for TE = 5",
   "id": "ff8fa134337351b2"
  },
  {
   "metadata": {},
   "cell_type": "code",
   "source": "plot_linear_fit_log10([1,6,11,16])",
   "id": "ab3eacd78c05e797",
   "outputs": [],
   "execution_count": null
  },
  {
   "metadata": {},
   "cell_type": "markdown",
   "source": "## Linear Fit comparisons for TE = 10",
   "id": "2f4b8f53537e3f3b"
  },
  {
   "metadata": {},
   "cell_type": "code",
   "source": "plot_linear_fit_log10([5,10,15,20])",
   "id": "ca09c5ea771074c5",
   "outputs": [],
   "execution_count": null
  },
  {
   "metadata": {},
   "cell_type": "code",
   "source": "",
   "id": "9f2eab4748036e91",
   "outputs": [],
   "execution_count": null
  }
 ],
 "metadata": {
  "kernelspec": {
   "display_name": "Python 3",
   "language": "python",
   "name": "python3"
  },
  "language_info": {
   "codemirror_mode": {
    "name": "ipython",
    "version": 2
   },
   "file_extension": ".py",
   "mimetype": "text/x-python",
   "name": "python",
   "nbconvert_exporter": "python",
   "pygments_lexer": "ipython2",
   "version": "2.7.6"
  }
 },
 "nbformat": 4,
 "nbformat_minor": 5
}
