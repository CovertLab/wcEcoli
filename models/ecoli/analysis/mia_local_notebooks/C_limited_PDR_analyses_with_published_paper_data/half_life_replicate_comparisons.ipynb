{
 "cells": [
  {
   "cell_type": "code",
   "execution_count": null,
   "id": "initial_id",
   "metadata": {
    "collapsed": true
   },
   "outputs": [],
   "source": [
    "import pandas as pd\n",
    "import numpy as np\n",
    "import matplotlib.pyplot as plt\n",
    "import seaborn as sns\n",
    "import os\n",
    "os.chdir(os.path.expanduser('~/wcEcoli/out/'))\n",
    "import plotly.graph_objects as go\n",
    "import glob\n",
    "import plotly.express as px"
   ]
  },
  {
   "metadata": {},
   "cell_type": "markdown",
   "source": [
    "# C-lim half life experimental data\n",
    "\n",
    "The following data is from Gupta et al. 2024: https://www.nature.com/articles/s41467-024-49920-8#Sec20\n",
    "\n",
    "Specifically, this data comes from Supplementary Table 1: \"TableS1 - Half-lives for 3262 proteins across 13 growth conditions >>\", which contains the half-lives of proteins in E. coli under carbon-limited conditions. This is the data we are interested in comparing to our model predictions.\n",
    "\n",
    "- this data has some \"ceiling\" values it auto assigns proteins to. We will ignore these values for now and only consider the proteins with measured half-lives.\n"
   ],
   "id": "585d6fcc8716b8f"
  },
  {
   "metadata": {},
   "cell_type": "code",
   "outputs": [],
   "execution_count": null,
   "source": "",
   "id": "3633cc135cde6134"
  }
 ],
 "metadata": {
  "kernelspec": {
   "display_name": "Python 3",
   "language": "python",
   "name": "python3"
  },
  "language_info": {
   "codemirror_mode": {
    "name": "ipython",
    "version": 2
   },
   "file_extension": ".py",
   "mimetype": "text/x-python",
   "name": "python",
   "nbconvert_exporter": "python",
   "pygments_lexer": "ipython2",
   "version": "2.7.6"
  }
 },
 "nbformat": 4,
 "nbformat_minor": 5
}
