{
 "cells": [
  {
   "cell_type": "code",
   "id": "initial_id",
   "metadata": {
    "collapsed": true
   },
   "source": [
    "import pandas as pd\n",
    "import numpy as np\n",
    "import matplotlib.pyplot as plt\n",
    "import seaborn as sns\n",
    "import os\n",
    "os.chdir(os.path.expanduser('~/wcEcoli/out/saved_PDRs/'))\n",
    "import plotly.graph_objects as go\n",
    "import glob\n",
    "import plotly.express as px"
   ],
   "outputs": [],
   "execution_count": null
  },
  {
   "metadata": {},
   "cell_type": "code",
   "source": [
    "# Original list\n",
    "conditions = [\n",
    "    'basal', 'with_aa', 'acetate', 'succinate', 'no_oxygen', \n",
    "    'CPLX-125__active', 'CPLX-125__inactive', 'CPLX-172__active', 'CPLX-172__inactive',\n",
    "    'CPLX0-226__active', 'CPLX0-226__inactive', 'CPLX0-228__active', 'CPLX0-228__inactive', \n",
    "    'CPLX0-7669__active', 'CPLX0-7669__inactive', 'CPLX0-7705__active', 'CPLX0-7705__inactive', \n",
    "    'CPLX0-7740__active', 'CPLX0-7740__inactive', 'CPLX0-7796__active', 'CPLX0-7796__inactive', \n",
    "    'CPLX0-7916__active', 'CPLX0-7916__inactive', 'EG12123-MONOMER__active', 'EG12123-MONOMER__inactive', \n",
    "    'FNR-4FE-4S-CPLX__active', 'FNR-4FE-4S-CPLX__inactive', 'MONOMER0-155__active', 'MONOMER0-155__inactive', \n",
    "    'MONOMER0-160__active', 'MONOMER0-160__inactive', 'MONOMER0-162__active', 'MONOMER0-162__inactive', \n",
    "    'PC00010__active', 'PC00010__inactive', 'PC00027__active', 'PC00027__inactive', 'PD00288__active', \n",
    "    'PD00288__inactive', 'PD00519__active', 'PD00519__inactive', 'PHOSPHO-ARCA__active', 'PHOSPHO-ARCA__inactive', \n",
    "    'PHOSPHO-BAER__active', 'PHOSPHO-BAER__inactive', 'PHOSPHO-DCUR__active', 'PHOSPHO-DCUR__inactive', \n",
    "    'PHOSPHO-NARL__active', 'PHOSPHO-NARL__inactive', 'PUTA-CPLX__active', 'PUTA-CPLX__inactive'\n",
    "]\n",
    "\n",
    "# Removing everything after '__'\n",
    "cleaned_conditions = [condition.split('__')[0] for condition in conditions]\n",
    "\n",
    "hi = cleaned_conditions[5:]\n",
    "active_TFs = np.unique(hi)"
   ],
   "id": "4d1f168e2f6b6876",
   "outputs": [],
   "execution_count": null
  },
  {
   "metadata": {},
   "cell_type": "code",
   "source": [
    "gene_id_list = []\n",
    "# todo: change this to be the Clim proteins of interest\n",
    "for id in active_TFs:\n",
    "    monomer_id = id\n",
    "    # get the gene name for the monomer ID:\n",
    "    get_symbols_for_monomer_ids()\n",
    "    gene_id_list.append(get_symbols_for_monomer_ids()[monomer_id])"
   ],
   "id": "1010402bb2d5060c",
   "outputs": [],
   "execution_count": null
  },
  {
   "metadata": {},
   "cell_type": "code",
   "source": [
    "hi = [\"trpR\", \"araC\", \"crp\", \"argR\", \"argP\", \"fis\", \"cytR\", \"metJ\", \"bglJ\", \"lrhA\", \"fnr\", \"lrp\", \"dnaA\", \"tyrR\", \"lexA\", \"ihfA\", \"hns\", \"leuO\", \"arcA\", \"baeR\", \"dcuR\", \"narL\", \"putA\"]\n",
    "\n",
    "# make a function that converts the monomer ids to gene symbols\n",
    "def get_common_name_for_monomer_ids():\n",
    "    # code adapted from convert_to_flat.py\n",
    "    import io\n",
    "    from wholecell.io import tsv\n",
    "    from wholecell.utils.filepath import ROOT_PATH\n",
    "    RNAS_FILE = os.path.join(ROOT_PATH, 'reconstruction', 'ecoli', 'flat', 'rnas.tsv')\n",
    "    with io.open(RNAS_FILE, 'rb') as f:\n",
    "        reader = tsv.reader(f, delimiter='\\t')\n",
    "        headers = next(reader)\n",
    "        while headers[0].startswith('#'):\n",
    "            headers = next(reader)\n",
    "\n",
    "        gene_id_index = headers.index('gene_id')\n",
    "        common_name_index = headers.index('common_name')\n",
    "        protein_id_index = headers.index('monomer_ids')\n",
    "        monomer_ids_to_common_names = {}\n",
    "        for line in reader:\n",
    "            gene_symbol = line[common_name_index]\n",
    "            protein_id = list(line[protein_id_index][2:-2].split('\", \"'))[0]\n",
    "            monomer_ids_to_common_names[protein_id] = gene_symbol\n",
    "\n",
    "        return monomer_ids_to_common_names\n",
    "\n",
    "\n",
    "\n",
    "monomer_id_list = []\n",
    "    \n",
    "# now, get the monomer id for each gene id: \n",
    "for gene in hi:\n",
    "    for key, value in get_common_name_for_monomer_ids().items():\n",
    "        if value == gene:\n",
    "            monomer_id_list.append(key)\n",
    "            \n",
    "print(monomer_id_list)"
   ],
   "id": "15fa589f59a63c6f",
   "outputs": [],
   "execution_count": null
  },
  {
   "metadata": {},
   "cell_type": "code",
   "source": [
    "# make a function that converts the monomer ids to gene symbols\n",
    "def get_symbols_for_monomer_ids():\n",
    "    # code adapted from convert_to_flat.py\n",
    "    import io\n",
    "    from wholecell.io import tsv\n",
    "    from wholecell.utils.filepath import ROOT_PATH\n",
    "    RNAS_FILE = os.path.join(ROOT_PATH, 'reconstruction', 'ecoli', 'flat', 'rnas.tsv')\n",
    "    with io.open(RNAS_FILE, 'rb') as f:\n",
    "        reader = tsv.reader(f, delimiter='\\t')\n",
    "        headers = next(reader)\n",
    "        while headers[0].startswith('#'):\n",
    "            headers = next(reader)\n",
    "\n",
    "        gene_id_index = headers.index('gene_id')\n",
    "        protein_id_index = headers.index('monomer_ids')\n",
    "        monomer_ids_to_gene_ids = {}\n",
    "        for line in reader:\n",
    "            gene_symbol = line[gene_id_index]\n",
    "            protein_id = list(line[protein_id_index][2:-2].split('\", \"'))[0]\n",
    "            monomer_ids_to_gene_ids[protein_id] = gene_symbol\n",
    "\n",
    "        return monomer_ids_to_gene_ids\n",
    "    \n",
    "gene_id_list = []\n",
    "# todo: change this to be the Clim proteins of interest\n",
    "for id in df_Clim['Protein ID']:\n",
    "    monomer_id = id[:-3]\n",
    "    # get the gene name for the monomer ID:\n",
    "    get_symbols_for_monomer_ids()\n",
    "    gene_id_list.append(get_symbols_for_monomer_ids()[monomer_id])\n",
    "    \n",
    "# find the essential genes in the list of gene ids\n",
    "def get_essential_genes():\n",
    "    # code adapted from convert_to_flat.py\n",
    "    import io\n",
    "    from wholecell.io import tsv\n",
    "    from wholecell.utils.filepath import ROOT_PATH\n",
    "    GENES_FILE = os.path.join(ROOT_PATH, 'validation', 'ecoli', 'flat', 'essential_genes.tsv')\n",
    "    with io.open(GENES_FILE, 'rb') as f:\n",
    "        reader = tsv.reader(f, delimiter='\\t')\n",
    "        headers = next(reader)\n",
    "        while headers[0].startswith('#'):\n",
    "            headers = next(reader)\n",
    "\n",
    "        gene_id_index = headers.index('FrameID')\n",
    "        #protein_id_index = headers.index('proteinID')\n",
    "        #gene_ids_to_monomer_ids = {}\n",
    "        essential_genes = []\n",
    "        for line in reader:\n",
    "            #gene_symbol = line[gene_id_index]\n",
    "            essential_gene = line[gene_id_index]\n",
    "            essential_genes.append(essential_gene)\n",
    "            #protein_id = list(line[protein_id_index][2:-2].split('\", \"'))[0]\n",
    "            #gene_ids_to_monomer_ids[protein_id] = gene_symbol\n",
    "            #symbols_to_monomer_ids[gene_symbol] = protein_id\n",
    "\n",
    "        return essential_genes\n",
    "    \n",
    "# get the essential genes:\n",
    "essential_genes_found = []\n",
    "for gene in gene_id_list:\n",
    "    if gene in get_essential_genes():\n",
    "        essential_genes_found.append(gene)\n",
    "        \n",
    "print(\"Essential Genes Found (\" +str(len(essential_genes_found))+\"): \", essential_genes_found)"
   ],
   "id": "e733aec0fce7aab9",
   "outputs": [],
   "execution_count": null
  },
  {
   "metadata": {},
   "cell_type": "markdown",
   "source": "test for nora ",
   "id": "8a5cfbad3c35e177"
  },
  {
   "metadata": {
    "ExecuteTime": {
     "end_time": "2024-09-11T23:25:39.772999Z",
     "start_time": "2024-09-11T23:25:38.490429Z"
    }
   },
   "cell_type": "code",
   "source": "\n",
   "id": "61eb1d585dae0913",
   "outputs": [],
   "execution_count": 1
  },
  {
   "metadata": {},
   "cell_type": "markdown",
   "source": "",
   "id": "8ad2ae082a151032"
  },
  {
   "metadata": {
    "ExecuteTime": {
     "end_time": "2024-09-11T23:28:54.241639Z",
     "start_time": "2024-09-11T23:28:53.828542Z"
    }
   },
   "cell_type": "code",
   "source": "",
   "id": "802db8813947f4cd",
   "outputs": [],
   "execution_count": 5
  },
  {
   "metadata": {
    "ExecuteTime": {
     "end_time": "2024-09-11T23:31:52.611110Z",
     "start_time": "2024-09-11T23:31:52.608873Z"
    }
   },
   "cell_type": "code",
   "source": [
    "\n",
    "\n"
   ],
   "id": "8b901cf71c268caf",
   "outputs": [
    {
     "data": {
      "text/plain": [
       "3600.0"
      ]
     },
     "execution_count": 10,
     "metadata": {},
     "output_type": "execute_result"
    }
   ],
   "execution_count": 10
  },
  {
   "metadata": {},
   "cell_type": "code",
   "outputs": [],
   "execution_count": null,
   "source": "",
   "id": "bb0e56da0125e811"
  }
 ],
 "metadata": {
  "kernelspec": {
   "display_name": "Python 3",
   "language": "python",
   "name": "python3"
  },
  "language_info": {
   "codemirror_mode": {
    "name": "ipython",
    "version": 2
   },
   "file_extension": ".py",
   "mimetype": "text/x-python",
   "name": "python",
   "nbconvert_exporter": "python",
   "pygments_lexer": "ipython2",
   "version": "2.7.6"
  }
 },
 "nbformat": 4,
 "nbformat_minor": 5
}
