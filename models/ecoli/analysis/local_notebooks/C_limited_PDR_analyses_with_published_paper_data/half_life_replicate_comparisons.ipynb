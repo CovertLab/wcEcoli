{
 "cells": [
  {
   "cell_type": "code",
   "id": "initial_id",
   "metadata": {
    "collapsed": true,
    "ExecuteTime": {
     "end_time": "2024-09-20T21:04:00.216995Z",
     "start_time": "2024-09-20T21:04:00.164569Z"
    }
   },
   "source": [
    "import pandas as pd\n",
    "import numpy as np\n",
    "import matplotlib.pyplot as plt\n",
    "import seaborn as sns\n",
    "import os\n",
    "os.chdir(os.path.expanduser(\n",
    "    '/models/ecoli/analysis/local_notebooks/C_limited_PDR_analyses_with_published_paper_data/supplementary_data/'))\n",
    "import plotly.graph_objects as go\n",
    "import glob\n",
    "import plotly.express as px"
   ],
   "outputs": [],
   "execution_count": 3
  },
  {
   "metadata": {},
   "cell_type": "markdown",
   "source": [
    "# C-lim half life experimental data\n",
    "\n",
    "The following data is from Gupta et al. 2024: https://www.nature.com/articles/s41467-024-49920-8#Sec20\n",
    "\n",
    "Specifically, this data comes from Supplementary Table 1: \"TableS1 - Half-lives for 3262 proteins across 13 growth conditions >>\", which contains the half-lives of proteins in E. coli under carbon-limited conditions. This is the data we are interested in comparing to our model predictions.\n",
    "\n",
    "- this data has some \"ceiling\" values it auto assigns proteins to. We will ignore these values for now and only consider the proteins with measured half-lives.\n"
   ],
   "id": "585d6fcc8716b8f"
  },
  {
   "metadata": {
    "ExecuteTime": {
     "end_time": "2024-09-20T21:45:41.392790Z",
     "start_time": "2024-09-20T21:45:41.196011Z"
    }
   },
   "cell_type": "code",
   "source": [
    "# load in the C-lim half life data from Gupta et al. 2024: \n",
    "Clim_data = pd.read_excel('Gupta_et_al_2024_ST1_C_lim_data.xlsx')\n",
    "\n",
    "# remove the ceiling values from the data that are marked with an asterisk: \n",
    "Clim_data.replace(r'\\*', np.nan, regex=True, inplace=True)\n",
    "\n",
    "# recalculate the \"mean\" value in C_lim3_mean, C_lim6_mean, and C_lim12_mean now that there are NaN values replacing the ceiling values: \n",
    "Clim_data['C_lim3_mean'] = Clim_data[['C_lim3_1', 'C_lim3_2']].mean(axis=1, skipna=True)\n",
    "Clim_data['C_lim6_mean'] = Clim_data[['C_lim6_1', 'C_lim6_2']].mean(axis=1, skipna=True)\n",
    "Clim_data['C_lim12_mean'] = Clim_data[['C_lim12_1', 'C_lim12_2']].mean(axis=1, skipna=True)\n",
    "\n",
    "# drop any rows that have a \"NaN\" value in the \"Gene names\" or \"Protein ID\" column:\n",
    "# todo: ask Nora if she thinks I should do this? and if we should manually just extract the gene name from somewhere else? It only gets rid of two proteins/rows\n",
    "Clim_data.dropna(subset=['Gene names ', 'Protein ID'], inplace=True)\n",
    "\n",
    "# drop any rows that have NaN values for each of the following columns: C_lim3_1, C_lim3_2, C_lim6_1, C_lim6_2, C_lim12_1, C_lim12_2\n",
    "Clim_data.dropna(subset=['C_lim3_1', 'C_lim3_2', 'C_lim6_1', 'C_lim6_2', 'C_lim12_1', 'C_lim12_2'], how=\"all\", inplace=True)"
   ],
   "id": "3633cc135cde6134",
   "outputs": [],
   "execution_count": 26
  },
  {
   "metadata": {
    "ExecuteTime": {
     "end_time": "2024-09-20T21:35:10.303961Z",
     "start_time": "2024-09-20T21:35:10.293532Z"
    }
   },
   "cell_type": "code",
   "source": "Clim_data",
   "id": "8afd850dbad14365",
   "outputs": [
    {
     "data": {
      "text/plain": [
       "                Protein ID Gene names   C_lim3_1  C_lim3_2  C_lim3_mean   \n",
       "0     sp|A5A614|YCIZ_ECOLI        yciZ       NaN       NaN          NaN  \\\n",
       "1     sp|O32583|THIS_ECOLI        thiS       NaN       NaN          NaN   \n",
       "2     sp|P00350|6PGD_ECOLI         gnd  3.248315  3.163151     3.205733   \n",
       "3     sp|P00363|FRDA_ECOLI        frdA  2.992966  2.946457     2.969711   \n",
       "4     sp|P00370|DHE4_ECOLI        gdhA  3.076857  2.810401     2.943629   \n",
       "...                    ...         ...       ...       ...          ...   \n",
       "2946  sp|P76458|ATOD_ECOLI        atoD       NaN       NaN          NaN   \n",
       "2947  sp|P77162|YKFB_ECOLI        ykfB       NaN       NaN          NaN   \n",
       "2948  sp|Q46892|YGBN_ECOLI        ygbN       NaN       NaN          NaN   \n",
       "2950  sp|Q47274|REQ1_ECOLI        quuD       NaN       NaN          NaN   \n",
       "2951  sp|Q47534|YAIO_ECOLI        yaiO       NaN       NaN          NaN   \n",
       "\n",
       "      C_lim6_1  C_lim6_2  C_lim6_mean  C_lim12_1  C_lim12_2  C_lim12_mean  \n",
       "0     3.932642  3.601144     3.766893        NaN        NaN           NaN  \n",
       "1          NaN       NaN          NaN        NaN   4.469682      4.469682  \n",
       "2     5.572427  6.131487     5.851957  10.201045   9.866244     10.033644  \n",
       "3     6.080384  6.670409     6.375396  13.518765  10.761427     12.140096  \n",
       "4     4.462108  4.855534     4.658821   7.653326   6.918810      7.286068  \n",
       "...        ...       ...          ...        ...        ...           ...  \n",
       "2946       NaN       NaN          NaN        NaN   8.543730      8.543730  \n",
       "2947       NaN       NaN          NaN        NaN   5.330147      5.330147  \n",
       "2948       NaN       NaN          NaN        NaN  15.226770     15.226770  \n",
       "2950       NaN       NaN          NaN        NaN   8.733813      8.733813  \n",
       "2951       NaN       NaN          NaN        NaN  15.379927     15.379927  \n",
       "\n",
       "[2861 rows x 11 columns]"
      ],
      "text/html": [
       "<div>\n",
       "<style scoped>\n",
       "    .dataframe tbody tr th:only-of-type {\n",
       "        vertical-align: middle;\n",
       "    }\n",
       "\n",
       "    .dataframe tbody tr th {\n",
       "        vertical-align: top;\n",
       "    }\n",
       "\n",
       "    .dataframe thead th {\n",
       "        text-align: right;\n",
       "    }\n",
       "</style>\n",
       "<table border=\"1\" class=\"dataframe\">\n",
       "  <thead>\n",
       "    <tr style=\"text-align: right;\">\n",
       "      <th></th>\n",
       "      <th>Protein ID</th>\n",
       "      <th>Gene names</th>\n",
       "      <th>C_lim3_1</th>\n",
       "      <th>C_lim3_2</th>\n",
       "      <th>C_lim3_mean</th>\n",
       "      <th>C_lim6_1</th>\n",
       "      <th>C_lim6_2</th>\n",
       "      <th>C_lim6_mean</th>\n",
       "      <th>C_lim12_1</th>\n",
       "      <th>C_lim12_2</th>\n",
       "      <th>C_lim12_mean</th>\n",
       "    </tr>\n",
       "  </thead>\n",
       "  <tbody>\n",
       "    <tr>\n",
       "      <th>0</th>\n",
       "      <td>sp|A5A614|YCIZ_ECOLI</td>\n",
       "      <td>yciZ</td>\n",
       "      <td>NaN</td>\n",
       "      <td>NaN</td>\n",
       "      <td>NaN</td>\n",
       "      <td>3.932642</td>\n",
       "      <td>3.601144</td>\n",
       "      <td>3.766893</td>\n",
       "      <td>NaN</td>\n",
       "      <td>NaN</td>\n",
       "      <td>NaN</td>\n",
       "    </tr>\n",
       "    <tr>\n",
       "      <th>1</th>\n",
       "      <td>sp|O32583|THIS_ECOLI</td>\n",
       "      <td>thiS</td>\n",
       "      <td>NaN</td>\n",
       "      <td>NaN</td>\n",
       "      <td>NaN</td>\n",
       "      <td>NaN</td>\n",
       "      <td>NaN</td>\n",
       "      <td>NaN</td>\n",
       "      <td>NaN</td>\n",
       "      <td>4.469682</td>\n",
       "      <td>4.469682</td>\n",
       "    </tr>\n",
       "    <tr>\n",
       "      <th>2</th>\n",
       "      <td>sp|P00350|6PGD_ECOLI</td>\n",
       "      <td>gnd</td>\n",
       "      <td>3.248315</td>\n",
       "      <td>3.163151</td>\n",
       "      <td>3.205733</td>\n",
       "      <td>5.572427</td>\n",
       "      <td>6.131487</td>\n",
       "      <td>5.851957</td>\n",
       "      <td>10.201045</td>\n",
       "      <td>9.866244</td>\n",
       "      <td>10.033644</td>\n",
       "    </tr>\n",
       "    <tr>\n",
       "      <th>3</th>\n",
       "      <td>sp|P00363|FRDA_ECOLI</td>\n",
       "      <td>frdA</td>\n",
       "      <td>2.992966</td>\n",
       "      <td>2.946457</td>\n",
       "      <td>2.969711</td>\n",
       "      <td>6.080384</td>\n",
       "      <td>6.670409</td>\n",
       "      <td>6.375396</td>\n",
       "      <td>13.518765</td>\n",
       "      <td>10.761427</td>\n",
       "      <td>12.140096</td>\n",
       "    </tr>\n",
       "    <tr>\n",
       "      <th>4</th>\n",
       "      <td>sp|P00370|DHE4_ECOLI</td>\n",
       "      <td>gdhA</td>\n",
       "      <td>3.076857</td>\n",
       "      <td>2.810401</td>\n",
       "      <td>2.943629</td>\n",
       "      <td>4.462108</td>\n",
       "      <td>4.855534</td>\n",
       "      <td>4.658821</td>\n",
       "      <td>7.653326</td>\n",
       "      <td>6.918810</td>\n",
       "      <td>7.286068</td>\n",
       "    </tr>\n",
       "    <tr>\n",
       "      <th>...</th>\n",
       "      <td>...</td>\n",
       "      <td>...</td>\n",
       "      <td>...</td>\n",
       "      <td>...</td>\n",
       "      <td>...</td>\n",
       "      <td>...</td>\n",
       "      <td>...</td>\n",
       "      <td>...</td>\n",
       "      <td>...</td>\n",
       "      <td>...</td>\n",
       "      <td>...</td>\n",
       "    </tr>\n",
       "    <tr>\n",
       "      <th>2946</th>\n",
       "      <td>sp|P76458|ATOD_ECOLI</td>\n",
       "      <td>atoD</td>\n",
       "      <td>NaN</td>\n",
       "      <td>NaN</td>\n",
       "      <td>NaN</td>\n",
       "      <td>NaN</td>\n",
       "      <td>NaN</td>\n",
       "      <td>NaN</td>\n",
       "      <td>NaN</td>\n",
       "      <td>8.543730</td>\n",
       "      <td>8.543730</td>\n",
       "    </tr>\n",
       "    <tr>\n",
       "      <th>2947</th>\n",
       "      <td>sp|P77162|YKFB_ECOLI</td>\n",
       "      <td>ykfB</td>\n",
       "      <td>NaN</td>\n",
       "      <td>NaN</td>\n",
       "      <td>NaN</td>\n",
       "      <td>NaN</td>\n",
       "      <td>NaN</td>\n",
       "      <td>NaN</td>\n",
       "      <td>NaN</td>\n",
       "      <td>5.330147</td>\n",
       "      <td>5.330147</td>\n",
       "    </tr>\n",
       "    <tr>\n",
       "      <th>2948</th>\n",
       "      <td>sp|Q46892|YGBN_ECOLI</td>\n",
       "      <td>ygbN</td>\n",
       "      <td>NaN</td>\n",
       "      <td>NaN</td>\n",
       "      <td>NaN</td>\n",
       "      <td>NaN</td>\n",
       "      <td>NaN</td>\n",
       "      <td>NaN</td>\n",
       "      <td>NaN</td>\n",
       "      <td>15.226770</td>\n",
       "      <td>15.226770</td>\n",
       "    </tr>\n",
       "    <tr>\n",
       "      <th>2950</th>\n",
       "      <td>sp|Q47274|REQ1_ECOLI</td>\n",
       "      <td>quuD</td>\n",
       "      <td>NaN</td>\n",
       "      <td>NaN</td>\n",
       "      <td>NaN</td>\n",
       "      <td>NaN</td>\n",
       "      <td>NaN</td>\n",
       "      <td>NaN</td>\n",
       "      <td>NaN</td>\n",
       "      <td>8.733813</td>\n",
       "      <td>8.733813</td>\n",
       "    </tr>\n",
       "    <tr>\n",
       "      <th>2951</th>\n",
       "      <td>sp|Q47534|YAIO_ECOLI</td>\n",
       "      <td>yaiO</td>\n",
       "      <td>NaN</td>\n",
       "      <td>NaN</td>\n",
       "      <td>NaN</td>\n",
       "      <td>NaN</td>\n",
       "      <td>NaN</td>\n",
       "      <td>NaN</td>\n",
       "      <td>NaN</td>\n",
       "      <td>15.379927</td>\n",
       "      <td>15.379927</td>\n",
       "    </tr>\n",
       "  </tbody>\n",
       "</table>\n",
       "<p>2861 rows × 11 columns</p>\n",
       "</div>"
      ]
     },
     "execution_count": 20,
     "metadata": {},
     "output_type": "execute_result"
    }
   ],
   "execution_count": 20
  },
  {
   "metadata": {},
   "cell_type": "markdown",
   "source": "## Plot of all proteins that have a half life under 2 hours in the C-limited 12 hr chemostat ",
   "id": "186b0cdee2f8bbdc"
  },
  {
   "metadata": {
    "ExecuteTime": {
     "end_time": "2024-09-20T21:45:10.437176Z",
     "start_time": "2024-09-20T21:45:10.425775Z"
    }
   },
   "cell_type": "code",
   "source": [
    "# filter out proteins that have a mean half life greater than 2 hours in the C-lim 12 hr measurement: \n",
    "Clim12_under_2hrs = Clim_data[Clim_data['C_lim12_mean'] <= 2] # 91 rows\n",
    "\n",
    "# filter out proteins that have NaN values for each replicate for one doubling time measurment (because it will not show up nicely on the graph): \n",
    "Clim12_under_2hrs.dropna(subset=['C_lim3_mean', 'C_lim6_mean', 'C_lim12_mean']) # 70 rows "
   ],
   "id": "f151f4d9009fb6ee",
   "outputs": [
    {
     "data": {
      "text/plain": [
       "                Protein ID Gene names   C_lim3_1      C_lim3_2   C_lim3_mean   \n",
       "34    sp|P00936|CYAA_ECOLI        cyaA  0.834197  8.554738e-01  8.448355e-01  \\\n",
       "79    sp|P04949|FLIC_ECOLI        fliC  0.572848  8.613680e-01  7.171081e-01   \n",
       "133   sp|P06993|MALT_ECOLI        malT  0.536392  6.838049e-01  6.100983e-01   \n",
       "278    sp|P0A6R3|FIS_ECOLI         fis       NaN  6.823146e-01  6.823146e-01   \n",
       "309   sp|P0A725|LPXC_ECOLI        lpxC  0.392410  5.408450e-01  4.666273e-01   \n",
       "...                    ...         ...       ...           ...           ...   \n",
       "2717  sp|Q47129|FEAR_ECOLI        feaR  0.300514  4.275726e-01  3.640433e-01   \n",
       "2727  sp|P0AAS9|YBDD_ECOLI        ybdD       NaN  1.434577e+00  1.434577e+00   \n",
       "2733  sp|P0ACW6|YDCH_ECOLI        ydcH       NaN  1.332188e+00  1.332188e+00   \n",
       "2742   sp|P0AFW2|RMF_ECOLI         rmf       NaN  2.415470e-09  2.415470e-09   \n",
       "2812  sp|Q46888|LTND_ECOLI        ltnD       NaN  2.607529e-01  2.607529e-01   \n",
       "\n",
       "      C_lim6_1  C_lim6_2  C_lim6_mean  C_lim12_1     C_lim12_2  C_lim12_mean  \n",
       "34         NaN  1.194742     1.194742   1.500753  1.814483e+00      1.657618  \n",
       "79    0.985057  0.462050     0.723554   1.371948  5.405897e-01      0.956269  \n",
       "133   1.114213  0.980639     1.047426   1.502937  1.250091e+00      1.376514  \n",
       "278   0.990229       NaN     0.990229        NaN  7.307034e-01      0.730703  \n",
       "309   0.939977  0.782796     0.861386   1.335069  8.660660e-01      1.100568  \n",
       "...        ...       ...          ...        ...           ...           ...  \n",
       "2717  0.723959  0.598690     0.661325        NaN  6.496005e-01      0.649601  \n",
       "2727  1.169254  1.811866     1.490560   1.466733           NaN      1.466733  \n",
       "2733  1.939351  1.796777     1.868064        NaN  1.745587e+00      1.745587  \n",
       "2742  0.071175       NaN     0.071175   0.102756  7.805440e-09      0.051378  \n",
       "2812  0.509234       NaN     0.509234   2.731939  6.547763e-01      1.693358  \n",
       "\n",
       "[70 rows x 11 columns]"
      ],
      "text/html": [
       "<div>\n",
       "<style scoped>\n",
       "    .dataframe tbody tr th:only-of-type {\n",
       "        vertical-align: middle;\n",
       "    }\n",
       "\n",
       "    .dataframe tbody tr th {\n",
       "        vertical-align: top;\n",
       "    }\n",
       "\n",
       "    .dataframe thead th {\n",
       "        text-align: right;\n",
       "    }\n",
       "</style>\n",
       "<table border=\"1\" class=\"dataframe\">\n",
       "  <thead>\n",
       "    <tr style=\"text-align: right;\">\n",
       "      <th></th>\n",
       "      <th>Protein ID</th>\n",
       "      <th>Gene names</th>\n",
       "      <th>C_lim3_1</th>\n",
       "      <th>C_lim3_2</th>\n",
       "      <th>C_lim3_mean</th>\n",
       "      <th>C_lim6_1</th>\n",
       "      <th>C_lim6_2</th>\n",
       "      <th>C_lim6_mean</th>\n",
       "      <th>C_lim12_1</th>\n",
       "      <th>C_lim12_2</th>\n",
       "      <th>C_lim12_mean</th>\n",
       "    </tr>\n",
       "  </thead>\n",
       "  <tbody>\n",
       "    <tr>\n",
       "      <th>34</th>\n",
       "      <td>sp|P00936|CYAA_ECOLI</td>\n",
       "      <td>cyaA</td>\n",
       "      <td>0.834197</td>\n",
       "      <td>8.554738e-01</td>\n",
       "      <td>8.448355e-01</td>\n",
       "      <td>NaN</td>\n",
       "      <td>1.194742</td>\n",
       "      <td>1.194742</td>\n",
       "      <td>1.500753</td>\n",
       "      <td>1.814483e+00</td>\n",
       "      <td>1.657618</td>\n",
       "    </tr>\n",
       "    <tr>\n",
       "      <th>79</th>\n",
       "      <td>sp|P04949|FLIC_ECOLI</td>\n",
       "      <td>fliC</td>\n",
       "      <td>0.572848</td>\n",
       "      <td>8.613680e-01</td>\n",
       "      <td>7.171081e-01</td>\n",
       "      <td>0.985057</td>\n",
       "      <td>0.462050</td>\n",
       "      <td>0.723554</td>\n",
       "      <td>1.371948</td>\n",
       "      <td>5.405897e-01</td>\n",
       "      <td>0.956269</td>\n",
       "    </tr>\n",
       "    <tr>\n",
       "      <th>133</th>\n",
       "      <td>sp|P06993|MALT_ECOLI</td>\n",
       "      <td>malT</td>\n",
       "      <td>0.536392</td>\n",
       "      <td>6.838049e-01</td>\n",
       "      <td>6.100983e-01</td>\n",
       "      <td>1.114213</td>\n",
       "      <td>0.980639</td>\n",
       "      <td>1.047426</td>\n",
       "      <td>1.502937</td>\n",
       "      <td>1.250091e+00</td>\n",
       "      <td>1.376514</td>\n",
       "    </tr>\n",
       "    <tr>\n",
       "      <th>278</th>\n",
       "      <td>sp|P0A6R3|FIS_ECOLI</td>\n",
       "      <td>fis</td>\n",
       "      <td>NaN</td>\n",
       "      <td>6.823146e-01</td>\n",
       "      <td>6.823146e-01</td>\n",
       "      <td>0.990229</td>\n",
       "      <td>NaN</td>\n",
       "      <td>0.990229</td>\n",
       "      <td>NaN</td>\n",
       "      <td>7.307034e-01</td>\n",
       "      <td>0.730703</td>\n",
       "    </tr>\n",
       "    <tr>\n",
       "      <th>309</th>\n",
       "      <td>sp|P0A725|LPXC_ECOLI</td>\n",
       "      <td>lpxC</td>\n",
       "      <td>0.392410</td>\n",
       "      <td>5.408450e-01</td>\n",
       "      <td>4.666273e-01</td>\n",
       "      <td>0.939977</td>\n",
       "      <td>0.782796</td>\n",
       "      <td>0.861386</td>\n",
       "      <td>1.335069</td>\n",
       "      <td>8.660660e-01</td>\n",
       "      <td>1.100568</td>\n",
       "    </tr>\n",
       "    <tr>\n",
       "      <th>...</th>\n",
       "      <td>...</td>\n",
       "      <td>...</td>\n",
       "      <td>...</td>\n",
       "      <td>...</td>\n",
       "      <td>...</td>\n",
       "      <td>...</td>\n",
       "      <td>...</td>\n",
       "      <td>...</td>\n",
       "      <td>...</td>\n",
       "      <td>...</td>\n",
       "      <td>...</td>\n",
       "    </tr>\n",
       "    <tr>\n",
       "      <th>2717</th>\n",
       "      <td>sp|Q47129|FEAR_ECOLI</td>\n",
       "      <td>feaR</td>\n",
       "      <td>0.300514</td>\n",
       "      <td>4.275726e-01</td>\n",
       "      <td>3.640433e-01</td>\n",
       "      <td>0.723959</td>\n",
       "      <td>0.598690</td>\n",
       "      <td>0.661325</td>\n",
       "      <td>NaN</td>\n",
       "      <td>6.496005e-01</td>\n",
       "      <td>0.649601</td>\n",
       "    </tr>\n",
       "    <tr>\n",
       "      <th>2727</th>\n",
       "      <td>sp|P0AAS9|YBDD_ECOLI</td>\n",
       "      <td>ybdD</td>\n",
       "      <td>NaN</td>\n",
       "      <td>1.434577e+00</td>\n",
       "      <td>1.434577e+00</td>\n",
       "      <td>1.169254</td>\n",
       "      <td>1.811866</td>\n",
       "      <td>1.490560</td>\n",
       "      <td>1.466733</td>\n",
       "      <td>NaN</td>\n",
       "      <td>1.466733</td>\n",
       "    </tr>\n",
       "    <tr>\n",
       "      <th>2733</th>\n",
       "      <td>sp|P0ACW6|YDCH_ECOLI</td>\n",
       "      <td>ydcH</td>\n",
       "      <td>NaN</td>\n",
       "      <td>1.332188e+00</td>\n",
       "      <td>1.332188e+00</td>\n",
       "      <td>1.939351</td>\n",
       "      <td>1.796777</td>\n",
       "      <td>1.868064</td>\n",
       "      <td>NaN</td>\n",
       "      <td>1.745587e+00</td>\n",
       "      <td>1.745587</td>\n",
       "    </tr>\n",
       "    <tr>\n",
       "      <th>2742</th>\n",
       "      <td>sp|P0AFW2|RMF_ECOLI</td>\n",
       "      <td>rmf</td>\n",
       "      <td>NaN</td>\n",
       "      <td>2.415470e-09</td>\n",
       "      <td>2.415470e-09</td>\n",
       "      <td>0.071175</td>\n",
       "      <td>NaN</td>\n",
       "      <td>0.071175</td>\n",
       "      <td>0.102756</td>\n",
       "      <td>7.805440e-09</td>\n",
       "      <td>0.051378</td>\n",
       "    </tr>\n",
       "    <tr>\n",
       "      <th>2812</th>\n",
       "      <td>sp|Q46888|LTND_ECOLI</td>\n",
       "      <td>ltnD</td>\n",
       "      <td>NaN</td>\n",
       "      <td>2.607529e-01</td>\n",
       "      <td>2.607529e-01</td>\n",
       "      <td>0.509234</td>\n",
       "      <td>NaN</td>\n",
       "      <td>0.509234</td>\n",
       "      <td>2.731939</td>\n",
       "      <td>6.547763e-01</td>\n",
       "      <td>1.693358</td>\n",
       "    </tr>\n",
       "  </tbody>\n",
       "</table>\n",
       "<p>70 rows × 11 columns</p>\n",
       "</div>"
      ]
     },
     "execution_count": 25,
     "metadata": {},
     "output_type": "execute_result"
    }
   ],
   "execution_count": 25
  },
  {
   "metadata": {
    "ExecuteTime": {
     "end_time": "2024-09-20T21:59:38.046970Z",
     "start_time": "2024-09-20T21:59:38.039325Z"
    }
   },
   "cell_type": "code",
   "source": [
    "# Generate the 3D plot using plotly:\n",
    "fig = go.Figure(data=[go.Scatter3d(\n",
    "    x=Clim12_under_2hrs['C_lim3_mean'],  # X axis\n",
    "    y=Clim12_under_2hrs['C_lim6_mean'],  # Y axis\n",
    "    z=Clim12_under_2hrs['C_lim12_mean'], # Z axis\n",
    "    mode='markers',       # Use markers for scatter plot\n",
    "    marker=dict(\n",
    "        size=5,\n",
    "        colorscale='Viridis',\n",
    "        opacity=0.8\n",
    "    ), \n",
    "    text=Clim12_under_2hrs['Gene names '],  # Add 'Gene names' as hover text\n",
    "    hovertemplate=\"<b>Gene name:</b> %{text}<br>\" +  # Display Gene names\n",
    "                  \"<b>C_lim3_mean:</b> %{x}<br>\" +   # Display C_lim3_mean\n",
    "                  \"<b>C_lim6_mean:</b> %{y}<br>\" +   # Display C_lim6_mean\n",
    "                  \"<b>C_lim12_mean:</b> %{z}<br>\"    # Display C_lim12_mean\n",
    "\n",
    ")])\n",
    "\n",
    "# Update layout for better visualization\n",
    "fig.update_layout(\n",
    "    scene=dict(\n",
    "        xaxis_title='C_lim3_mean',\n",
    "        yaxis_title='C_lim6_mean',\n",
    "        zaxis_title='C_lim12_mean'\n",
    "    ),\n",
    "    title='Comparison of the mean half life values for proteins with half<br> lives under 2 hours in the C-limited 12 hour measurement',\n",
    "    height=700\n",
    ")"
   ],
   "id": "9ed301fb0373cf94",
   "outputs": [
    {
     "data": {
      "application/vnd.plotly.v1+json": {
       "data": [
        {
         "hovertemplate": "<b>Gene name:</b> %{text}<br><b>C_lim3_mean:</b> %{x}<br><b>C_lim6_mean:</b> %{y}<br><b>C_lim12_mean:</b> %{z}<br>",
         "marker": {
          "colorscale": [
           [
            0.0,
            "#440154"
           ],
           [
            0.1111111111111111,
            "#482878"
           ],
           [
            0.2222222222222222,
            "#3e4989"
           ],
           [
            0.3333333333333333,
            "#31688e"
           ],
           [
            0.4444444444444444,
            "#26828e"
           ],
           [
            0.5555555555555556,
            "#1f9e89"
           ],
           [
            0.6666666666666666,
            "#35b779"
           ],
           [
            0.7777777777777778,
            "#6ece58"
           ],
           [
            0.8888888888888888,
            "#b5de2b"
           ],
           [
            1.0,
            "#fde725"
           ]
          ],
          "opacity": 0.8,
          "size": 5
         },
         "mode": "markers",
         "text": [
          "cyaA",
          "fliC",
          "malT",
          "fis",
          "lpxC",
          "ribB",
          "tatE",
          "clpS",
          "araC",
          "metR",
          "cfa",
          "phoH",
          "deaD",
          "ybaQ",
          "cspA",
          "yafK",
          "ybjN",
          "clpA",
          "exbD",
          "hha",
          "fucR",
          "zntR",
          "yebG",
          "ygaC",
          "ilvM",
          "motB",
          "rseA",
          "ibpA",
          "ibpB",
          "insC3",
          "nadA",
          "bioB",
          "rpoS",
          "yceA",
          "fliD",
          "rfaZ",
          "flgL",
          "thiG",
          "thiH",
          "moaA",
          "intA",
          "yeiQ",
          "flgK",
          "feoB",
          "bcsE",
          "patA",
          "ftsK",
          "ybjX",
          "flgD",
          "yciW",
          "cho",
          "yeaC",
          "sixA",
          "rsxC",
          "puuA",
          "mqsA",
          "cbl",
          "dinJ",
          "cspD",
          "flgC",
          "mdtO",
          "yadI",
          "fliZ",
          "smrA",
          "srlD",
          "flgM",
          "fucK",
          "chbR",
          "preA",
          "ycgB",
          "cspB",
          "adhP",
          "sra",
          "paaK",
          "yeaH",
          "csiD",
          "ydaM",
          "prpE",
          "ybcK",
          "feaR",
          "ybdD",
          "ydcH",
          "rmf",
          "idnR",
          "ltnD",
          "narW",
          "sgcE",
          "aegA",
          "yodD",
          "smg",
          "ydiH"
         ],
         "x": [
          0.844835528,
          0.7171080935,
          0.6100983495000001,
          0.682314628,
          0.46662726,
          1.2001706049999998,
          0.833418601,
          0.521971835,
          0.7468989699999999,
          0.8108815615,
          0.47410525400000003,
          0.166042882,
          1.402046087,
          0.8705791795,
          1.65685062,
          0.3134703875,
          0.633990383,
          0.799410797,
          1.3418950344999998,
          null,
          0.6951313505,
          null,
          0.9784920475000001,
          1.178542186,
          0.82853414,
          0.682871601,
          null,
          1.1994058605,
          1.030926831,
          0.120554405,
          1.1385333800000002,
          0.8031348205,
          0.2956109525,
          0.3432539235,
          1.4023285465000002,
          1.6700892445,
          0.26509056799999997,
          1.5864968579999998,
          0.9476976770000001,
          0.6178501155,
          1.1605581715,
          0.3603199745,
          0.3845744515,
          0.811860296,
          0.494617467,
          0.377743442,
          0.8906124025,
          0.9533595605,
          0.360401978,
          1.2462995664999998,
          1.058231202,
          0.230910145,
          1.0608975495,
          1.301419433,
          0.747977195,
          0.5594952295,
          1.178577147,
          null,
          0.3326015175,
          0.543694083,
          0.523677329,
          null,
          0.8279032645,
          0.985141003,
          1.188404607,
          0.6934512205,
          0.905093409,
          1.1818717005,
          0.8693885564999999,
          1.0503711265,
          2.029581579,
          0.07746635364945001,
          1.6387275635,
          0.6918009695,
          1.3736246235,
          0.7941616965,
          0.7898575045,
          0.350435791,
          1.407522434,
          0.3640432555,
          1.434576673,
          1.332188047,
          2.41547E-9,
          0.547746719,
          0.260752898,
          null,
          null,
          null,
          null,
          null,
          null
         ],
         "y": [
          1.194742346,
          0.7235537919999999,
          1.047426014,
          0.990228735,
          0.8613861795,
          1.2009511505,
          0.982634347,
          0.627965292,
          1.4222105919999999,
          1.1701442955,
          0.6002747694999999,
          0.3472101615,
          1.3351898145,
          0.9765798015,
          1.2822941565,
          1.372019443,
          null,
          0.9695483715,
          0.8468932794999999,
          1.6888453860000001,
          1.095030289,
          0.865971124,
          1.1687337045000001,
          1.8103486315000001,
          0.317886927,
          1.208759722,
          0.45535913699999997,
          1.8262732045,
          null,
          null,
          1.392182793,
          1.297454989,
          0.8185056430000001,
          0.307798895,
          0.626648781,
          1.5167052985,
          0.39316625650000003,
          1.6101165554999999,
          1.0158417260000001,
          1.1150192965,
          1.1295501190000001,
          0.862527517,
          0.3231857725,
          0.7485847,
          0.854452674,
          0.630525892,
          1.358379351,
          0.7306606365,
          1.647366195,
          1.209793788,
          null,
          0.237376167,
          1.3502068045,
          1.3116002445000001,
          1.471486353,
          1.0721425865,
          1.155902013,
          0.9245973674999999,
          0.386473955,
          0.417194416,
          null,
          0.895477694,
          null,
          1.3505413,
          null,
          0.441878178,
          2.562025246,
          1.8877271545,
          2.34541021,
          1.489835402,
          null,
          0.14065346,
          1.85382773,
          0.9554404575000001,
          1.6016953555,
          1.176522339,
          1.8739713199999999,
          0.3655911395,
          null,
          0.6613247945,
          1.4905602070000001,
          1.86806382,
          0.071175277,
          null,
          0.509234263,
          1.4544856495,
          1.441708044,
          null,
          null,
          null,
          null
         ],
         "z": [
          1.657618286,
          0.956268757,
          1.376514008,
          0.730703395,
          1.100567676,
          1.3489010344999999,
          1.297256842,
          0.456261004,
          1.8140941905,
          1.0822423525,
          0.870993157,
          0.864352778,
          1.1882778555,
          1.526562514,
          1.144934995,
          1.814584594,
          1.212160129,
          1.1430013845,
          1.8839204619999999,
          0.865124845,
          1.3564243875,
          1.003995052,
          1.279620648,
          1.421995237,
          0.533202658,
          1.328676266,
          0.468958914,
          1.872161955,
          1.59098306,
          1.255212875,
          1.80095082,
          1.443647174,
          0.815702106,
          0.650372528,
          0.9064801225,
          1.7293144675,
          0.3985635845,
          1.8059505415,
          0.9876996339999999,
          1.923987608,
          0.593962009,
          0.91715378,
          0.8347217765,
          1.5833297335,
          1.017358882,
          1.0583813925,
          1.7587859065,
          1.305465405,
          0.362650237,
          1.9302408249999998,
          1.925330028,
          0.11578702809244,
          1.5679246199999999,
          1.764652916,
          0.976244512,
          1.230680616,
          1.859067948,
          0.788731255,
          0.223499448,
          1.791489301,
          1.6511E-8,
          0.859409604,
          1.225133798,
          1.419981141,
          1.430533759,
          0.8622203335,
          1.490932387,
          1.548307912,
          1.6694606855,
          1.9414989944999999,
          0.406506561,
          1.437688167,
          1.809476653,
          1.206482323,
          1.9505365105,
          0.7908573240000001,
          1.4160422215000001,
          0.610810133,
          1.968081694,
          0.649600502,
          1.466733331,
          1.745586526,
          0.05137793640272,
          1.100651343,
          1.6933576305,
          1.784049856,
          0.973830727,
          1.341646542,
          1.376121189,
          0.097189151,
          1.900972134
         ],
         "type": "scatter3d"
        }
       ],
       "layout": {
        "template": {
         "data": {
          "histogram2dcontour": [
           {
            "type": "histogram2dcontour",
            "colorbar": {
             "outlinewidth": 0,
             "ticks": ""
            },
            "colorscale": [
             [
              0.0,
              "#0d0887"
             ],
             [
              0.1111111111111111,
              "#46039f"
             ],
             [
              0.2222222222222222,
              "#7201a8"
             ],
             [
              0.3333333333333333,
              "#9c179e"
             ],
             [
              0.4444444444444444,
              "#bd3786"
             ],
             [
              0.5555555555555556,
              "#d8576b"
             ],
             [
              0.6666666666666666,
              "#ed7953"
             ],
             [
              0.7777777777777778,
              "#fb9f3a"
             ],
             [
              0.8888888888888888,
              "#fdca26"
             ],
             [
              1.0,
              "#f0f921"
             ]
            ]
           }
          ],
          "choropleth": [
           {
            "type": "choropleth",
            "colorbar": {
             "outlinewidth": 0,
             "ticks": ""
            }
           }
          ],
          "histogram2d": [
           {
            "type": "histogram2d",
            "colorbar": {
             "outlinewidth": 0,
             "ticks": ""
            },
            "colorscale": [
             [
              0.0,
              "#0d0887"
             ],
             [
              0.1111111111111111,
              "#46039f"
             ],
             [
              0.2222222222222222,
              "#7201a8"
             ],
             [
              0.3333333333333333,
              "#9c179e"
             ],
             [
              0.4444444444444444,
              "#bd3786"
             ],
             [
              0.5555555555555556,
              "#d8576b"
             ],
             [
              0.6666666666666666,
              "#ed7953"
             ],
             [
              0.7777777777777778,
              "#fb9f3a"
             ],
             [
              0.8888888888888888,
              "#fdca26"
             ],
             [
              1.0,
              "#f0f921"
             ]
            ]
           }
          ],
          "heatmap": [
           {
            "type": "heatmap",
            "colorbar": {
             "outlinewidth": 0,
             "ticks": ""
            },
            "colorscale": [
             [
              0.0,
              "#0d0887"
             ],
             [
              0.1111111111111111,
              "#46039f"
             ],
             [
              0.2222222222222222,
              "#7201a8"
             ],
             [
              0.3333333333333333,
              "#9c179e"
             ],
             [
              0.4444444444444444,
              "#bd3786"
             ],
             [
              0.5555555555555556,
              "#d8576b"
             ],
             [
              0.6666666666666666,
              "#ed7953"
             ],
             [
              0.7777777777777778,
              "#fb9f3a"
             ],
             [
              0.8888888888888888,
              "#fdca26"
             ],
             [
              1.0,
              "#f0f921"
             ]
            ]
           }
          ],
          "heatmapgl": [
           {
            "type": "heatmapgl",
            "colorbar": {
             "outlinewidth": 0,
             "ticks": ""
            },
            "colorscale": [
             [
              0.0,
              "#0d0887"
             ],
             [
              0.1111111111111111,
              "#46039f"
             ],
             [
              0.2222222222222222,
              "#7201a8"
             ],
             [
              0.3333333333333333,
              "#9c179e"
             ],
             [
              0.4444444444444444,
              "#bd3786"
             ],
             [
              0.5555555555555556,
              "#d8576b"
             ],
             [
              0.6666666666666666,
              "#ed7953"
             ],
             [
              0.7777777777777778,
              "#fb9f3a"
             ],
             [
              0.8888888888888888,
              "#fdca26"
             ],
             [
              1.0,
              "#f0f921"
             ]
            ]
           }
          ],
          "contourcarpet": [
           {
            "type": "contourcarpet",
            "colorbar": {
             "outlinewidth": 0,
             "ticks": ""
            }
           }
          ],
          "contour": [
           {
            "type": "contour",
            "colorbar": {
             "outlinewidth": 0,
             "ticks": ""
            },
            "colorscale": [
             [
              0.0,
              "#0d0887"
             ],
             [
              0.1111111111111111,
              "#46039f"
             ],
             [
              0.2222222222222222,
              "#7201a8"
             ],
             [
              0.3333333333333333,
              "#9c179e"
             ],
             [
              0.4444444444444444,
              "#bd3786"
             ],
             [
              0.5555555555555556,
              "#d8576b"
             ],
             [
              0.6666666666666666,
              "#ed7953"
             ],
             [
              0.7777777777777778,
              "#fb9f3a"
             ],
             [
              0.8888888888888888,
              "#fdca26"
             ],
             [
              1.0,
              "#f0f921"
             ]
            ]
           }
          ],
          "surface": [
           {
            "type": "surface",
            "colorbar": {
             "outlinewidth": 0,
             "ticks": ""
            },
            "colorscale": [
             [
              0.0,
              "#0d0887"
             ],
             [
              0.1111111111111111,
              "#46039f"
             ],
             [
              0.2222222222222222,
              "#7201a8"
             ],
             [
              0.3333333333333333,
              "#9c179e"
             ],
             [
              0.4444444444444444,
              "#bd3786"
             ],
             [
              0.5555555555555556,
              "#d8576b"
             ],
             [
              0.6666666666666666,
              "#ed7953"
             ],
             [
              0.7777777777777778,
              "#fb9f3a"
             ],
             [
              0.8888888888888888,
              "#fdca26"
             ],
             [
              1.0,
              "#f0f921"
             ]
            ]
           }
          ],
          "mesh3d": [
           {
            "type": "mesh3d",
            "colorbar": {
             "outlinewidth": 0,
             "ticks": ""
            }
           }
          ],
          "scatter": [
           {
            "fillpattern": {
             "fillmode": "overlay",
             "size": 10,
             "solidity": 0.2
            },
            "type": "scatter"
           }
          ],
          "parcoords": [
           {
            "type": "parcoords",
            "line": {
             "colorbar": {
              "outlinewidth": 0,
              "ticks": ""
             }
            }
           }
          ],
          "scatterpolargl": [
           {
            "type": "scatterpolargl",
            "marker": {
             "colorbar": {
              "outlinewidth": 0,
              "ticks": ""
             }
            }
           }
          ],
          "bar": [
           {
            "error_x": {
             "color": "#2a3f5f"
            },
            "error_y": {
             "color": "#2a3f5f"
            },
            "marker": {
             "line": {
              "color": "#E5ECF6",
              "width": 0.5
             },
             "pattern": {
              "fillmode": "overlay",
              "size": 10,
              "solidity": 0.2
             }
            },
            "type": "bar"
           }
          ],
          "scattergeo": [
           {
            "type": "scattergeo",
            "marker": {
             "colorbar": {
              "outlinewidth": 0,
              "ticks": ""
             }
            }
           }
          ],
          "scatterpolar": [
           {
            "type": "scatterpolar",
            "marker": {
             "colorbar": {
              "outlinewidth": 0,
              "ticks": ""
             }
            }
           }
          ],
          "histogram": [
           {
            "marker": {
             "pattern": {
              "fillmode": "overlay",
              "size": 10,
              "solidity": 0.2
             }
            },
            "type": "histogram"
           }
          ],
          "scattergl": [
           {
            "type": "scattergl",
            "marker": {
             "colorbar": {
              "outlinewidth": 0,
              "ticks": ""
             }
            }
           }
          ],
          "scatter3d": [
           {
            "type": "scatter3d",
            "line": {
             "colorbar": {
              "outlinewidth": 0,
              "ticks": ""
             }
            },
            "marker": {
             "colorbar": {
              "outlinewidth": 0,
              "ticks": ""
             }
            }
           }
          ],
          "scattermapbox": [
           {
            "type": "scattermapbox",
            "marker": {
             "colorbar": {
              "outlinewidth": 0,
              "ticks": ""
             }
            }
           }
          ],
          "scatterternary": [
           {
            "type": "scatterternary",
            "marker": {
             "colorbar": {
              "outlinewidth": 0,
              "ticks": ""
             }
            }
           }
          ],
          "scattercarpet": [
           {
            "type": "scattercarpet",
            "marker": {
             "colorbar": {
              "outlinewidth": 0,
              "ticks": ""
             }
            }
           }
          ],
          "carpet": [
           {
            "aaxis": {
             "endlinecolor": "#2a3f5f",
             "gridcolor": "white",
             "linecolor": "white",
             "minorgridcolor": "white",
             "startlinecolor": "#2a3f5f"
            },
            "baxis": {
             "endlinecolor": "#2a3f5f",
             "gridcolor": "white",
             "linecolor": "white",
             "minorgridcolor": "white",
             "startlinecolor": "#2a3f5f"
            },
            "type": "carpet"
           }
          ],
          "table": [
           {
            "cells": {
             "fill": {
              "color": "#EBF0F8"
             },
             "line": {
              "color": "white"
             }
            },
            "header": {
             "fill": {
              "color": "#C8D4E3"
             },
             "line": {
              "color": "white"
             }
            },
            "type": "table"
           }
          ],
          "barpolar": [
           {
            "marker": {
             "line": {
              "color": "#E5ECF6",
              "width": 0.5
             },
             "pattern": {
              "fillmode": "overlay",
              "size": 10,
              "solidity": 0.2
             }
            },
            "type": "barpolar"
           }
          ],
          "pie": [
           {
            "automargin": true,
            "type": "pie"
           }
          ]
         },
         "layout": {
          "autotypenumbers": "strict",
          "colorway": [
           "#636efa",
           "#EF553B",
           "#00cc96",
           "#ab63fa",
           "#FFA15A",
           "#19d3f3",
           "#FF6692",
           "#B6E880",
           "#FF97FF",
           "#FECB52"
          ],
          "font": {
           "color": "#2a3f5f"
          },
          "hovermode": "closest",
          "hoverlabel": {
           "align": "left"
          },
          "paper_bgcolor": "white",
          "plot_bgcolor": "#E5ECF6",
          "polar": {
           "bgcolor": "#E5ECF6",
           "angularaxis": {
            "gridcolor": "white",
            "linecolor": "white",
            "ticks": ""
           },
           "radialaxis": {
            "gridcolor": "white",
            "linecolor": "white",
            "ticks": ""
           }
          },
          "ternary": {
           "bgcolor": "#E5ECF6",
           "aaxis": {
            "gridcolor": "white",
            "linecolor": "white",
            "ticks": ""
           },
           "baxis": {
            "gridcolor": "white",
            "linecolor": "white",
            "ticks": ""
           },
           "caxis": {
            "gridcolor": "white",
            "linecolor": "white",
            "ticks": ""
           }
          },
          "coloraxis": {
           "colorbar": {
            "outlinewidth": 0,
            "ticks": ""
           }
          },
          "colorscale": {
           "sequential": [
            [
             0.0,
             "#0d0887"
            ],
            [
             0.1111111111111111,
             "#46039f"
            ],
            [
             0.2222222222222222,
             "#7201a8"
            ],
            [
             0.3333333333333333,
             "#9c179e"
            ],
            [
             0.4444444444444444,
             "#bd3786"
            ],
            [
             0.5555555555555556,
             "#d8576b"
            ],
            [
             0.6666666666666666,
             "#ed7953"
            ],
            [
             0.7777777777777778,
             "#fb9f3a"
            ],
            [
             0.8888888888888888,
             "#fdca26"
            ],
            [
             1.0,
             "#f0f921"
            ]
           ],
           "sequentialminus": [
            [
             0.0,
             "#0d0887"
            ],
            [
             0.1111111111111111,
             "#46039f"
            ],
            [
             0.2222222222222222,
             "#7201a8"
            ],
            [
             0.3333333333333333,
             "#9c179e"
            ],
            [
             0.4444444444444444,
             "#bd3786"
            ],
            [
             0.5555555555555556,
             "#d8576b"
            ],
            [
             0.6666666666666666,
             "#ed7953"
            ],
            [
             0.7777777777777778,
             "#fb9f3a"
            ],
            [
             0.8888888888888888,
             "#fdca26"
            ],
            [
             1.0,
             "#f0f921"
            ]
           ],
           "diverging": [
            [
             0,
             "#8e0152"
            ],
            [
             0.1,
             "#c51b7d"
            ],
            [
             0.2,
             "#de77ae"
            ],
            [
             0.3,
             "#f1b6da"
            ],
            [
             0.4,
             "#fde0ef"
            ],
            [
             0.5,
             "#f7f7f7"
            ],
            [
             0.6,
             "#e6f5d0"
            ],
            [
             0.7,
             "#b8e186"
            ],
            [
             0.8,
             "#7fbc41"
            ],
            [
             0.9,
             "#4d9221"
            ],
            [
             1,
             "#276419"
            ]
           ]
          },
          "xaxis": {
           "gridcolor": "white",
           "linecolor": "white",
           "ticks": "",
           "title": {
            "standoff": 15
           },
           "zerolinecolor": "white",
           "automargin": true,
           "zerolinewidth": 2
          },
          "yaxis": {
           "gridcolor": "white",
           "linecolor": "white",
           "ticks": "",
           "title": {
            "standoff": 15
           },
           "zerolinecolor": "white",
           "automargin": true,
           "zerolinewidth": 2
          },
          "scene": {
           "xaxis": {
            "backgroundcolor": "#E5ECF6",
            "gridcolor": "white",
            "linecolor": "white",
            "showbackground": true,
            "ticks": "",
            "zerolinecolor": "white",
            "gridwidth": 2
           },
           "yaxis": {
            "backgroundcolor": "#E5ECF6",
            "gridcolor": "white",
            "linecolor": "white",
            "showbackground": true,
            "ticks": "",
            "zerolinecolor": "white",
            "gridwidth": 2
           },
           "zaxis": {
            "backgroundcolor": "#E5ECF6",
            "gridcolor": "white",
            "linecolor": "white",
            "showbackground": true,
            "ticks": "",
            "zerolinecolor": "white",
            "gridwidth": 2
           }
          },
          "shapedefaults": {
           "line": {
            "color": "#2a3f5f"
           }
          },
          "annotationdefaults": {
           "arrowcolor": "#2a3f5f",
           "arrowhead": 0,
           "arrowwidth": 1
          },
          "geo": {
           "bgcolor": "white",
           "landcolor": "#E5ECF6",
           "subunitcolor": "white",
           "showland": true,
           "showlakes": true,
           "lakecolor": "white"
          },
          "title": {
           "x": 0.05
          },
          "mapbox": {
           "style": "light"
          }
         }
        },
        "scene": {
         "xaxis": {
          "title": {
           "text": "C_lim3_mean"
          }
         },
         "yaxis": {
          "title": {
           "text": "C_lim6_mean"
          }
         },
         "zaxis": {
          "title": {
           "text": "C_lim12_mean"
          }
         }
        },
        "title": {
         "text": "Comparison of the mean half life values for proteins with half<br> lives under 2 hours in the C-limited 12 hour measurement"
        },
        "height": 700
       },
       "config": {
        "plotlyServerURL": "https://plot.ly"
       }
      },
      "text/html": [
       "<div>                            <div id=\"2929b4d9-49a4-409b-ab4d-53125379dd99\" class=\"plotly-graph-div\" style=\"height:700px; width:100%;\"></div>            <script type=\"text/javascript\">                require([\"plotly\"], function(Plotly) {                    window.PLOTLYENV=window.PLOTLYENV || {};                                    if (document.getElementById(\"2929b4d9-49a4-409b-ab4d-53125379dd99\")) {                    Plotly.newPlot(                        \"2929b4d9-49a4-409b-ab4d-53125379dd99\",                        [{\"hovertemplate\":\"<b>Gene name:</b> %{text}<br><b>C_lim3_mean:</b> %{x}<br><b>C_lim6_mean:</b> %{y}<br><b>C_lim12_mean:</b> %{z}<br>\",\"marker\":{\"colorscale\":[[0.0,\"#440154\"],[0.1111111111111111,\"#482878\"],[0.2222222222222222,\"#3e4989\"],[0.3333333333333333,\"#31688e\"],[0.4444444444444444,\"#26828e\"],[0.5555555555555556,\"#1f9e89\"],[0.6666666666666666,\"#35b779\"],[0.7777777777777778,\"#6ece58\"],[0.8888888888888888,\"#b5de2b\"],[1.0,\"#fde725\"]],\"opacity\":0.8,\"size\":5},\"mode\":\"markers\",\"text\":[\"cyaA\",\"fliC\",\"malT\",\"fis\",\"lpxC\",\"ribB\",\"tatE\",\"clpS\",\"araC\",\"metR\",\"cfa\",\"phoH\",\"deaD\",\"ybaQ\",\"cspA\",\"yafK\",\"ybjN\",\"clpA\",\"exbD\",\"hha\",\"fucR\",\"zntR\",\"yebG\",\"ygaC\",\"ilvM\",\"motB\",\"rseA\",\"ibpA\",\"ibpB\",\"insC3\",\"nadA\",\"bioB\",\"rpoS\",\"yceA\",\"fliD\",\"rfaZ\",\"flgL\",\"thiG\",\"thiH\",\"moaA\",\"intA\",\"yeiQ\",\"flgK\",\"feoB\",\"bcsE\",\"patA\",\"ftsK\",\"ybjX\",\"flgD\",\"yciW\",\"cho\",\"yeaC\",\"sixA\",\"rsxC\",\"puuA\",\"mqsA\",\"cbl\",\"dinJ\",\"cspD\",\"flgC\",\"mdtO\",\"yadI\",\"fliZ\",\"smrA\",\"srlD\",\"flgM\",\"fucK\",\"chbR\",\"preA\",\"ycgB\",\"cspB\",\"adhP\",\"sra\",\"paaK\",\"yeaH\",\"csiD\",\"ydaM\",\"prpE\",\"ybcK\",\"feaR\",\"ybdD\",\"ydcH\",\"rmf\",\"idnR\",\"ltnD\",\"narW\",\"sgcE\",\"aegA\",\"yodD\",\"smg\",\"ydiH\"],\"x\":[0.844835528,0.7171080935,0.6100983495000001,0.682314628,0.46662726,1.2001706049999998,0.833418601,0.521971835,0.7468989699999999,0.8108815615,0.47410525400000003,0.166042882,1.402046087,0.8705791795,1.65685062,0.3134703875,0.633990383,0.799410797,1.3418950344999998,null,0.6951313505,null,0.9784920475000001,1.178542186,0.82853414,0.682871601,null,1.1994058605,1.030926831,0.120554405,1.1385333800000002,0.8031348205,0.2956109525,0.3432539235,1.4023285465000002,1.6700892445,0.26509056799999997,1.5864968579999998,0.9476976770000001,0.6178501155,1.1605581715,0.3603199745,0.3845744515,0.811860296,0.494617467,0.377743442,0.8906124025,0.9533595605,0.360401978,1.2462995664999998,1.058231202,0.230910145,1.0608975495,1.301419433,0.747977195,0.5594952295,1.178577147,null,0.3326015175,0.543694083,0.523677329,null,0.8279032645,0.985141003,1.188404607,0.6934512205,0.905093409,1.1818717005,0.8693885564999999,1.0503711265,2.029581579,0.07746635364945001,1.6387275635,0.6918009695,1.3736246235,0.7941616965,0.7898575045,0.350435791,1.407522434,0.3640432555,1.434576673,1.332188047,2.41547e-09,0.547746719,0.260752898,null,null,null,null,null,null],\"y\":[1.194742346,0.7235537919999999,1.047426014,0.990228735,0.8613861795,1.2009511505,0.982634347,0.627965292,1.4222105919999999,1.1701442955,0.6002747694999999,0.3472101615,1.3351898145,0.9765798015,1.2822941565,1.372019443,null,0.9695483715,0.8468932794999999,1.6888453860000001,1.095030289,0.865971124,1.1687337045000001,1.8103486315000001,0.317886927,1.208759722,0.45535913699999997,1.8262732045,null,null,1.392182793,1.297454989,0.8185056430000001,0.307798895,0.626648781,1.5167052985,0.39316625650000003,1.6101165554999999,1.0158417260000001,1.1150192965,1.1295501190000001,0.862527517,0.3231857725,0.7485847,0.854452674,0.630525892,1.358379351,0.7306606365,1.647366195,1.209793788,null,0.237376167,1.3502068045,1.3116002445000001,1.471486353,1.0721425865,1.155902013,0.9245973674999999,0.386473955,0.417194416,null,0.895477694,null,1.3505413,null,0.441878178,2.562025246,1.8877271545,2.34541021,1.489835402,null,0.14065346,1.85382773,0.9554404575000001,1.6016953555,1.176522339,1.8739713199999999,0.3655911395,null,0.6613247945,1.4905602070000001,1.86806382,0.071175277,null,0.509234263,1.4544856495,1.441708044,null,null,null,null],\"z\":[1.657618286,0.956268757,1.376514008,0.730703395,1.100567676,1.3489010344999999,1.297256842,0.456261004,1.8140941905,1.0822423525,0.870993157,0.864352778,1.1882778555,1.526562514,1.144934995,1.814584594,1.212160129,1.1430013845,1.8839204619999999,0.865124845,1.3564243875,1.003995052,1.279620648,1.421995237,0.533202658,1.328676266,0.468958914,1.872161955,1.59098306,1.255212875,1.80095082,1.443647174,0.815702106,0.650372528,0.9064801225,1.7293144675,0.3985635845,1.8059505415,0.9876996339999999,1.923987608,0.593962009,0.91715378,0.8347217765,1.5833297335,1.017358882,1.0583813925,1.7587859065,1.305465405,0.362650237,1.9302408249999998,1.925330028,0.11578702809244,1.5679246199999999,1.764652916,0.976244512,1.230680616,1.859067948,0.788731255,0.223499448,1.791489301,1.6511e-08,0.859409604,1.225133798,1.419981141,1.430533759,0.8622203335,1.490932387,1.548307912,1.6694606855,1.9414989944999999,0.406506561,1.437688167,1.809476653,1.206482323,1.9505365105,0.7908573240000001,1.4160422215000001,0.610810133,1.968081694,0.649600502,1.466733331,1.745586526,0.05137793640272,1.100651343,1.6933576305,1.784049856,0.973830727,1.341646542,1.376121189,0.097189151,1.900972134],\"type\":\"scatter3d\"}],                        {\"template\":{\"data\":{\"histogram2dcontour\":[{\"type\":\"histogram2dcontour\",\"colorbar\":{\"outlinewidth\":0,\"ticks\":\"\"},\"colorscale\":[[0.0,\"#0d0887\"],[0.1111111111111111,\"#46039f\"],[0.2222222222222222,\"#7201a8\"],[0.3333333333333333,\"#9c179e\"],[0.4444444444444444,\"#bd3786\"],[0.5555555555555556,\"#d8576b\"],[0.6666666666666666,\"#ed7953\"],[0.7777777777777778,\"#fb9f3a\"],[0.8888888888888888,\"#fdca26\"],[1.0,\"#f0f921\"]]}],\"choropleth\":[{\"type\":\"choropleth\",\"colorbar\":{\"outlinewidth\":0,\"ticks\":\"\"}}],\"histogram2d\":[{\"type\":\"histogram2d\",\"colorbar\":{\"outlinewidth\":0,\"ticks\":\"\"},\"colorscale\":[[0.0,\"#0d0887\"],[0.1111111111111111,\"#46039f\"],[0.2222222222222222,\"#7201a8\"],[0.3333333333333333,\"#9c179e\"],[0.4444444444444444,\"#bd3786\"],[0.5555555555555556,\"#d8576b\"],[0.6666666666666666,\"#ed7953\"],[0.7777777777777778,\"#fb9f3a\"],[0.8888888888888888,\"#fdca26\"],[1.0,\"#f0f921\"]]}],\"heatmap\":[{\"type\":\"heatmap\",\"colorbar\":{\"outlinewidth\":0,\"ticks\":\"\"},\"colorscale\":[[0.0,\"#0d0887\"],[0.1111111111111111,\"#46039f\"],[0.2222222222222222,\"#7201a8\"],[0.3333333333333333,\"#9c179e\"],[0.4444444444444444,\"#bd3786\"],[0.5555555555555556,\"#d8576b\"],[0.6666666666666666,\"#ed7953\"],[0.7777777777777778,\"#fb9f3a\"],[0.8888888888888888,\"#fdca26\"],[1.0,\"#f0f921\"]]}],\"heatmapgl\":[{\"type\":\"heatmapgl\",\"colorbar\":{\"outlinewidth\":0,\"ticks\":\"\"},\"colorscale\":[[0.0,\"#0d0887\"],[0.1111111111111111,\"#46039f\"],[0.2222222222222222,\"#7201a8\"],[0.3333333333333333,\"#9c179e\"],[0.4444444444444444,\"#bd3786\"],[0.5555555555555556,\"#d8576b\"],[0.6666666666666666,\"#ed7953\"],[0.7777777777777778,\"#fb9f3a\"],[0.8888888888888888,\"#fdca26\"],[1.0,\"#f0f921\"]]}],\"contourcarpet\":[{\"type\":\"contourcarpet\",\"colorbar\":{\"outlinewidth\":0,\"ticks\":\"\"}}],\"contour\":[{\"type\":\"contour\",\"colorbar\":{\"outlinewidth\":0,\"ticks\":\"\"},\"colorscale\":[[0.0,\"#0d0887\"],[0.1111111111111111,\"#46039f\"],[0.2222222222222222,\"#7201a8\"],[0.3333333333333333,\"#9c179e\"],[0.4444444444444444,\"#bd3786\"],[0.5555555555555556,\"#d8576b\"],[0.6666666666666666,\"#ed7953\"],[0.7777777777777778,\"#fb9f3a\"],[0.8888888888888888,\"#fdca26\"],[1.0,\"#f0f921\"]]}],\"surface\":[{\"type\":\"surface\",\"colorbar\":{\"outlinewidth\":0,\"ticks\":\"\"},\"colorscale\":[[0.0,\"#0d0887\"],[0.1111111111111111,\"#46039f\"],[0.2222222222222222,\"#7201a8\"],[0.3333333333333333,\"#9c179e\"],[0.4444444444444444,\"#bd3786\"],[0.5555555555555556,\"#d8576b\"],[0.6666666666666666,\"#ed7953\"],[0.7777777777777778,\"#fb9f3a\"],[0.8888888888888888,\"#fdca26\"],[1.0,\"#f0f921\"]]}],\"mesh3d\":[{\"type\":\"mesh3d\",\"colorbar\":{\"outlinewidth\":0,\"ticks\":\"\"}}],\"scatter\":[{\"fillpattern\":{\"fillmode\":\"overlay\",\"size\":10,\"solidity\":0.2},\"type\":\"scatter\"}],\"parcoords\":[{\"type\":\"parcoords\",\"line\":{\"colorbar\":{\"outlinewidth\":0,\"ticks\":\"\"}}}],\"scatterpolargl\":[{\"type\":\"scatterpolargl\",\"marker\":{\"colorbar\":{\"outlinewidth\":0,\"ticks\":\"\"}}}],\"bar\":[{\"error_x\":{\"color\":\"#2a3f5f\"},\"error_y\":{\"color\":\"#2a3f5f\"},\"marker\":{\"line\":{\"color\":\"#E5ECF6\",\"width\":0.5},\"pattern\":{\"fillmode\":\"overlay\",\"size\":10,\"solidity\":0.2}},\"type\":\"bar\"}],\"scattergeo\":[{\"type\":\"scattergeo\",\"marker\":{\"colorbar\":{\"outlinewidth\":0,\"ticks\":\"\"}}}],\"scatterpolar\":[{\"type\":\"scatterpolar\",\"marker\":{\"colorbar\":{\"outlinewidth\":0,\"ticks\":\"\"}}}],\"histogram\":[{\"marker\":{\"pattern\":{\"fillmode\":\"overlay\",\"size\":10,\"solidity\":0.2}},\"type\":\"histogram\"}],\"scattergl\":[{\"type\":\"scattergl\",\"marker\":{\"colorbar\":{\"outlinewidth\":0,\"ticks\":\"\"}}}],\"scatter3d\":[{\"type\":\"scatter3d\",\"line\":{\"colorbar\":{\"outlinewidth\":0,\"ticks\":\"\"}},\"marker\":{\"colorbar\":{\"outlinewidth\":0,\"ticks\":\"\"}}}],\"scattermapbox\":[{\"type\":\"scattermapbox\",\"marker\":{\"colorbar\":{\"outlinewidth\":0,\"ticks\":\"\"}}}],\"scatterternary\":[{\"type\":\"scatterternary\",\"marker\":{\"colorbar\":{\"outlinewidth\":0,\"ticks\":\"\"}}}],\"scattercarpet\":[{\"type\":\"scattercarpet\",\"marker\":{\"colorbar\":{\"outlinewidth\":0,\"ticks\":\"\"}}}],\"carpet\":[{\"aaxis\":{\"endlinecolor\":\"#2a3f5f\",\"gridcolor\":\"white\",\"linecolor\":\"white\",\"minorgridcolor\":\"white\",\"startlinecolor\":\"#2a3f5f\"},\"baxis\":{\"endlinecolor\":\"#2a3f5f\",\"gridcolor\":\"white\",\"linecolor\":\"white\",\"minorgridcolor\":\"white\",\"startlinecolor\":\"#2a3f5f\"},\"type\":\"carpet\"}],\"table\":[{\"cells\":{\"fill\":{\"color\":\"#EBF0F8\"},\"line\":{\"color\":\"white\"}},\"header\":{\"fill\":{\"color\":\"#C8D4E3\"},\"line\":{\"color\":\"white\"}},\"type\":\"table\"}],\"barpolar\":[{\"marker\":{\"line\":{\"color\":\"#E5ECF6\",\"width\":0.5},\"pattern\":{\"fillmode\":\"overlay\",\"size\":10,\"solidity\":0.2}},\"type\":\"barpolar\"}],\"pie\":[{\"automargin\":true,\"type\":\"pie\"}]},\"layout\":{\"autotypenumbers\":\"strict\",\"colorway\":[\"#636efa\",\"#EF553B\",\"#00cc96\",\"#ab63fa\",\"#FFA15A\",\"#19d3f3\",\"#FF6692\",\"#B6E880\",\"#FF97FF\",\"#FECB52\"],\"font\":{\"color\":\"#2a3f5f\"},\"hovermode\":\"closest\",\"hoverlabel\":{\"align\":\"left\"},\"paper_bgcolor\":\"white\",\"plot_bgcolor\":\"#E5ECF6\",\"polar\":{\"bgcolor\":\"#E5ECF6\",\"angularaxis\":{\"gridcolor\":\"white\",\"linecolor\":\"white\",\"ticks\":\"\"},\"radialaxis\":{\"gridcolor\":\"white\",\"linecolor\":\"white\",\"ticks\":\"\"}},\"ternary\":{\"bgcolor\":\"#E5ECF6\",\"aaxis\":{\"gridcolor\":\"white\",\"linecolor\":\"white\",\"ticks\":\"\"},\"baxis\":{\"gridcolor\":\"white\",\"linecolor\":\"white\",\"ticks\":\"\"},\"caxis\":{\"gridcolor\":\"white\",\"linecolor\":\"white\",\"ticks\":\"\"}},\"coloraxis\":{\"colorbar\":{\"outlinewidth\":0,\"ticks\":\"\"}},\"colorscale\":{\"sequential\":[[0.0,\"#0d0887\"],[0.1111111111111111,\"#46039f\"],[0.2222222222222222,\"#7201a8\"],[0.3333333333333333,\"#9c179e\"],[0.4444444444444444,\"#bd3786\"],[0.5555555555555556,\"#d8576b\"],[0.6666666666666666,\"#ed7953\"],[0.7777777777777778,\"#fb9f3a\"],[0.8888888888888888,\"#fdca26\"],[1.0,\"#f0f921\"]],\"sequentialminus\":[[0.0,\"#0d0887\"],[0.1111111111111111,\"#46039f\"],[0.2222222222222222,\"#7201a8\"],[0.3333333333333333,\"#9c179e\"],[0.4444444444444444,\"#bd3786\"],[0.5555555555555556,\"#d8576b\"],[0.6666666666666666,\"#ed7953\"],[0.7777777777777778,\"#fb9f3a\"],[0.8888888888888888,\"#fdca26\"],[1.0,\"#f0f921\"]],\"diverging\":[[0,\"#8e0152\"],[0.1,\"#c51b7d\"],[0.2,\"#de77ae\"],[0.3,\"#f1b6da\"],[0.4,\"#fde0ef\"],[0.5,\"#f7f7f7\"],[0.6,\"#e6f5d0\"],[0.7,\"#b8e186\"],[0.8,\"#7fbc41\"],[0.9,\"#4d9221\"],[1,\"#276419\"]]},\"xaxis\":{\"gridcolor\":\"white\",\"linecolor\":\"white\",\"ticks\":\"\",\"title\":{\"standoff\":15},\"zerolinecolor\":\"white\",\"automargin\":true,\"zerolinewidth\":2},\"yaxis\":{\"gridcolor\":\"white\",\"linecolor\":\"white\",\"ticks\":\"\",\"title\":{\"standoff\":15},\"zerolinecolor\":\"white\",\"automargin\":true,\"zerolinewidth\":2},\"scene\":{\"xaxis\":{\"backgroundcolor\":\"#E5ECF6\",\"gridcolor\":\"white\",\"linecolor\":\"white\",\"showbackground\":true,\"ticks\":\"\",\"zerolinecolor\":\"white\",\"gridwidth\":2},\"yaxis\":{\"backgroundcolor\":\"#E5ECF6\",\"gridcolor\":\"white\",\"linecolor\":\"white\",\"showbackground\":true,\"ticks\":\"\",\"zerolinecolor\":\"white\",\"gridwidth\":2},\"zaxis\":{\"backgroundcolor\":\"#E5ECF6\",\"gridcolor\":\"white\",\"linecolor\":\"white\",\"showbackground\":true,\"ticks\":\"\",\"zerolinecolor\":\"white\",\"gridwidth\":2}},\"shapedefaults\":{\"line\":{\"color\":\"#2a3f5f\"}},\"annotationdefaults\":{\"arrowcolor\":\"#2a3f5f\",\"arrowhead\":0,\"arrowwidth\":1},\"geo\":{\"bgcolor\":\"white\",\"landcolor\":\"#E5ECF6\",\"subunitcolor\":\"white\",\"showland\":true,\"showlakes\":true,\"lakecolor\":\"white\"},\"title\":{\"x\":0.05},\"mapbox\":{\"style\":\"light\"}}},\"scene\":{\"xaxis\":{\"title\":{\"text\":\"C_lim3_mean\"}},\"yaxis\":{\"title\":{\"text\":\"C_lim6_mean\"}},\"zaxis\":{\"title\":{\"text\":\"C_lim12_mean\"}}},\"title\":{\"text\":\"Comparison of the mean half life values for proteins with half<br> lives under 2 hours in the C-limited 12 hour measurement\"},\"height\":700},                        {\"responsive\": true}                    ).then(function(){\n",
       "                            \n",
       "var gd = document.getElementById('2929b4d9-49a4-409b-ab4d-53125379dd99');\n",
       "var x = new MutationObserver(function (mutations, observer) {{\n",
       "        var display = window.getComputedStyle(gd).display;\n",
       "        if (!display || display === 'none') {{\n",
       "            console.log([gd, 'removed!']);\n",
       "            Plotly.purge(gd);\n",
       "            observer.disconnect();\n",
       "        }}\n",
       "}});\n",
       "\n",
       "// Listen for the removal of the full notebook cells\n",
       "var notebookContainer = gd.closest('#notebook-container');\n",
       "if (notebookContainer) {{\n",
       "    x.observe(notebookContainer, {childList: true});\n",
       "}}\n",
       "\n",
       "// Listen for the clearing of the current output cell\n",
       "var outputEl = gd.closest('.output');\n",
       "if (outputEl) {{\n",
       "    x.observe(outputEl, {childList: true});\n",
       "}}\n",
       "\n",
       "                        })                };                });            </script>        </div>"
      ]
     },
     "metadata": {},
     "output_type": "display_data"
    }
   ],
   "execution_count": 38
  },
  {
   "metadata": {
    "ExecuteTime": {
     "end_time": "2024-09-20T21:59:12.195938Z",
     "start_time": "2024-09-20T21:59:12.087526Z"
    }
   },
   "cell_type": "code",
   "source": [
    "# scatter plot\n",
    "\n",
    "# Create a 3D plot using Matplotlib\n",
    "fig = plt.figure(figsize=(8, 6))\n",
    "ax = fig.add_subplot(111, projection='3d')\n",
    "\n",
    "# Plot the data\n",
    "scatter = ax.scatter(\n",
    "    Clim12_under_2hrs['C_lim3_mean'],  # X axis\n",
    "    Clim12_under_2hrs['C_lim6_mean'],  # Y axis\n",
    "    Clim12_under_2hrs['C_lim12_mean'], # Z axis\n",
    "    c=Clim12_under_2hrs['C_lim12_mean'],\n",
    "    cmap='viridis',       # Color map\n",
    "    s=50,                # Size of markers\n",
    "    alpha=0.8            # Opacity of markers\n",
    ")\n",
    "\n",
    "# Add color bar for reference\n",
    "cbar = fig.colorbar(scatter, ax=ax, pad=0.1)\n",
    "cbar.set_label('C_lim12_mean')\n",
    "\n",
    "# Label axes\n",
    "ax.set_xlabel('C_lim3_mean')\n",
    "ax.set_ylabel('C_lim6_mean')\n",
    "ax.set_zlabel('C_lim12_mean')\n",
    "\n",
    "# Set plot title\n",
    "plt.title('Comparison of the mean half life values for proteins with half\\n lives under 2 hours in the C-limited 12 hour measurement')\n",
    "\n",
    "# Show the plot\n",
    "plt.show()"
   ],
   "id": "f0d22234a51a825c",
   "execution_count": 37,
   "outputs": [
    {
     "data": {
      "text/plain": [
       "<Figure size 800x600 with 2 Axes>"
      ],
      "image/png": "[encoded data removed]"
     },
     "metadata": {},
     "output_type": "display_data"
    }
   ]
  },
  {
   "metadata": {},
   "cell_type": "code",
   "outputs": [],
   "execution_count": null,
   "source": "",
   "id": "be5ded88f31ad1cc"
  }
 ],
 "metadata": {
  "kernelspec": {
   "display_name": "Python 3",
   "language": "python",
   "name": "python3"
  },
  "language_info": {
   "codemirror_mode": {
    "name": "ipython",
    "version": 2
   },
   "file_extension": ".py",
   "mimetype": "text/x-python",
   "name": "python",
   "nbconvert_exporter": "python",
   "pygments_lexer": "ipython2",
   "version": "2.7.6"
  }
 },
 "nbformat": 4,
 "nbformat_minor": 5
}
