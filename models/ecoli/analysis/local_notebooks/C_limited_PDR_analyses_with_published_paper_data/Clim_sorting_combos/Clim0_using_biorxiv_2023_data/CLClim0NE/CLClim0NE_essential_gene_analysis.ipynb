{
 "cells": [
  {
   "cell_type": "code",
   "id": "initial_id",
   "metadata": {
    "collapsed": true,
    "ExecuteTime": {
     "end_time": "2024-10-01T07:46:06.064574Z",
     "start_time": "2024-10-01T07:46:06.025771Z"
    }
   },
   "source": [
    "import pandas as pd\n",
    "import numpy as np\n",
    "import matplotlib.pyplot as plt\n",
    "import seaborn as sns\n",
    "import os\n",
    "os.chdir(os.path.expanduser(\n",
    "    '~/wcEcoli/models/ecoli/analysis/local_notebooks/C_limited_PDR_analyses_with_published_paper_data/Clim_sorting_combos/Clim0_using_biorxiv_2023_data/CLClim0NE/'))\n",
    "import plotly.graph_objects as go\n",
    "import glob\n",
    "import plotly.express as px"
   ],
   "outputs": [],
   "execution_count": 1
  },
  {
   "metadata": {},
   "cell_type": "markdown",
   "source": [
    "# C-lim half life experimental data (from first Clim sort, using values from the 2023 bioRxiv preprint) \n",
    "\n",
    "The data used for Clim rates in this analysis (the first analysis of the Clim rates) comes from this preprint: https://www.biorxiv.org/content/10.1101/2022.08.01.502339v2. The paper has been published, and can be found here: Gupta, et al., 2024: https://www.nature.com/articles/s41467-024-49920-8#Sec20\n",
    "\n",
    "Specifically, this data comes from Supplementary Table 1: \"TableS1 - Half-lives for 3262 proteins across 13 growth conditions >>\", which contains the half-lives for proteins in E. coli under carbon-limited conditions. This is the data we are interested in comparing to our model predictions, as the conditions are most similar to our base case.\n",
    "\n",
    "NOTE that this data has some \"ceiling\" values it auto assigns proteins to (as defined in the published paper). In the original Clim sort done using the bioarchiv paper (which will be analyzed here), we were not aware that these were ceilinig values. Thus, they are included in this version, but will likely be removed in later Clim rate sorts for half-life value extractions. Also, any protein that did not have a value reported for any one of its doubling time replicates (six total), were also excluded from this sort (leaving roughly 1912 proteins assigned to Clim rates in this CLClimNE sort, 7 assigned to CL, and 2391 to NE).  \n",
    "\n",
    "ALSO NOTE: even though this file is in the published paper notebook folder, it is still based on the intitial bioRxiv preprint data sort. Future sorts will be done with the new published paper data.\n"
   ],
   "id": "1163b156d090e07e"
  },
  {
   "metadata": {},
   "cell_type": "markdown",
   "source": [
    "## Find essential genes in the Clim0 data\n",
    "\n",
    "Doing this by first finding the gene names for each of the monomer ids in the Clim0 data, and then comparing these to the essential genes list from the model."
   ],
   "id": "d1f687919582b328"
  },
  {
   "metadata": {
    "ExecuteTime": {
     "end_time": "2024-10-01T07:46:06.070270Z",
     "start_time": "2024-10-01T07:46:06.065248Z"
    }
   },
   "cell_type": "code",
   "source": [
    "# FUNCTIONS\n",
    "\n",
    "# get the gene IDs for each monomer IDs:\n",
    "def get_gene_ids_for_monomer_ids():\n",
    "    # code adapted from convert_to_flat.py\n",
    "    import io\n",
    "    from wholecell.io import tsv\n",
    "    from wholecell.utils.filepath import ROOT_PATH\n",
    "    RNAS_FILE = os.path.join(ROOT_PATH, 'reconstruction', 'ecoli', 'flat', 'rnas.tsv')\n",
    "    with io.open(RNAS_FILE, 'rb') as f:\n",
    "        reader = tsv.reader(f, delimiter='\\t')\n",
    "        headers = next(reader)\n",
    "        while headers[0].startswith('#'):\n",
    "            headers = next(reader)\n",
    "\n",
    "        gene_id_index = headers.index('gene_id')\n",
    "        protein_id_index = headers.index('monomer_ids')\n",
    "        monomer_ids_to_gene_ids = {}\n",
    "        for line in reader:\n",
    "            gene_id = line[gene_id_index]\n",
    "            protein_id = list(line[protein_id_index][2:-2].split('\", \"'))[0]\n",
    "            monomer_ids_to_gene_ids[protein_id] = gene_id\n",
    "\n",
    "        return monomer_ids_to_gene_ids\n",
    "    \n",
    "def get_gene_symbols_for_monomer_ids():\n",
    "    # code adapted from convert_to_flat.py\n",
    "    import io\n",
    "    from wholecell.io import tsv\n",
    "    from wholecell.utils.filepath import ROOT_PATH\n",
    "    RNAS_FILE = os.path.join(ROOT_PATH, 'reconstruction', 'ecoli', 'flat', 'rnas.tsv')\n",
    "    with io.open(RNAS_FILE, 'rb') as f:\n",
    "        reader = tsv.reader(f, delimiter='\\t')\n",
    "        headers = next(reader)\n",
    "        while headers[0].startswith('#'):\n",
    "            headers = next(reader)\n",
    "\n",
    "        gene_symbol_index = headers.index('common_name')\n",
    "        protein_id_index = headers.index('monomer_ids')\n",
    "        monomer_ids_to_gene_symbols = {}\n",
    "        for line in reader:\n",
    "            gene_symbol = line[gene_symbol_index]\n",
    "            protein_id = list(line[protein_id_index][2:-2].split('\", \"'))[0]\n",
    "            monomer_ids_to_gene_symbols[protein_id] = gene_symbol\n",
    "\n",
    "        return monomer_ids_to_gene_symbols\n",
    "    \n",
    "    \n",
    "# convert gene IDs to monomer IDs:\n",
    "def get_monomer_ids_for_gene_ids():\n",
    "    # code adapted from convert_to_flat.py\n",
    "    import io\n",
    "    from wholecell.io import tsv\n",
    "    from wholecell.utils.filepath import ROOT_PATH\n",
    "    RNAS_FILE = os.path.join(ROOT_PATH, 'reconstruction', 'ecoli', 'flat', 'rnas.tsv')\n",
    "    with io.open(RNAS_FILE, 'rb') as f:\n",
    "        reader = tsv.reader(f, delimiter='\\t')\n",
    "        headers = next(reader)\n",
    "        while headers[0].startswith('#'):\n",
    "            headers = next(reader)\n",
    "\n",
    "        gene_id_index = headers.index('gene_id')\n",
    "        protein_id_index = headers.index('monomer_ids')\n",
    "        gene_ids_to_monomer_ids = {}\n",
    "        for line in reader:\n",
    "            gene_id = line[gene_id_index]\n",
    "            protein_id = list(line[protein_id_index][2:-2].split('\", \"'))[0]\n",
    "            gene_ids_to_monomer_ids[gene_id] = protein_id\n",
    "\n",
    "        return gene_ids_to_monomer_ids\n",
    "    \n",
    "    \n",
    "# recall the genes defined as \"essential\" in the model, and return them as a list of gene names:\n",
    "def get_essential_genes():\n",
    "    # code adapted from convert_to_flat.py\n",
    "    import io\n",
    "    from wholecell.io import tsv\n",
    "    from wholecell.utils.filepath import ROOT_PATH\n",
    "    GENES_FILE = os.path.join(ROOT_PATH, 'validation', 'ecoli', 'flat', 'essential_genes.tsv')\n",
    "    with io.open(GENES_FILE, 'rb') as f:\n",
    "        reader = tsv.reader(f, delimiter='\\t')\n",
    "        headers = next(reader)\n",
    "        while headers[0].startswith('#'):\n",
    "            headers = next(reader)\n",
    "\n",
    "        gene_id_index = headers.index('FrameID')\n",
    "        essential_genes = []\n",
    "        for line in reader:\n",
    "            essential_gene = line[gene_id_index]\n",
    "            essential_genes.append(essential_gene)\n",
    "\n",
    "        return essential_genes\n",
    "    \n"
   ],
   "id": "e8c14d10e939e88",
   "outputs": [],
   "execution_count": 2
  },
  {
   "metadata": {
    "ExecuteTime": {
     "end_time": "2024-10-01T07:46:15.292244Z",
     "start_time": "2024-10-01T07:46:06.070747Z"
    }
   },
   "cell_type": "code",
   "source": [
    "# load in the Clim0 data:\n",
    "Clim0_data = pd.read_csv('ParCa_rate_constants/Clim_rate_constants.csv')\n",
    "monomer_ids = Clim0_data['Protein ID']\n",
    "\n",
    "Clim0_essential_gene_symbols_found = []\n",
    "Clim0_essential_monomer_ids_found = []\n",
    "\n",
    "# todo: figure out how to clean up the run time speed on this function\n",
    "# find the essential genes in the Clim0 data:\n",
    "for monomer in monomer_ids:\n",
    "    # get the gene name for the monomer ID:\n",
    "    gene_id = get_gene_ids_for_monomer_ids()[monomer]\n",
    "    if gene_id in get_essential_genes():\n",
    "        Clim0_essential_gene_symbols_found.append(get_gene_symbols_for_monomer_ids()[monomer])\n",
    "        Clim0_essential_monomer_ids_found.append(monomer)\n",
    "\n",
    "print(\"Essential Genes Found in Clim0 (\" +str(len(Clim0_essential_gene_symbols_found))+\"): \", Clim0_essential_gene_symbols_found)\n",
    "\n",
    "# to free up memory:\n",
    "del Clim0_data, monomer_ids"
   ],
   "id": "ed3e0a74edcc0363",
   "outputs": [
    {
     "name": "stdout",
     "output_type": "stream",
     "text": [
      "Essential Genes Found in Clim0 (341):  ['leuA', 'ubiE', 'ubiB', 'panB', 'leuB', 'fabG', 'ubiA', 'bioF', 'argE', 'adk', 'purA', 'cysC', 'purH', 'purM', 'cysJ', 'trpE', 'argS', 'argH', 'argG', 'aroA', 'aroB', 'aroC', 'aroE', 'purB', 'asnS', 'asd', 'pyrB', 'thrA', 'metL', 'aspS', 'atpB', 'atpC', 'hisG', 'accB', 'cysI', 'accC', 'bioB', 'birA', 'ilvE', 'accA', 'accD', 'carB', 'pheA', 'tyrA', 'gltA', 'kdsB', 'pyrG', 'hisF', 'cydA', 'cydC', 'cysN', 'cysS', 'metC', 'bioA', 'lysA', 'dapA', 'folA', 'pyrC', 'pyrD', 'dapB', 'ilvD', 'ribB', 'tmk', 'dut', 'dxr', 'dxs', 'bioH', 'cca', 'lnt', 'dicA', 'dnaB', 'dnaC', 'dnaE', 'dnaN', 'era', 'ffh', 'frr', 'ftsA', 'ftsI', 'ftsY', 'ftsZ', 'fusA', 'ispG', 'grpE', 'gyrA', 'gyrB', 'infA', 'infC', 'lepB', 'ligA', 'map', 'minD', 'minE', 'groS', 'mrdA', 'mrdB', 'mreB', 'mreC', 'msbA', 'mukB', 'nusA', 'nusG', 'parE', 'prfA', 'pth', 'lptE', 'rnc', 'rne', 'rplB', 'rplC', 'rplD', 'rplE', 'rplF', 'rplJ', 'rplL', 'rplM', 'rplN', 'rplO', 'rplP', 'rplQ', 'rplR', 'rplS', 'rplT', 'rplV', 'rplW', 'rplX', 'rpmB', 'rpmD', 'rpoA', 'rpsA', 'rpsB', 'rpsC', 'rpsD', 'rpsE', 'rpsG', 'rpsH', 'rpsI', 'rpsJ', 'rpsK', 'rpsL', 'rpsM', 'rpsN', 'rpsP', 'rpsQ', 'rpsR', 'rpsS', 'ssb', 'suhB', 'topA', 'trmD', 'tsf', 'ispH', 'tsaD', 'mukE', 'fmt', 'lolB', 'ispE', 'hflD', 'ubiD', 'holA', 'waaU', 'def', 'csrA', 'ubiJ', 'ftsH', 'ftsN', 'lptD', 'degS', 'tsaE', 'mukF', 'panZ', 'bcsB', 'can', 'erpA', 'rseP', 'lpxH', 'rplU', 'rpmA', 'acpP', 'eno', 'fabI', 'pdxB', 'fabA', 'fabB', 'fabZ', 'purL', 'fldA', 'folC', 'folD', 'ispA', 'fbaA', 'ftsE', 'ftsX', 'bamA', 'tilS', 'ftsK', 'lolA', 'tsaB', 'der', 'iscS', 'bamD', 'ispD', 'yqgF', 'rsmI', 'obgE', 'mlaB', 'lptC', 'tsaC', 'orn', 'lptG', 'gapA', 'glnS', 'gltX', 'hisH', 'glnA', 'proB', 'murI', 'proA', 'gpsA', 'plsB', 'purD', 'glyA', 'glyQ', 'guaA', 'hemL', 'folE', 'ribA', 'gmk', 'hisS', 'hisI', 'hisD', 'hisC', 'acpS', 'thrB', 'hisB', 'guaB', 'ppa', 'icd', 'kdsA', 'waaA', 'ilvC', 'nadB', 'glmS', 'leuC', 'leuD', 'leuS', 'lpxB', 'ribE', 'fabD', 'metG', 'metF', 'dapE', 'dapD', 'dnaX', 'infB', 'argA', 'murG', 'nadE', 'glmU', 'nadD', 'nrdA', 'nrdB', 'metB', 'hemC', 'ispB', 'pyrE', 'pyrF', 'pabB', 'panC', 'cysH', 'lexA', 'cysB', 'dnaA', 'metR', 'pdxA', 'pdxH', 'pdxJ', 'ppc', 'pgk', 'serA', 'pheS', 'pheT', 'pssA', 'hemB', 'trpC', 'hisA', 'proS', 'hemH', 'hemG', 'purF', 'prs', 'psd', 'serB', 'serC', 'ptsI', 'purE', 'purK', 'proC', 'nadA', 'nadC', 'ribF', 'ribC', 'ribD', 'rpoB', 'rpoC', 'rpoE', 'metK', 'purC', 'secA', 'secD', 'secF', 'secY', 'cysE', 'serS', 'cysG', 'spoT', 'thiL', 'ilvA', 'thrC', 'thrS', 'thyA', 'trpS', 'trpA', 'trpB', 'tyrS', 'murC', 'murD', 'murF', 'murE', 'lpxC', 'lpxD', 'lpxA', 'murA', 'murB', 'pyrH', 'hemD', 'valS', 'lolC', 'lolE', 'lptA', 'yidC']\n"
     ]
    }
   ],
   "execution_count": 3
  },
  {
   "metadata": {
    "ExecuteTime": {
     "end_time": "2024-10-01T07:46:25.619540Z",
     "start_time": "2024-10-01T07:46:15.292810Z"
    }
   },
   "cell_type": "code",
   "source": [
    "# for my own reference, find the number of essential genes in the the NE and CL groups in CLClim0NE too: \n",
    "CL_data = pd.read_csv('ParCa_rate_constants/CL_rate_constants.csv')\n",
    "CL_monomer_ids = CL_data['Protein ID']\n",
    "\n",
    "CL_essential_gene_symbols_found = []\n",
    "CL_essential_monomer_ids_found = []\n",
    "for monomer in CL_monomer_ids:\n",
    "    # get the gene name for the monomer ID:\n",
    "    gene_id = get_gene_ids_for_monomer_ids()[monomer]\n",
    "    if gene_id in get_essential_genes():\n",
    "        CL_essential_gene_symbols_found.append(get_gene_symbols_for_monomer_ids()[monomer])\n",
    "        CL_essential_monomer_ids_found.append(monomer)\n",
    "\n",
    "print(\"Essential Genes Found in CL (\" +str(len(CL_essential_gene_symbols_found))+\"): \", CL_essential_gene_symbols_found)\n",
    "\n",
    "NE_data = pd.read_csv('ParCa_rate_constants/NE_rate_constants.csv')\n",
    "NE_monomer_ids = NE_data['Protein ID']\n",
    "\n",
    "NE_essential_gene_symbols_found = []\n",
    "NE_essential_monomer_ids_found = []\n",
    "for monomer in NE_monomer_ids:\n",
    "    # get the gene name for the monomer ID:\n",
    "    gene_id = get_gene_ids_for_monomer_ids()[monomer]\n",
    "    if gene_id in get_essential_genes():\n",
    "        NE_essential_gene_symbols_found.append(get_gene_symbols_for_monomer_ids()[monomer])\n",
    "        NE_essential_monomer_ids_found.append(monomer)\n",
    "        \n",
    "print(\"Essential Genes Found in NE (\" +str(len(NE_essential_gene_symbols_found))+\"): \", NE_essential_gene_symbols_found)\n",
    "\n",
    "# to free up memory:\n",
    "del CL_data, NE_data, CL_monomer_ids, NE_monomer_ids"
   ],
   "id": "9166452900b9322a",
   "outputs": [
    {
     "name": "stdout",
     "output_type": "stream",
     "text": [
      "Essential Genes Found in CL (3):  ['carA', 'cdsA', 'bioD']\n",
      "Essential Genes Found in NE (60):  ['plsC', 'trpD', 'panD', 'yagG', 'dfp', 'bioC', 'ftsQ', 'ftsW', 'lspA', 'mazE', 'mreD', 'rnpA', 'rpmC', 'rpmH', 'ftsL', 'secM', 'yihA', 'chpS', 'leuL', 'ydfB', 'tadA', 'holB', 'ispF', 'alsK', 'lapC', 'lgt', 'yhhQ', 'prmC', 'yabQ', 'yefM', 'entD', 'wzyE', 'murJ', 'yceQ', 'ymfK', 'racR', 'ydiL', 'exoX', 'zipA', 'ftsB', 'yqgD', 'mqsA', 'tdcF', 'ubiV', 'igaA', 'lptF', 'hemA', 'folK', 'metA', 'nadK', 'pabA', 'coaD', 'mraY', 'pgsA', 'rpoH', 'secE', 'lpxK', 'tnaB', 'ispU', 'lolD']\n"
     ]
    }
   ],
   "execution_count": 4
  },
  {
   "metadata": {
    "ExecuteTime": {
     "end_time": "2024-10-01T07:46:28.810558Z",
     "start_time": "2024-10-01T07:46:25.620253Z"
    }
   },
   "cell_type": "code",
   "source": [
    "# I would like to see if Lon or Clp are in this out of curiosity:\n",
    "essential_gene_symbols = []\n",
    "for gene in get_essential_genes():\n",
    "    essential_gene_symbols.append(get_gene_symbols_for_monomer_ids()[get_monomer_ids_for_gene_ids()[gene]])\n",
    "    \n",
    "print(\"All Essential Genes in the Model (\" +str(len(essential_gene_symbols))+\"): \", essential_gene_symbols)\n",
    "\n",
    "del essential_gene_symbols"
   ],
   "id": "11240d29d035afac",
   "outputs": [
    {
     "name": "stdout",
     "output_type": "stream",
     "text": [
      "All Essential Genes in the Model (406):  ['argG', 'bioA', 'bioB', 'bioC', 'bioD', 'bioF', 'bioH', 'ilvE', 'cysG', 'ubiE', 'exoX', 'hflD', 'argA', 'argE', 'argH', 'aroA', 'aroB', 'aroC', 'aroE', 'cysC', 'cysE', 'cysH', 'cysI', 'cysJ', 'cysN', 'glyA', 'hisA', 'hisB', 'hisC', 'hisD', 'hisF', 'hisG', 'hisH', 'hisI', 'ilvA', 'ilvC', 'ilvD', 'leuA', 'leuB', 'leuC', 'leuD', 'lysA', 'metA', 'metB', 'metC', 'metF', 'metL', 'pabA', 'pabB', 'pheA', 'proA', 'proB', 'proC', 'serA', 'serB', 'serC', 'thrA', 'thrB', 'thrC', 'trpA', 'trpB', 'trpC', 'trpD', 'trpE', 'tyrA', 'carA', 'carB', 'guaA', 'guaB', 'purA', 'purC', 'purD', 'purE', 'purF', 'purH', 'purK', 'purL', 'purM', 'pyrB', 'pyrC', 'pyrD', 'pyrE', 'pyrF', 'thyA', 'iscS', 'nadA', 'nadB', 'nadC', 'panB', 'panC', 'panD', 'pdxA', 'pdxB', 'pdxH', 'pdxJ', 'cysB', 'leuL', 'metR', 'ptsI', 'atpB', 'atpC', 'glnA', 'gltA', 'icd', 'ppc', 'panZ', 'ribF', 'lspA', 'ispH', 'dapB', 'folA', 'lptD', 'yabQ', 'ftsL', 'ftsI', 'murE', 'murF', 'mraY', 'murD', 'ftsW', 'murG', 'murC', 'ftsQ', 'ftsA', 'ftsZ', 'lpxC', 'secM', 'secA', 'can', 'folK', 'hemL', 'erpA', 'dapD', 'map', 'rpsB', 'tsf', 'pyrH', 'frr', 'dxr', 'ispU', 'cdsA', 'rseP', 'bamA', 'lpxD', 'fabZ', 'lpxA', 'lpxB', 'dnaE', 'accA', 'tilS', 'proS', 'yafF', 'yagG', 'hemB', 'secD', 'secF', 'ribD', 'ribE', 'thiL', 'dxs', 'ispA', 'dnaX', 'adk', 'hemH', 'lpxH', 'cysS', 'folD', 'entD', 'mrdB', 'mrdA', 'nadD', 'holA', 'lptE', 'leuS', 'lnt', 'glnS', 'fldA', 'cydA', 'infA', 'cydC', 'ftsK', 'lolA', 'serS', 'rpsA', 'msbA', 'lpxK', 'kdsB', 'mukF', 'mukE', 'mukB', 'asnS', 'fabA', 'murJ', 'rne', 'yceQ', 'fabD', 'fabG', 'acpP', 'tmk', 'holB', 'lolC', 'lolD', 'lolE', 'purB', 'ymfK', 'minE', 'minD', 'pth', 'prs', 'ispE', 'lolB', 'hemA', 'prfA', 'prmC', 'kdsA', 'topA', 'ribA', 'fabI', 'racR', 'dicA', 'ydfB', 'tyrS', 'ribC', 'ydiL', 'pheT', 'pheS', 'rplT', 'infC', 'thrS', 'nadE', 'gapA', 'tsaB', 'aspS', 'argS', 'pgsA', 'yefM', 'metG', 'folE', 'lapC', 'gyrA', 'nrdA', 'nrdB', 'folC', 'accD', 'fabB', 'gltX', 'ligA', 'zipA', 'dapE', 'dapA', 'der', 'hisS', 'ispG', 'suhB', 'tadA', 'acpS', 'era', 'rnc', 'lepB', 'rpoE', 'pssA', 'bamD', 'rplS', 'trmD', 'rpsP', 'ffh', 'grpE', 'nadK', 'csrA', 'ispF', 'ispD', 'ftsB', 'eno', 'pyrG', 'mazE', 'lgt', 'fbaA', 'pgk', 'yqgD', 'metK', 'yqgF', 'plsC', 'mqsA', 'parE', 'ribB', 'cca', 'tsaD', 'tdcF', 'rsmI', 'ubiV', 'infB', 'nusA', 'ftsH', 'obgE', 'rpmA', 'rplU', 'ispB', 'murA', 'mlaB', 'lptC', 'lptA', 'rpsI', 'rplM', 'degS', 'mreD', 'mreC', 'mreB', 'accB', 'accC', 'tsaC', 'def', 'fmt', 'rplQ', 'rpoA', 'rpsD', 'rpsK', 'rpsM', 'secY', 'rplO', 'rpmD', 'rpsE', 'rplR', 'rplF', 'rpsH', 'rpsN', 'rplE', 'rplX', 'rplN', 'rpsQ', 'rpmC', 'rplP', 'rpsC', 'rplV', 'rpsS', 'rplB', 'rplW', 'rplD', 'rplC', 'rpsJ', 'fusA', 'rpsG', 'rpsL', 'trpS', 'igaA', 'asd', 'rpoH', 'ftsX', 'ftsE', 'ftsY', 'yhhQ', 'bcsB', 'glyQ', 'yibJ', 'gpsA', 'waaU', 'waaA', 'coaD', 'rpmB', 'dfp', 'dut', 'gmk', 'spoT', 'gyrB', 'dnaN', 'dnaA', 'rpmH', 'rnpA', 'yidC', 'tnaB', 'glmS', 'glmU', 'wzyE', 'hemD', 'hemC', 'ubiJ', 'ubiB', 'ubiD', 'hemG', 'yihA', 'ftsN', 'murI', 'murB', 'birA', 'secE', 'nusG', 'rplJ', 'rplL', 'rpoB', 'rpoC', 'ubiA', 'plsB', 'lexA', 'dnaB', 'ssb', 'alsK', 'groS', 'psd', 'orn', 'tsaE', 'rpsR', 'chpS', 'ppa', 'valS', 'lptF', 'lptG', 'dnaC']\n"
     ]
    }
   ],
   "execution_count": 5
  },
  {
   "metadata": {},
   "cell_type": "markdown",
   "source": [
    "# Determining which proteins are assigned to a protease (according to Gupta et al., 2024) and are essential in the CLClim0NE sorted model\n",
    "\n",
    "This data is from a rendition of supplementary table #2 in the published paper (\"TableS2 - Assignment of protein substrates to proteases >>\"). This table contains the proteins that are assigned to each of the proteases in the proteins they measured in the paper. This supplementary table has been adapted for use in this analysis, so the full detail about each data column is not included here (but can be found in the original paper). \n"
   ],
   "id": "8532e6a4735afadc"
  },
  {
   "metadata": {
    "ExecuteTime": {
     "end_time": "2024-10-01T07:46:32.547749Z",
     "start_time": "2024-10-01T07:46:28.811307Z"
    }
   },
   "cell_type": "code",
   "source": [
    "# load in the protease-substrate assignment datatable: \n",
    "protease_data = pd.read_excel('~/wcEcoli/models/ecoli/analysis/local_notebooks/C_limited_PDR_analyses_with_published_paper_data/supplementary_data/Gupta_et_al_2024_ST2_protease_assignment_data.xlsx')\n",
    "\n",
    "# determine if any of the proteins assigned to a protease are considered an essential gene in the model: \n",
    "essential_substrate_gene_symbols = []\n",
    "for gene in get_essential_genes():\n",
    "    if get_gene_symbols_for_monomer_ids()[get_monomer_ids_for_gene_ids()[gene]] in protease_data['Gene name'].values:\n",
    "        essential_substrate_gene_symbols.append(get_gene_symbols_for_monomer_ids()[get_monomer_ids_for_gene_ids()[gene]])\n",
    "        \n",
    "print(\"There are \" + str(len(protease_data['Gene name'].values)) + \" proteins assigned to a protease in the Gupta et al., 2024 data.\")\n",
    "print(\"Essential Genes in Model that are Assigned to a Protease (\" +str(len(essential_substrate_gene_symbols))+\"): \", essential_substrate_gene_symbols)"
   ],
   "id": "faebdfb5417e69ce",
   "outputs": [
    {
     "name": "stdout",
     "output_type": "stream",
     "text": [
      "There are 308 proteins assigned to a protease in the Gupta et al., 2024 data.\n",
      "Essential Genes in Model that are Assigned to a Protease (57):  ['bioB', 'ilvE', 'argA', 'aroE', 'cysH', 'cysI', 'cysJ', 'cysN', 'leuA', 'leuC', 'leuD', 'lysA', 'thrA', 'trpB', 'tyrA', 'iscS', 'nadA', 'nadB', 'metR', 'ispH', 'ftsI', 'ftsQ', 'ftsZ', 'lpxC', 'erpA', 'frr', 'dxr', 'ispU', 'dnaE', 'thiL', 'dnaX', 'ftsK', 'rpsA', 'mukB', 'acpP', 'minE', 'hemA', 'folE', 'ligA', 'dapA', 'ispG', 'era', 'ffh', 'metK', 'parE', 'ribB', 'obgE', 'def', 'rplX', 'dnaA', 'birA', 'rpoB', 'rpoC', 'ubiA', 'lexA', 'dnaB', 'dnaC']\n"
     ]
    }
   ],
   "execution_count": 6
  },
  {
   "metadata": {
    "ExecuteTime": {
     "end_time": "2024-10-01T07:46:49.654160Z",
     "start_time": "2024-10-01T07:46:32.548477Z"
    }
   },
   "cell_type": "code",
   "source": [
    "# determine which proteins are assigned to proteases in the Clim0 data (does not matter if they are essential or not):\n",
    "Clim0_data = pd.read_csv('ParCa_rate_constants/Clim_rate_constants.csv')\n",
    "monomer_ids = Clim0_data['Protein ID']\n",
    "\n",
    "Clim0_protease_substrate_gene_symbols = []\n",
    "Clim0_protease_substrate_monomer_ids = []\n",
    "for monomer in monomer_ids:\n",
    "    # get the gene symbol for the monomer ID:\n",
    "    gene_symbol = get_gene_symbols_for_monomer_ids()[monomer]\n",
    "    if gene_symbol in protease_data['Gene name'].values:\n",
    "        Clim0_protease_substrate_gene_symbols.append(gene_symbol)\n",
    "        Clim0_protease_substrate_monomer_ids.append(monomer)\n",
    "        \n",
    "print(\"Total Protease Substrates in Clim0 (\" +str(len(Clim0_protease_substrate_gene_symbols))+\"): \", Clim0_protease_substrate_gene_symbols)\n",
    "\n",
    "# to free up memory:\n",
    "del Clim0_data, monomer_ids\n",
    "\n",
    "# repeat for CL\n",
    "CL_data = pd.read_csv('ParCa_rate_constants/CL_rate_constants.csv')\n",
    "CL_monomer_ids = CL_data['Protein ID']\n",
    "\n",
    "CL_protease_substrate_gene_symbols = []\n",
    "CL_protease_substrate_monomer_ids = []\n",
    "for monomer in CL_monomer_ids:\n",
    "    # get the gene symbol for the monomer ID:\n",
    "    gene_symbol = get_gene_symbols_for_monomer_ids()[monomer]\n",
    "    if gene_symbol in protease_data['Gene name'].values:\n",
    "        CL_protease_substrate_gene_symbols.append(gene_symbol)\n",
    "        CL_protease_substrate_monomer_ids.append(monomer)\n",
    "        \n",
    "print(\"Total Protease Substrates in CL (\" +str(len(CL_protease_substrate_gene_symbols))+\"): \", CL_protease_substrate_gene_symbols)\n",
    "\n",
    "# to free up memory:\n",
    "del CL_data, CL_monomer_ids\n",
    "\n",
    "NE_data = pd.read_csv('ParCa_rate_constants/NE_rate_constants.csv')\n",
    "NE_monomer_ids = NE_data['Protein ID']\n",
    "\n",
    "NE_protease_substrate_gene_symbols = []\n",
    "NE_protease_substrate_monomer_ids = []\n",
    "for monomer in NE_monomer_ids:\n",
    "    # get the gene symbol for the monomer ID:\n",
    "    gene_symbol = get_gene_symbols_for_monomer_ids()[monomer]\n",
    "    if gene_symbol in protease_data['Gene name'].values:\n",
    "        NE_protease_substrate_gene_symbols.append(gene_symbol)\n",
    "        NE_protease_substrate_monomer_ids.append(monomer)\n",
    "        \n",
    "print(\"Total Protease Substrates in NE (\" +str(len(NE_protease_substrate_gene_symbols))+\"): \", NE_protease_substrate_gene_symbols)\n",
    "\n",
    "# to free up memory:\n",
    "del NE_data, NE_monomer_ids\n",
    "# note that for CLClim0NE, the breakdown appears to be as follows: Clim0 (273), CL (0), NE (25). There are 308 proteins assigned to proteases in the Gupta et al., 2024 data, and 298 of these appear in the whole cell model."
   ],
   "id": "89c7426cfa00e725",
   "outputs": [
    {
     "name": "stdout",
     "output_type": "stream",
     "text": [
      "Total Protease Substrates in Clim0 (273):  ['leuA', 'ubiA', 'ackA', 'acnB', 'fadE', 'glpD', 'cysJ', 'uxaA', 'astA', 'aroD', 'aroE', 'aroG', 'aroK', 'aroL', 'asnA', 'aspA', 'thrA', 'cysI', 'bioB', 'birA', 'ilvE', 'chbB', 'cfa', 'tyrA', 'ubiC', 'cycA', 'cysD', 'cysN', 'dadA', 'lysA', 'dapA', 'nfsB', 'ribB', 'cobT', 'dxr', 'yaaA', 'bisC', 'clpA', 'clpX', 'dedA', 'dedD', 'dksA', 'dnaB', 'dnaC', 'dnaE', 'dnaK', 'dnaQ', 'era', 'ffh', 'frr', 'ftsI', 'ftsZ', 'ispG', 'mnmG', 'greA', 'helD', 'hflX', 'hmp', 'hsdM', 'hypE', 'ligA', 'mazG', 'minE', 'mukB', 'mutS', 'nfo', 'parC', 'parE', 'pcnB', 'priC', 'pspA', 'recA', 'recD', 'recF', 'recJ', 'rhlB', 'rplX', 'rpsA', 'ruvC', 'sbcC', 'selD', 'prlF', 'srmB', 'tonB', 'topB', 'uvrB', 'uvrD', 'ispH', 'sbcD', 'ybaB', 'relE', 'yebC', 'yecA', 'uvrY', 'yibA', 'yidA', 'mioC', 'ybhA', 'rlmD', 'mazF', 'radA', 'rng', 'lipA', 'dinG', 'ahpC', 'ahpF', 'ychF', 'yjgA', 'dps', 'def', 'yigI', 'ycgB', 'ibpA', 'greB', 'grcA', 'yihD', 'yihI', 'yiiQ', 'rsuA', 'radD', 'ccmH', 'ydcF', 'hscA', 'hscB', 'iscA', 'cspE', 'cspC', 'bcsG', 'yiaU', 'ycfH', 'yfhH', 'hrpB', 'erpA', 'ppiC', 'rlmN', 'iaaA', 'ydiF', 'rarA', 'nudL', 'proQ', 'ybcJ', 'acpP', 'fbp', 'fadB', 'fucI', 'intF', 'prpR', 'rnk', 'ybeZ', 'miaB', 'ybgI', 'clsB', 'ybiU', 'ybjI', 'ftsK', 'ycaR', 'comR', 'rluE', 'mpaA', 'ydbK', 'azoR', 'ydcI', 'dosP', 'ydeP', 'sad', 'ydfZ', 'ynfC', 'nemA', 'ydhQ', 'ydhS', 'sufS', 'sufD', 'sufB', 'yeaH', 'yegU', 'yegW', 'yfaY', 'arnA', 'arnD', 'elaA', 'alaA', 'yfcL', 'sixA', 'yfcZ', 'alaC', 'murQ', 'ypfH', 'bepA', 'iscU', 'iscS', 'iscR', 'kbp', 'ygaP', 'csdA', 'guaD', 'yggX', 'patA', 'obgE', 'nanR', 'yheO', 'yhgF', 'nfuA', 'tatB', 'epmB', 'fklB', 'tabA', 'yjjU', 'gabT', 'gcvT', 'gdhA', 'garK', 'glnD', 'gph', 'folE', 'folX', 'metH', 'aceA', 'nadB', 'lldD', 'ilvB', 'leuC', 'leuD', 'sdaA', 'dkgB', 'dnaX', 'argA', 'amiB', 'narP', 'cysH', 'fnr', 'lexA', 'oxyR', 'fhlA', 'exuR', 'dnaA', 'metR', 'ppx', 'putA', 'pflB', 'nadA', 'trxC', 'nrdD', 'rpoB', 'rpoC', 'rpoD', 'rpoS', 'metK', 'secG', 'astB', 'astD', 'astE', 'astC', 'thiL', 'thiC', 'thiE', 'thiF', 'thiG', 'thiH', 'trxB', 'thiM', 'tktA', 'otsA', 'trpB', 'lpxC', 'wecB', 'ugd', 'uhpA', 'hemE', 'avtA', 'yheS', 'zntA', 'gsiA', 'znuC']\n",
      "Total Protease Substrates in CL (0):  []\n",
      "Total Protease Substrates in NE (25):  ['cyaA', 'adhP', 'bolA', 'flk', 'ftsQ', 'phnO', 'tag', 'yacC', 'gadE', 'phoH', 'intA', 'dctR', 'mqo', 'chaB', 'ybjX', 'rutA', 'abgA', 'yoaC', 'ibaG', 'hemA', 'mdlB', 'yaeP', 'narW', 'treF', 'ispU']\n"
     ]
    }
   ],
   "execution_count": 7
  },
  {
   "metadata": {
    "ExecuteTime": {
     "end_time": "2024-10-01T07:46:49.658778Z",
     "start_time": "2024-10-01T07:46:49.654791Z"
    }
   },
   "cell_type": "code",
   "source": [
    "# check if any of the essential genes in the Clim0 data are assigned to a protease:\n",
    "essential_substrate_gene_symbols = []\n",
    "for gene in Clim0_essential_gene_symbols_found:\n",
    "    if gene in protease_data['Gene name'].values:\n",
    "        essential_substrate_gene_symbols.append(gene)\n",
    "        \n",
    "print(\"Essential Genes with Clim0 half-lives that are assigned to a protease (\" +str(len(essential_substrate_gene_symbols))+\"): \", essential_substrate_gene_symbols)"
   ],
   "id": "6c012f1623cd77ef",
   "outputs": [
    {
     "name": "stdout",
     "output_type": "stream",
     "text": [
      "Essential Genes with Clim0 half-lives that are assigned to a protease (54):  ['leuA', 'ubiA', 'cysJ', 'aroE', 'thrA', 'cysI', 'bioB', 'birA', 'ilvE', 'tyrA', 'cysN', 'lysA', 'dapA', 'ribB', 'dxr', 'dnaB', 'dnaC', 'dnaE', 'era', 'ffh', 'frr', 'ftsI', 'ftsZ', 'ispG', 'ligA', 'minE', 'mukB', 'parE', 'rplX', 'rpsA', 'ispH', 'def', 'erpA', 'acpP', 'ftsK', 'iscS', 'obgE', 'folE', 'nadB', 'leuC', 'leuD', 'dnaX', 'argA', 'cysH', 'lexA', 'dnaA', 'metR', 'nadA', 'rpoB', 'rpoC', 'metK', 'thiL', 'trpB', 'lpxC']\n"
     ]
    }
   ],
   "execution_count": 8
  },
  {
   "metadata": {
    "ExecuteTime": {
     "end_time": "2024-10-01T07:46:49.662174Z",
     "start_time": "2024-10-01T07:46:49.659424Z"
    }
   },
   "cell_type": "code",
   "source": [
    "# check if any of the essential genes in the CL data are assigned to a protease:\n",
    "CL_essential_substrate_gene_symbols = []\n",
    "for gene in CL_essential_gene_symbols_found:\n",
    "    if gene in protease_data['Gene name'].values:\n",
    "        CL_essential_substrate_gene_symbols.append(gene)\n",
    "        \n",
    "print(\"Essential Genes with CL half-lives that are assigned to a protease (\" +str(len(CL_essential_substrate_gene_symbols))+\"): \", CL_essential_substrate_gene_symbols)\n",
    "\n",
    "# check if any of the essential genes in the NE data are assigned to a protease:\n",
    "NE_essential_substrate_gene_symbols = []\n",
    "for gene in NE_essential_gene_symbols_found:\n",
    "    if gene in protease_data['Gene name'].values:\n",
    "        NE_essential_substrate_gene_symbols.append(gene)\n",
    "        \n",
    "print(\"Essential Genes with NE half-lives that are assigned to a protease (\" +str(len(NE_essential_substrate_gene_symbols))+\"): \", NE_essential_substrate_gene_symbols)"
   ],
   "id": "ed282a97db2cf70e",
   "outputs": [
    {
     "name": "stdout",
     "output_type": "stream",
     "text": [
      "Essential Genes with CL half-lives that are assigned to a protease (0):  []\n",
      "Essential Genes with NE half-lives that are assigned to a protease (3):  ['ftsQ', 'hemA', 'ispU']\n"
     ]
    }
   ],
   "execution_count": 9
  },
  {
   "metadata": {},
   "cell_type": "markdown",
   "source": [
    "next items to do with this info: \n",
    "- plot the essential genes in the Clim0 data\n",
    "- plot the outliers and highlight the essential genes \n",
    "- plot the outliers and highlight the protease substrates\n",
    "- plot of the outliers and highlight the type of protease substrate"
   ],
   "id": "6b60199ca1ebf110"
  },
  {
   "metadata": {},
   "cell_type": "markdown",
   "source": "# Plot the essential genes in CLClim0NE",
   "id": "a711563b50dcdeab"
  },
  {
   "metadata": {
    "ExecuteTime": {
     "end_time": "2024-10-01T07:46:49.664836Z",
     "start_time": "2024-10-01T07:46:49.662634Z"
    }
   },
   "cell_type": "code",
   "source": [
    "# FUNCTIONS:\n",
    "\n",
    "# convert the data from the ParCa translation.py raw HL saves: \n",
    "def convert_HL_data(dataframe):\n",
    "    name_s = 'rate constant (s^1)' # name in seconds\n",
    "    name_m = 'half life (min)' # name in mins\n",
    "    dataframe.rename(columns={'Rate Constant': name_s}, inplace=True)\n",
    "    dataframe[name_m] = dataframe[name_s] * 60 * (1/np.log(2))\n",
    "    dataframe[name_m] = 1 / dataframe[name_m] # units of mins\n",
    "    return dataframe\n",
    "\n",
    "\n",
    "# convert each data source in the saved HL data file folders \n",
    "def convert_data_and_add_HL_source(dataframe, HL_source):\n",
    "    name_s = HL_source + ' rate constant (s^1)' # name in seconds\n",
    "    name_m = HL_source + ' half life (min)' # name in mins\n",
    "    dataframe.rename(columns={'Rate Constant': name_s}, inplace=True)\n",
    "    dataframe[name_m] = dataframe[name_s] * 60 * (1/np.log(2))\n",
    "    dataframe[name_m] = 1 / dataframe[name_m] # units of mins\n",
    "    return dataframe\n",
    "\n",
    "# CLMLNE_ML_df = convert_data(CLMLNE_ML, \"CLMLNE ML\")\n",
    "# CLMLNE_CL_df = convert_data(CLMLNE_CL, \"CLMLNE CL\")\n",
    "# CLMLNE_NE_df = convert_data(CLMLNE_NE, \"CLMLNE NE\")\n",
    "# CLNE_CL_df = convert_data(CLNE_CL, \"CLNE CL\")\n",
    "# CLNE_NE_df = convert_data(CLNE_NE, \"CLNE NE\")"
   ],
   "id": "e856a49f17baacbd",
   "outputs": [],
   "execution_count": 10
  },
  {
   "metadata": {
    "ExecuteTime": {
     "end_time": "2024-10-01T07:46:49.672814Z",
     "start_time": "2024-10-01T07:46:49.665275Z"
    }
   },
   "cell_type": "code",
   "source": [
    "# determine which proteins are essential genes in the Clim0 data (does not matter if they are assigned to proteases or not):\n",
    "Clim0_data = pd.read_csv('ParCa_rate_constants/Clim_rate_constants.csv')\n",
    "Clim0_data['HL Source'] = \"Clim0\" # add a column with the half life source\n",
    "monomer_ids = Clim0_data['Protein ID']\n",
    "\n",
    "# if a monomer in Clim0_essential_monomer_ids_found is found in monomer_ids, remove them from Clim0_data and add it to a new dataframe: \n",
    "essential_monomer_idxs = monomer_ids.isin(Clim0_essential_monomer_ids_found)\n",
    "Clim0_essential_monomers = Clim0_data[essential_monomer_idxs].copy()\n",
    "Clim0_essential_monomers['HL Source'] = \"Clim0 (essential gene)\"\n",
    "Clim0_data_remaining = Clim0_data[~essential_monomer_idxs].copy()\n",
    "\n",
    "#del Clim0_data, monomer_ids\n",
    "\n",
    "# repeat for CL: \n",
    "CL_data = pd.read_csv('ParCa_rate_constants/CL_rate_constants.csv')\n",
    "CL_data['HL Source'] = \"CL\" # add a column with the half life source\n",
    "CL_monomer_ids = CL_data['Protein ID']\n",
    "\n",
    "# if a monomer in CL_essential_monomer_ids_found is found in monomer_ids, remove them from Clim0_data and add it to a new dataframe: \n",
    "CL_essential_monomer_idxs = CL_monomer_ids.isin(CL_essential_monomer_ids_found)\n",
    "CL_essential_monomers = CL_data[CL_essential_monomer_idxs].copy()\n",
    "CL_essential_monomers['HL Source'] = \"CL (essential gene)\"\n",
    "CL_data_remaining = CL_data[~CL_essential_monomer_idxs].copy()\n",
    "        \n",
    "#del CL_data, CL_monomer_ids\n",
    "\n",
    "# repeat for NE: \n",
    "NE_data = pd.read_csv('ParCa_rate_constants/NE_rate_constants.csv')\n",
    "NE_data['HL Source'] = \"NE\" # add a column with the half life source\n",
    "NE_monomer_ids = NE_data['Protein ID']\n",
    "\n",
    "# if a monomer in NE_essential_monomer_ids_found is found in monomer_ids, remove them from Clim0_data and add it to a new dataframe: \n",
    "NE_essential_monomer_idxs = NE_monomer_ids.isin(NE_essential_monomer_ids_found)\n",
    "NE_essential_monomers = NE_data[NE_essential_monomer_idxs].copy()\n",
    "NE_essential_monomers['HL Source'] = \"NE (essential gene)\"\n",
    "NE_data_remaining = NE_data[~NE_essential_monomer_idxs].copy()\n",
    "\n",
    "#del NE_data, NE_monomer_ids\n"
   ],
   "id": "d6d4f7bce914048d",
   "outputs": [],
   "execution_count": 11
  },
  {
   "metadata": {
    "ExecuteTime": {
     "end_time": "2024-10-01T07:46:49.674759Z",
     "start_time": "2024-10-01T07:46:49.673365Z"
    }
   },
   "cell_type": "code",
   "source": [
    "# USER INPUTS: define the name of the combo in use and the special Clim name\n",
    "current_sequence = \"CLClim0NE\"\n",
    "Clim_name = 'Clim0'"
   ],
   "id": "48c7237bae4efcf9",
   "outputs": [],
   "execution_count": 12
  },
  {
   "metadata": {},
   "cell_type": "markdown",
   "source": "Plot #1: A plot of  all the protein half lifes in the combo (no specific order, but sorted by source)",
   "id": "93f8ed3bff96b29"
  },
  {
   "metadata": {
    "ExecuteTime": {
     "end_time": "2024-10-01T07:46:49.902489Z",
     "start_time": "2024-10-01T07:46:49.675375Z"
    }
   },
   "cell_type": "code",
   "source": [
    "# Plot the half-lifes of CLClim0NE in order\n",
    "CLClim0NE_df_full = pd.concat([CL_data, Clim0_data, NE_data], ignore_index=True) # concatinate row-wise\n",
    "\n",
    "# convert the units of the data: \n",
    "CLClim0NE_df_full = convert_HL_data(CLClim0NE_df_full)\n",
    "\n",
    "# sort the rates first:\n",
    "#CLClim0NE_df_full = CLClim0NE_df_full.sort_values(by=[\"half life (min)\"], ascending=True)\n",
    "fig = px.scatter(CLClim0NE_df_full, x=\"Protein ID\", y=CLClim0NE_df_full[\"half life (min)\"], color=\"HL Source\")\n",
    "fig.update_traces(marker=dict(size=3, ), )\n",
    "\n",
    "# plot specs:\n",
    "fig.update_xaxes(visible=False)\n",
    "fig.update_layout(title='The Half Life Values for Proteins in the ' + current_sequence + ' Sorted Combo<br>', xaxis_title='Protein ID', yaxis_title='Half Life (min)')\n",
    "fig.update_layout(legend_title_text=\"Half Life Source\")\n",
    "\n",
    "# wont open in pycharm, so save as a html:\n",
    "out_pth = \"~/wcEcoli/out/random_plotlys/\" + current_sequence + \"_partitioned.html\"\n",
    "out_pth = os.path.expanduser(out_pth)  \n",
    "output_dir = os.path.dirname(out_pth)\n",
    "os.makedirs(output_dir, exist_ok=True)  \n",
    "fig.write_html(out_pth, auto_open=True)"
   ],
   "id": "8e48cc7f8ae8de4e",
   "outputs": [],
   "execution_count": 13
  },
  {
   "metadata": {},
   "cell_type": "markdown",
   "source": "Plot #2: A plot of the proteins' half life assignment, ordered by value",
   "id": "e57a4325ae0dedf0"
  },
  {
   "metadata": {
    "ExecuteTime": {
     "end_time": "2024-10-01T07:47:07.343199Z",
     "start_time": "2024-10-01T07:46:49.903636Z"
    }
   },
   "cell_type": "code",
   "source": [
    "# plot in order! (plotly does not naturally plot in order while merging over the different subsets globally)\n",
    "CLClim0NE_df_full['gene symbol'] = CLClim0NE_df_full['Protein ID'].apply(lambda x: get_gene_symbols_for_monomer_ids()[x]) # this is to add to the hovertext\n",
    "ordered_df = CLClim0NE_df_full.sort_values(by=[\"half life (min)\"], ascending=True)\n",
    "\n",
    "# create a dataframe for the sources of different rates: \n",
    "ordered_CL_df = ordered_df[ordered_df['HL Source'] == \"CL\"]\n",
    "ordered_Clim_df = ordered_df[ordered_df['HL Source'] == Clim_name]\n",
    "ordered_NE_df = ordered_df[ordered_df['HL Source'] == \"NE\"]\n",
    "\n",
    "\n",
    "# generate the figure in the background first:\n",
    "CLClim0NE_df_full_sorted = CLClim0NE_df_full.sort_values(by=[\"half life (min)\"], ascending=True)\n",
    "fig = px.scatter(CLClim0NE_df_full_sorted, x=\"Protein ID\", y=\"half life (min)\", )\n",
    "fig.update_traces(marker_size=.5, opacity=.3)\n",
    "\n",
    "# overlay the individual rates\n",
    "fig.add_trace(go.Scatter(x=(ordered_Clim_df['Protein ID']), y=(ordered_Clim_df[\"half life (min)\"]), mode='markers', name=Clim_name, hovertext=ordered_Clim_df['gene symbol'], marker_size=5, marker=dict(color=\"darkorange\")))\n",
    "fig.add_trace(go.Scatter(x=(ordered_NE_df['Protein ID']), y=(ordered_NE_df[\"half life (min)\"]), mode='markers', name='NE', hovertext=ordered_NE_df['gene symbol'], marker_size=5, marker=dict(color=\"lightseagreen\")))\n",
    "fig.add_trace(go.Scatter(x=(ordered_CL_df['Protein ID']), y=(ordered_CL_df[\"half life (min)\"]), mode='markers', name='CL', hovertext=ordered_CL_df['gene symbol'], marker_size=7, marker=dict(color=\"deeppink\"))) # putting this last so that I can see it stacked on top of the others\n",
    "\n",
    "# plot specs \n",
    "fig.update_xaxes(visible=False)\n",
    "fig.update_layout(legend_title_text='Half Life Source')\n",
    "fig.update_layout(title='The Half Life Values for Proteins in the ' + current_sequence + ' Sorted Combo<br>', xaxis_title='Protein ID', yaxis_title='Half Life (min)')\n",
    "\n",
    "# wont open in pycharm, so save as a html:\n",
    "out_pth = \"~/wcEcoli/out/random_plotlys/\" + current_sequence + \"_ordered.html\"\n",
    "out_pth = os.path.expanduser(out_pth) \n",
    "output_dir = os.path.dirname(out_pth)\n",
    "os.makedirs(output_dir, exist_ok=True)  # Create the directory if it does not exist\n",
    "fig.write_html(out_pth, auto_open=True) # displays the figure on a default web brouser "
   ],
   "id": "c0749ec02f0e3a46",
   "outputs": [],
   "execution_count": 14
  },
  {
   "metadata": {},
   "cell_type": "markdown",
   "source": "Plot #3: Graph of the proteins with their essential genes highlighted",
   "id": "4013c817b556edd6"
  },
  {
   "metadata": {
    "ExecuteTime": {
     "end_time": "2024-10-01T07:47:24.787938Z",
     "start_time": "2024-10-01T07:47:07.344402Z"
    }
   },
   "cell_type": "code",
   "source": [
    "# combine all the data frames\n",
    "dfs = [Clim0_essential_monomers, Clim0_data_remaining, CL_essential_monomers, CL_data_remaining, NE_essential_monomers, NE_data_remaining]\n",
    "CLClim0NE_df_full_withEGs = pd.concat(dfs, ignore_index=True) # concatinate row-wise\n",
    "\n",
    "# plot in order! (plotly does not naturally plot in order while merging over the different subsets globally)\n",
    "CLClim0NE_df_full_withEGs = convert_HL_data(CLClim0NE_df_full_withEGs)\n",
    "CLClim0NE_df_full_withEGs['gene symbol'] = CLClim0NE_df_full_withEGs['Protein ID'].apply(lambda x: get_gene_symbols_for_monomer_ids()[x]) # this is to add to the hovertext\n",
    "ordered_df = CLClim0NE_df_full_withEGs.sort_values(by=[\"half life (min)\"], ascending=True)\n",
    "\n",
    "# create a dataframe for the sources of different rates: \n",
    "ordered_CL_df = ordered_df[ordered_df['HL Source'] == \"CL\"]\n",
    "ordered_Clim_df = ordered_df[ordered_df['HL Source'] == Clim_name]\n",
    "ordered_NE_df = ordered_df[ordered_df['HL Source'] == \"NE\"]\n",
    "ordered_CL_EG_df = ordered_df[ordered_df['HL Source'] == \"CL (essential gene)\"]\n",
    "ordered_Clim_EG_df = ordered_df[ordered_df['HL Source'] == Clim_name + \" (essential gene)\"]\n",
    "ordered_NE_EG_df = ordered_df[ordered_df['HL Source'] == \"NE (essential gene)\"]\n",
    "\n",
    "# generate the figure in the background first:\n",
    "#ordered_df = CLClim0NE_df_full_withEGs.sort_values(by=[\"half life (min)\"], ascending=True)\n",
    "fig = px.scatter(ordered_df, x=\"Protein ID\", y=\"half life (min)\", )\n",
    "fig.update_traces(marker_size=.5, opacity=.1)\n",
    "\n",
    "# overlay the individual rates\n",
    "fig.add_trace(go.Scatter(x=(ordered_Clim_df['Protein ID']), y=(ordered_Clim_df[\"half life (min)\"]), mode='markers', name=(Clim_name + ', '+ (str(np.shape(ordered_Clim_df['Protein ID'])[0]))), hovertext=ordered_Clim_df['gene symbol'], marker_size=5, marker=dict(color=\"darkorange\")))\n",
    "fig.add_trace(go.Scatter(x=(ordered_NE_df['Protein ID']), y=(ordered_NE_df[\"half life (min)\"]), mode='markers', name=('NE, '+ (str(np.shape(ordered_NE_df['Protein ID'])[0]))), hovertext=ordered_NE_df['gene symbol'], marker_size=5, marker=dict(color=\"lightseagreen\")))\n",
    "fig.add_trace(go.Scatter(x=(ordered_CL_df['Protein ID']), y=(ordered_CL_df[\"half life (min)\"]), mode='markers', name=('CL, ' + (str(np.shape(ordered_CL_df['Protein ID'])[0]))), hovertext=ordered_CL_df['gene symbol'], marker_size=7, marker=dict(color=\"deeppink\"))) \n",
    "\n",
    "fig.add_trace(go.Scatter(x=(ordered_Clim_EG_df['Protein ID']), y=(ordered_Clim_EG_df[\"half life (min)\"]), mode='markers', name=(Clim_name + ' (essential genes), ' + (str(np.shape(ordered_Clim_EG_df['Protein ID'])[0]))), hovertext=ordered_Clim_EG_df['gene symbol'], marker_size=3, marker=dict(color=\"lime\", symbol='diamond')))\n",
    "fig.add_trace(go.Scatter(x=(ordered_NE_EG_df['Protein ID']), y=(ordered_NE_EG_df[\"half life (min)\"]), mode='markers', name=('NE (essential genes), ' + (str(np.shape(ordered_NE_EG_df['Protein ID'])[0]))), hovertext=ordered_NE_EG_df['gene symbol'], marker_size=3, marker=dict(color=\"yellow\", symbol='star')))\n",
    "fig.add_trace(go.Scatter(x=(ordered_CL_EG_df['Protein ID']), y=(ordered_CL_EG_df[\"half life (min)\"]), mode='markers', name=('CL (essential genes), ' + (str(np.shape(ordered_CL_EG_df['Protein ID'])[0]))), hovertext=ordered_CL_EG_df['gene symbol'], marker_size=3, marker=dict(color=\"deepskyblue\", symbol='square'))) # putting this last so that I can see it stacked on top of the others\n",
    "\n",
    "# plot specs \n",
    "fig.update_xaxes(visible=False)\n",
    "fig.update_layout(legend_title_text='Half Life Source')\n",
    "fig.update_layout(title='The Half Life Values for Proteins in the ' + current_sequence + ' Sorted Combo<br>', xaxis_title='Protein ID', yaxis_title='Half Life (min)')\n",
    "\n",
    "# wont open in pycharm, so save as a html:\n",
    "out_pth = \"~/wcEcoli/out/random_plotlys/\" + current_sequence + \"_ordered_with_essential_genes.html\"\n",
    "out_pth = os.path.expanduser(out_pth) \n",
    "output_dir = os.path.dirname(out_pth)\n",
    "os.makedirs(output_dir, exist_ok=True)  # Create the directory if it does not exist\n",
    "fig.write_html(out_pth, auto_open=True) # displays the figure on a default web brouser "
   ],
   "id": "dd463bfbd32575bd",
   "outputs": [],
   "execution_count": 15
  },
  {
   "metadata": {
    "ExecuteTime": {
     "end_time": "2024-10-01T07:47:24.802011Z",
     "start_time": "2024-10-01T07:47:24.792797Z"
    }
   },
   "cell_type": "code",
   "source": "ordered_Clim_EG_df",
   "id": "d8e1a1e18af6a899",
   "outputs": [
    {
     "data": {
      "text/plain": [
       "                                 Protein ID  rate constant (s^1)   \n",
       "329           UDPACYLGLCNACDEACETYL-MONOMER             0.000413  \\\n",
       "36                       BIOTIN-SYN-MONOMER             0.000240   \n",
       "273                                 PD03938             0.000237   \n",
       "195                           G6464-MONOMER             0.000216   \n",
       "298              QUINOLINATE-SYNTHA-MONOMER             0.000169   \n",
       "..                                      ...                  ...   \n",
       "326           UDP-NACMURALA-GLU-LIG-MONOMER             0.000016   \n",
       "330  UDPHYDROXYMYRGLUCOSAMNACETYLTRANS-MONO             0.000016   \n",
       "337                            YCFU-MONOMER             0.000016   \n",
       "338                            YCFW-MONOMER             0.000016   \n",
       "340                                    YIDC             0.000016   \n",
       "\n",
       "                  HL Source  half life (min) gene symbol  \n",
       "329  Clim0 (essential gene)             28.0        lpxC  \n",
       "36   Clim0 (essential gene)             48.2        bioB  \n",
       "273  Clim0 (essential gene)             48.7        metR  \n",
       "195  Clim0 (essential gene)             53.4        ftsK  \n",
       "298  Clim0 (essential gene)             68.3        nadA  \n",
       "..                      ...              ...         ...  \n",
       "326  Clim0 (essential gene)            720.0        murD  \n",
       "330  Clim0 (essential gene)            720.0        lpxD  \n",
       "337  Clim0 (essential gene)            720.0        lolC  \n",
       "338  Clim0 (essential gene)            720.0        lolE  \n",
       "340  Clim0 (essential gene)            720.0        yidC  \n",
       "\n",
       "[341 rows x 5 columns]"
      ],
      "text/html": [
       "<div>\n",
       "<style scoped>\n",
       "    .dataframe tbody tr th:only-of-type {\n",
       "        vertical-align: middle;\n",
       "    }\n",
       "\n",
       "    .dataframe tbody tr th {\n",
       "        vertical-align: top;\n",
       "    }\n",
       "\n",
       "    .dataframe thead th {\n",
       "        text-align: right;\n",
       "    }\n",
       "</style>\n",
       "<table border=\"1\" class=\"dataframe\">\n",
       "  <thead>\n",
       "    <tr style=\"text-align: right;\">\n",
       "      <th></th>\n",
       "      <th>Protein ID</th>\n",
       "      <th>rate constant (s^1)</th>\n",
       "      <th>HL Source</th>\n",
       "      <th>half life (min)</th>\n",
       "      <th>gene symbol</th>\n",
       "    </tr>\n",
       "  </thead>\n",
       "  <tbody>\n",
       "    <tr>\n",
       "      <th>329</th>\n",
       "      <td>UDPACYLGLCNACDEACETYL-MONOMER</td>\n",
       "      <td>0.000413</td>\n",
       "      <td>Clim0 (essential gene)</td>\n",
       "      <td>28.0</td>\n",
       "      <td>lpxC</td>\n",
       "    </tr>\n",
       "    <tr>\n",
       "      <th>36</th>\n",
       "      <td>BIOTIN-SYN-MONOMER</td>\n",
       "      <td>0.000240</td>\n",
       "      <td>Clim0 (essential gene)</td>\n",
       "      <td>48.2</td>\n",
       "      <td>bioB</td>\n",
       "    </tr>\n",
       "    <tr>\n",
       "      <th>273</th>\n",
       "      <td>PD03938</td>\n",
       "      <td>0.000237</td>\n",
       "      <td>Clim0 (essential gene)</td>\n",
       "      <td>48.7</td>\n",
       "      <td>metR</td>\n",
       "    </tr>\n",
       "    <tr>\n",
       "      <th>195</th>\n",
       "      <td>G6464-MONOMER</td>\n",
       "      <td>0.000216</td>\n",
       "      <td>Clim0 (essential gene)</td>\n",
       "      <td>53.4</td>\n",
       "      <td>ftsK</td>\n",
       "    </tr>\n",
       "    <tr>\n",
       "      <th>298</th>\n",
       "      <td>QUINOLINATE-SYNTHA-MONOMER</td>\n",
       "      <td>0.000169</td>\n",
       "      <td>Clim0 (essential gene)</td>\n",
       "      <td>68.3</td>\n",
       "      <td>nadA</td>\n",
       "    </tr>\n",
       "    <tr>\n",
       "      <th>...</th>\n",
       "      <td>...</td>\n",
       "      <td>...</td>\n",
       "      <td>...</td>\n",
       "      <td>...</td>\n",
       "      <td>...</td>\n",
       "    </tr>\n",
       "    <tr>\n",
       "      <th>326</th>\n",
       "      <td>UDP-NACMURALA-GLU-LIG-MONOMER</td>\n",
       "      <td>0.000016</td>\n",
       "      <td>Clim0 (essential gene)</td>\n",
       "      <td>720.0</td>\n",
       "      <td>murD</td>\n",
       "    </tr>\n",
       "    <tr>\n",
       "      <th>330</th>\n",
       "      <td>UDPHYDROXYMYRGLUCOSAMNACETYLTRANS-MONO</td>\n",
       "      <td>0.000016</td>\n",
       "      <td>Clim0 (essential gene)</td>\n",
       "      <td>720.0</td>\n",
       "      <td>lpxD</td>\n",
       "    </tr>\n",
       "    <tr>\n",
       "      <th>337</th>\n",
       "      <td>YCFU-MONOMER</td>\n",
       "      <td>0.000016</td>\n",
       "      <td>Clim0 (essential gene)</td>\n",
       "      <td>720.0</td>\n",
       "      <td>lolC</td>\n",
       "    </tr>\n",
       "    <tr>\n",
       "      <th>338</th>\n",
       "      <td>YCFW-MONOMER</td>\n",
       "      <td>0.000016</td>\n",
       "      <td>Clim0 (essential gene)</td>\n",
       "      <td>720.0</td>\n",
       "      <td>lolE</td>\n",
       "    </tr>\n",
       "    <tr>\n",
       "      <th>340</th>\n",
       "      <td>YIDC</td>\n",
       "      <td>0.000016</td>\n",
       "      <td>Clim0 (essential gene)</td>\n",
       "      <td>720.0</td>\n",
       "      <td>yidC</td>\n",
       "    </tr>\n",
       "  </tbody>\n",
       "</table>\n",
       "<p>341 rows × 5 columns</p>\n",
       "</div>"
      ]
     },
     "execution_count": 16,
     "metadata": {},
     "output_type": "execute_result"
    }
   ],
   "execution_count": 16
  },
  {
   "metadata": {},
   "cell_type": "markdown",
   "source": "# Plots with the proteins assigned to proteases",
   "id": "b4911ac164b94820"
  },
  {
   "metadata": {
    "ExecuteTime": {
     "end_time": "2024-10-01T07:47:24.804590Z",
     "start_time": "2024-10-01T07:47:24.802801Z"
    }
   },
   "cell_type": "code",
   "source": [
    "# first, clear all the data above, so that I can make the same plots with the same variables\n",
    "del essential_monomer_idxs, Clim0_essential_monomers, Clim0_data_remaining, CL_essential_monomer_idxs, CL_essential_monomers, CL_data_remaining, NE_essential_monomer_idxs, NE_essential_monomers, NE_data_remaining"
   ],
   "id": "925fef439f9e78a9",
   "outputs": [],
   "execution_count": 17
  },
  {
   "metadata": {
    "ExecuteTime": {
     "end_time": "2024-10-01T07:47:24.815304Z",
     "start_time": "2024-10-01T07:47:24.805464Z"
    }
   },
   "cell_type": "code",
   "source": [
    "# determine which proteins are assigned to proteases in the Clim0 data (does not matter if they are essential or not):\n",
    "Clim0_data = pd.read_csv('ParCa_rate_constants/Clim_rate_constants.csv')\n",
    "Clim0_data['HL Source'] = \"Clim0\" # add a column with the half life source\n",
    "monomer_ids = Clim0_data['Protein ID']\n",
    "\n",
    "# if a monomer in Clim0_essential_monomer_ids_found is found in monomer_ids, remove them from Clim0_data and add it to a new dataframe: \n",
    "essential_monomer_idxs = monomer_ids.isin(Clim0_protease_substrate_monomer_ids)\n",
    "Clim0_essential_monomers = Clim0_data[essential_monomer_idxs].copy()\n",
    "Clim0_essential_monomers['HL Source'] = \"Clim0 (protease substrate)\"\n",
    "Clim0_data_remaining = Clim0_data[~essential_monomer_idxs].copy()\n",
    "\n",
    "#del Clim0_data, monomer_ids\n",
    "\n",
    "# repeat for CL: \n",
    "CL_data = pd.read_csv('ParCa_rate_constants/CL_rate_constants.csv')\n",
    "CL_data['HL Source'] = \"CL\" # add a column with the half life source\n",
    "CL_monomer_ids = CL_data['Protein ID']\n",
    "\n",
    "# if a monomer in CL_essential_monomer_ids_found is found in monomer_ids, remove them from Clim0_data and add it to a new dataframe: \n",
    "CL_essential_monomer_idxs = CL_monomer_ids.isin(CL_protease_substrate_monomer_ids)\n",
    "CL_essential_monomers = CL_data[CL_essential_monomer_idxs].copy()\n",
    "CL_essential_monomers['HL Source'] = \"CL (protease substrate)\"\n",
    "CL_data_remaining = CL_data[~CL_essential_monomer_idxs].copy()\n",
    "        \n",
    "#del CL_data, CL_monomer_ids\n",
    "\n",
    "# repeat for NE: \n",
    "NE_data = pd.read_csv('ParCa_rate_constants/NE_rate_constants.csv')\n",
    "NE_data['HL Source'] = \"NE\" # add a column with the half life source\n",
    "NE_monomer_ids = NE_data['Protein ID']\n",
    "\n",
    "# if a monomer in NE_essential_monomer_ids_found is found in monomer_ids, remove them from Clim0_data and add it to a new dataframe: \n",
    "NE_essential_monomer_idxs = NE_monomer_ids.isin(NE_protease_substrate_monomer_ids)\n",
    "NE_essential_monomers = NE_data[NE_essential_monomer_idxs].copy()\n",
    "NE_essential_monomers['HL Source'] = \"NE (protease substrate)\"\n",
    "NE_data_remaining = NE_data[~NE_essential_monomer_idxs].copy()\n",
    "\n",
    "#del NE_data, NE_monomer_ids\n"
   ],
   "id": "cedcddb644ab7201",
   "outputs": [],
   "execution_count": 18
  },
  {
   "metadata": {},
   "cell_type": "markdown",
   "source": "Plot #4: Similar to plot 3, but instead of the essential genes plotted, the proteins assigned to substrates are plotted!",
   "id": "8f1a95c028f029d4"
  },
  {
   "metadata": {
    "ExecuteTime": {
     "end_time": "2024-10-01T07:47:42.474879Z",
     "start_time": "2024-10-01T07:47:24.816244Z"
    }
   },
   "cell_type": "code",
   "source": [
    "# combine all the data frames\n",
    "dfs = [Clim0_essential_monomers, Clim0_data_remaining, CL_essential_monomers, CL_data_remaining, NE_essential_monomers, NE_data_remaining]\n",
    "CLClim0NE_df_full_withPSs = pd.concat(dfs, ignore_index=True) # concatinate row-wise\n",
    "\n",
    "# plot in order! (plotly does not naturally plot in order while merging over the different subsets globally)\n",
    "CLClim0NE_df_full_withPSs = convert_HL_data(CLClim0NE_df_full_withPSs)\n",
    "CLClim0NE_df_full_withPSs['gene symbol'] = CLClim0NE_df_full_withPSs['Protein ID'].apply(lambda x: get_gene_symbols_for_monomer_ids()[x]) # this is to add to the hovertext\n",
    "ordered_df = CLClim0NE_df_full_withPSs.sort_values(by=[\"half life (min)\"], ascending=True)\n",
    "\n",
    "# create a dataframe for the sources of different rates: \n",
    "ordered_CL_df = ordered_df[ordered_df['HL Source'] == \"CL\"]\n",
    "ordered_Clim_df = ordered_df[ordered_df['HL Source'] == Clim_name]\n",
    "ordered_NE_df = ordered_df[ordered_df['HL Source'] == \"NE\"]\n",
    "ordered_CL_PS_df = ordered_df[ordered_df['HL Source'] == \"CL (protease substrate)\"]\n",
    "ordered_Clim_PS_df = ordered_df[ordered_df['HL Source'] == Clim_name + \" (protease substrate)\"]\n",
    "ordered_NE_PS_df = ordered_df[ordered_df['HL Source'] == \"NE (protease substrate)\"]\n",
    "\n",
    "# generate the figure in the background first:\n",
    "fig = px.scatter(ordered_df, x=\"Protein ID\", y=\"half life (min)\")\n",
    "fig.update_traces(marker_size=.5, opacity=.1)\n",
    "\n",
    "# overlay the individual rates\n",
    "fig.add_trace(go.Scatter(x=(ordered_Clim_df['Protein ID']), y=(ordered_Clim_df[\"half life (min)\"]), mode='markers', name=(Clim_name + ', '+ (str(np.shape(ordered_Clim_df['Protein ID'])[0]))), hovertext=ordered_Clim_df['gene symbol'], marker_size=5, marker=dict(color=\"darkorange\")))\n",
    "fig.add_trace(go.Scatter(x=(ordered_NE_df['Protein ID']), y=(ordered_NE_df[\"half life (min)\"]), mode='markers', name=('NE, '+ (str(np.shape(ordered_NE_df['Protein ID'])[0]))), hovertext=ordered_NE_df['gene symbol'], marker_size=5, marker=dict(color=\"lightseagreen\")))\n",
    "fig.add_trace(go.Scatter(x=(ordered_CL_df['Protein ID']), y=(ordered_CL_df[\"half life (min)\"]), mode='markers', name=('CL, ' + (str(np.shape(ordered_CL_df['Protein ID'])[0]))), hovertext=ordered_CL_df['gene symbol'], marker_size=7, marker=dict(color=\"deeppink\"))) \n",
    "\n",
    "fig.add_trace(go.Scatter(x=(ordered_Clim_PS_df['Protein ID']), y=(ordered_Clim_PS_df[\"half life (min)\"]), mode='markers', name=(Clim_name + ' (protease substrates), ' + (str(np.shape(ordered_Clim_PS_df['Protein ID'])[0]))), hovertext=ordered_Clim_PS_df['gene symbol'], marker_size=3, marker=dict(color=\"lime\", symbol='diamond')))\n",
    "fig.add_trace(go.Scatter(x=(ordered_NE_PS_df['Protein ID']), y=(ordered_NE_PS_df[\"half life (min)\"]), mode='markers', name=('NE (protease substrates), ' + (str(np.shape(ordered_NE_PS_df['Protein ID'])[0]))), hovertext=ordered_NE_PS_df['gene symbol'], marker_size=3, marker=dict(color=\"yellow\", symbol='star')))\n",
    "fig.add_trace(go.Scatter(x=(ordered_CL_PS_df['Protein ID']), y=(ordered_CL_PS_df[\"half life (min)\"]), mode='markers', name=('CL (protease substrates), ' + (str(np.shape(ordered_CL_PS_df['Protein ID'])[0]))), hovertext=ordered_CL_PS_df['gene symbol'], marker_size=3, marker=dict(color=\"deepskyblue\", symbol='square'))) # putting this last so that I can see it stacked on top of the others\n",
    "\n",
    "\n",
    "# plot specs \n",
    "fig.update_xaxes(visible=False)\n",
    "fig.update_layout(legend_title_text='Half Life Source')\n",
    "fig.update_layout(title='The Half Life Values for Proteins in the ' + current_sequence + ' Sorted Combo<br>', xaxis_title='Protein ID', yaxis_title='Half Life (min)')\n",
    "\n",
    "# wont open in pycharm, so save as a html:\n",
    "out_pth = \"~/wcEcoli/out/random_plotlys/\" + current_sequence + \"_ordered_with_protein_substrates.html\"\n",
    "out_pth = os.path.expanduser(out_pth) \n",
    "output_dir = os.path.dirname(out_pth)\n",
    "os.makedirs(output_dir, exist_ok=True)  # Create the directory if it does not exist\n",
    "fig.write_html(out_pth, auto_open=True) # displays the figure on a default web brouser "
   ],
   "id": "ed0aebfe17e9be7e",
   "outputs": [],
   "execution_count": 19
  },
  {
   "metadata": {},
   "cell_type": "markdown",
   "source": "Plot #5: a plot of just the Clim0 half-lifes and the ones that are essential ",
   "id": "89e3c40651e4fc4e"
  },
  {
   "metadata": {
    "ExecuteTime": {
     "end_time": "2024-10-01T07:47:42.558365Z",
     "start_time": "2024-10-01T07:47:42.476014Z"
    }
   },
   "cell_type": "code",
   "source": [
    "# first, prepare the data for merging:\n",
    "del Clim0_data, monomer_ids, Clim0_data_remaining\n",
    "\n",
    "# separate CLim0 data\n",
    "Clim0_data = pd.read_csv('ParCa_rate_constants/Clim_rate_constants.csv')\n",
    "Clim0_data['HL Source'] = \"Clim0\" # add a column with the half life source\n",
    "monomer_ids = Clim0_data[\"Protein ID\"]\n",
    "\n",
    "# if a monomer in Clim0_protease_substrate_monomer_ids is found in monomer_ids, remove them from Clim0_data and add it to a new dataframe: \n",
    "Clim0_protease_substrate_idxs = monomer_ids.isin(Clim0_protease_substrate_monomer_ids)\n",
    "Clim0_protease_substrates = Clim0_data[Clim0_protease_substrate_idxs].copy()\n",
    "Clim0_protease_substrates['HL Source'] = \"Clim0 (protease substrate)\"\n",
    "Clim0_data_remaining = Clim0_data[~Clim0_protease_substrate_idxs].copy()\n",
    "\n",
    "# merge it back together momentarily: \n",
    "Clim0_data = pd.concat([Clim0_protease_substrates, Clim0_data_remaining], ignore_index=True)\n",
    "\n",
    "# load in the \"N-end\" rule rates from the CLNE model (CL is the exact same between both):\n",
    "CLNE_NE_data = pd.read_excel('~/wcEcoli/models/ecoli/analysis/local_notebooks/C_limited_PDR_analyses_with_published_paper_data/previous_models/CLNE_files/CLNE_full.xlsx')\n",
    "CLNE_NE_data.rename(columns={CLNE_NE_data.columns[1]: \"Rate Constant\"}, inplace=True) \n",
    "\n",
    "# convert both datasets: \n",
    "CLNE_NE_data = convert_data_and_add_HL_source(CLNE_NE_data, \"CLNE NE\")\n",
    "CLClim0NE_Clim0_data = convert_data_and_add_HL_source(Clim0_data, \"CLClim0NE Clim0\")"
   ],
   "id": "e224df128c73b715",
   "outputs": [],
   "execution_count": 20
  },
  {
   "metadata": {
    "ExecuteTime": {
     "end_time": "2024-10-01T07:47:50.376789Z",
     "start_time": "2024-10-01T07:47:42.559059Z"
    }
   },
   "cell_type": "code",
   "source": [
    "# second, merge the data: \n",
    "\n",
    "# merge the two dataframes on the protein names\n",
    "df = pd.merge(CLClim0NE_Clim0_data, CLNE_NE_data, on='Protein ID', how='inner')\n",
    "\n",
    "# make a new data frame with all proteins that have a half life of greater than 10 mins in the NE half life (min) column \n",
    "df_10hrs = df[df['CLNE NE half life (min)'] > 10].copy()\n",
    "monomer_ids_10hrs = df_10hrs['Protein ID'] # todo: do I need this??\n",
    "df_10hrs['gene symbol'] = df_10hrs['Protein ID'].apply(lambda x: get_gene_symbols_for_monomer_ids()[x])\n",
    "df_10hrs = df_10hrs.drop(columns=[\"CLNE NE rate constant (s^1)\", \"CLNE NE half life (min)\", \"CLClim0NE Clim0 rate constant (s^1)\"])\n",
    "df_10hrs"
   ],
   "id": "13591dada7944b4e",
   "outputs": [
    {
     "data": {
      "text/plain": [
       "                                  Protein ID                   HL Source   \n",
       "0               2-ISOPROPYLMALATESYN-MONOMER  Clim0 (protease substrate)  \\\n",
       "1     4OHBENZOATE-OCTAPRENYLTRANSFER-MONOMER  Clim0 (protease substrate)   \n",
       "2                        ACETATEKINA-MONOMER  Clim0 (protease substrate)   \n",
       "3                   ACONITATEDEHYDRB-MONOMER  Clim0 (protease substrate)   \n",
       "4                    ACYLCOADEHYDROG-MONOMER  Clim0 (protease substrate)   \n",
       "...                                      ...                         ...   \n",
       "1907                            YRAO-MONOMER                       Clim0   \n",
       "1908                            YRBF-MONOMER                       Clim0   \n",
       "1909                            YTFQ-MONOMER                       Clim0   \n",
       "1910                            YTFR-MONOMER                       Clim0   \n",
       "1911                            ZNUA-MONOMER                       Clim0   \n",
       "\n",
       "      CLClim0NE Clim0 half life (min) gene symbol  \n",
       "0                               222.8        leuA  \n",
       "1                                76.5        ubiA  \n",
       "2                               720.0        ackA  \n",
       "3                               282.7        acnB  \n",
       "4                                86.0        fadE  \n",
       "...                               ...         ...  \n",
       "1907                            333.7        diaA  \n",
       "1908                            720.0        mlaF  \n",
       "1909                            718.3        ytfQ  \n",
       "1910                            640.3        ytfR  \n",
       "1911                            332.7        znuA  \n",
       "\n",
       "[1906 rows x 4 columns]"
      ],
      "text/html": [
       "<div>\n",
       "<style scoped>\n",
       "    .dataframe tbody tr th:only-of-type {\n",
       "        vertical-align: middle;\n",
       "    }\n",
       "\n",
       "    .dataframe tbody tr th {\n",
       "        vertical-align: top;\n",
       "    }\n",
       "\n",
       "    .dataframe thead th {\n",
       "        text-align: right;\n",
       "    }\n",
       "</style>\n",
       "<table border=\"1\" class=\"dataframe\">\n",
       "  <thead>\n",
       "    <tr style=\"text-align: right;\">\n",
       "      <th></th>\n",
       "      <th>Protein ID</th>\n",
       "      <th>HL Source</th>\n",
       "      <th>CLClim0NE Clim0 half life (min)</th>\n",
       "      <th>gene symbol</th>\n",
       "    </tr>\n",
       "  </thead>\n",
       "  <tbody>\n",
       "    <tr>\n",
       "      <th>0</th>\n",
       "      <td>2-ISOPROPYLMALATESYN-MONOMER</td>\n",
       "      <td>Clim0 (protease substrate)</td>\n",
       "      <td>222.8</td>\n",
       "      <td>leuA</td>\n",
       "    </tr>\n",
       "    <tr>\n",
       "      <th>1</th>\n",
       "      <td>4OHBENZOATE-OCTAPRENYLTRANSFER-MONOMER</td>\n",
       "      <td>Clim0 (protease substrate)</td>\n",
       "      <td>76.5</td>\n",
       "      <td>ubiA</td>\n",
       "    </tr>\n",
       "    <tr>\n",
       "      <th>2</th>\n",
       "      <td>ACETATEKINA-MONOMER</td>\n",
       "      <td>Clim0 (protease substrate)</td>\n",
       "      <td>720.0</td>\n",
       "      <td>ackA</td>\n",
       "    </tr>\n",
       "    <tr>\n",
       "      <th>3</th>\n",
       "      <td>ACONITATEDEHYDRB-MONOMER</td>\n",
       "      <td>Clim0 (protease substrate)</td>\n",
       "      <td>282.7</td>\n",
       "      <td>acnB</td>\n",
       "    </tr>\n",
       "    <tr>\n",
       "      <th>4</th>\n",
       "      <td>ACYLCOADEHYDROG-MONOMER</td>\n",
       "      <td>Clim0 (protease substrate)</td>\n",
       "      <td>86.0</td>\n",
       "      <td>fadE</td>\n",
       "    </tr>\n",
       "    <tr>\n",
       "      <th>...</th>\n",
       "      <td>...</td>\n",
       "      <td>...</td>\n",
       "      <td>...</td>\n",
       "      <td>...</td>\n",
       "    </tr>\n",
       "    <tr>\n",
       "      <th>1907</th>\n",
       "      <td>YRAO-MONOMER</td>\n",
       "      <td>Clim0</td>\n",
       "      <td>333.7</td>\n",
       "      <td>diaA</td>\n",
       "    </tr>\n",
       "    <tr>\n",
       "      <th>1908</th>\n",
       "      <td>YRBF-MONOMER</td>\n",
       "      <td>Clim0</td>\n",
       "      <td>720.0</td>\n",
       "      <td>mlaF</td>\n",
       "    </tr>\n",
       "    <tr>\n",
       "      <th>1909</th>\n",
       "      <td>YTFQ-MONOMER</td>\n",
       "      <td>Clim0</td>\n",
       "      <td>718.3</td>\n",
       "      <td>ytfQ</td>\n",
       "    </tr>\n",
       "    <tr>\n",
       "      <th>1910</th>\n",
       "      <td>YTFR-MONOMER</td>\n",
       "      <td>Clim0</td>\n",
       "      <td>640.3</td>\n",
       "      <td>ytfR</td>\n",
       "    </tr>\n",
       "    <tr>\n",
       "      <th>1911</th>\n",
       "      <td>ZNUA-MONOMER</td>\n",
       "      <td>Clim0</td>\n",
       "      <td>332.7</td>\n",
       "      <td>znuA</td>\n",
       "    </tr>\n",
       "  </tbody>\n",
       "</table>\n",
       "<p>1906 rows × 4 columns</p>\n",
       "</div>"
      ]
     },
     "execution_count": 21,
     "metadata": {},
     "output_type": "execute_result"
    }
   ],
   "execution_count": 21
  },
  {
   "metadata": {
    "ExecuteTime": {
     "end_time": "2024-10-01T07:47:50.381300Z",
     "start_time": "2024-10-01T07:47:50.377654Z"
    }
   },
   "cell_type": "code",
   "source": [
    "# third, order the dataframe, then resplit the data \n",
    "\n",
    "# once again, split the dataframe: \n",
    "ordered_df = df_10hrs.sort_values(by=\"CLClim0NE Clim0 half life (min)\", ascending=True)\n",
    "\n",
    "# filter ordered DataFrame by HL Source using .loc[] method instead:\n",
    "ordered_Clim_df = ordered_df.loc[ordered_df['HL Source'] == Clim_name]\n",
    "ordered_Clim_PS_df = ordered_df.loc[ordered_df['HL Source'] == Clim_name + \" (protease substrate)\"]"
   ],
   "id": "e5fcda008e717fbf",
   "outputs": [],
   "execution_count": 22
  },
  {
   "metadata": {
    "ExecuteTime": {
     "end_time": "2024-10-01T07:47:50.550881Z",
     "start_time": "2024-10-01T07:47:50.382038Z"
    }
   },
   "cell_type": "code",
   "source": [
    "# third, generate the graph\n",
    "fig = go.Figure()\n",
    "\n",
    "# generate the figure in the background first:\n",
    "fig = px.scatter(ordered_df, x=ordered_df[\"Protein ID\"], y=ordered_df[\"CLClim0NE Clim0 half life (min)\"])\n",
    "fig.update_traces(marker_size=.5, opacity=.1)\n",
    "\n",
    "# add a second y-axis with the hour listed on it \n",
    "# fig.add_trace(go.Scatter(x=ordered_df['Protein ID'], y=(ordered_df['CLClim0NE Clim0 half life (min)']/60), mode='markers', marker_size=.01, opacity=.01, yaxis=\"y2\", marker=dict(color=\"lightseagreen\")))\n",
    "# fig.update_layout(yaxis2=dict(title='Clim half life (hrs)', overlaying='y', side='right'))    \n",
    "\n",
    "# overlay the individual rates\n",
    "fig.add_trace(go.Scatter(x=(ordered_Clim_df['Protein ID']), y=(ordered_Clim_df[\"CLClim0NE Clim0 half life (min)\"]), mode='markers', name=(Clim_name + ', '+ (str(np.shape(ordered_Clim_df['Protein ID'])[0]))), hovertext=ordered_Clim_df['gene symbol'], marker_size=3, marker=dict(color=\"lightseagreen\"), yaxis=\"y1\"))\n",
    "fig.add_trace(go.Scatter(x=(ordered_Clim_PS_df['Protein ID']), y=(ordered_Clim_PS_df[\"CLClim0NE Clim0 half life (min)\"]), mode='markers', name=(Clim_name + ' (protease substrates), ' + (str(np.shape(ordered_Clim_PS_df['Protein ID'])[0]))), hovertext=ordered_Clim_PS_df['gene symbol'], marker_size=5, marker=dict(color=\"orange\", symbol='star'), yaxis=\"y1\"))\n",
    "\n",
    "# Plot Specs\n",
    "fig.update_layout(title=f'The C-limited (Clim) half life values for the {str(np.shape(df_10hrs)[0])} proteins in the ' + current_sequence + ' PDR combo<br> that were assinged to a half life of 10 hours in the 2020 model (CLNE)', xaxis_title='Protein ID', yaxis_title='Clim Half Life (min)')\n",
    "fig.update_xaxes(visible=False)\n",
    "fig.update_layout(autosize=False, width=1200, height=700, showlegend=True)\n",
    "fig.update_layout(legend_title_text='Half Life Source')\n",
    "\n",
    "# wont open in pycharm, so save as a html:\n",
    "out_pth = \"~/wcEcoli/out/random_plotlys/\" + current_sequence + \"_Clim0_ordered_with_protein_substrates.html\"\n",
    "out_pth = os.path.expanduser(out_pth) \n",
    "output_dir = os.path.dirname(out_pth)\n",
    "os.makedirs(output_dir, exist_ok=True)  # Create the directory if it does not exist\n",
    "fig.write_html(out_pth, auto_open=True) # displays the figure on a default web brouser \n"
   ],
   "id": "a10dc162a5850621",
   "outputs": [],
   "execution_count": 23
  },
  {
   "metadata": {},
   "cell_type": "code",
   "outputs": [],
   "execution_count": null,
   "source": "",
   "id": "5af30ab4871a8c02"
  },
  {
   "metadata": {},
   "cell_type": "markdown",
   "source": "# for proposal: ",
   "id": "68523ddf47f59ed1"
  },
  {
   "metadata": {},
   "cell_type": "markdown",
   "source": "10 hours",
   "id": "7aedc52bb9a9b4e6"
  },
  {
   "metadata": {
    "ExecuteTime": {
     "end_time": "2024-10-01T16:08:07.753547Z",
     "start_time": "2024-10-01T16:08:07.606467Z"
    }
   },
   "cell_type": "code",
   "source": [
    "# third, generate the graph\n",
    "fig = go.Figure()\n",
    "\n",
    "# generate the figure in the background first:\n",
    "fig = px.scatter(ordered_df, x=ordered_df[\"Protein ID\"], y=ordered_df[\"CLClim0NE Clim0 half life (min)\"])\n",
    "fig.update_traces(marker_size=.5, opacity=.1)    \n",
    "\n",
    "# overlay the individual rates\n",
    "fig.add_trace(go.Scatter(x=(ordered_Clim_df['Protein ID']), y=(ordered_Clim_df[\"CLClim0NE Clim0 half life (min)\"]), mode='markers', name=(Clim_name + ', '+ (str(np.shape(ordered_Clim_df['Protein ID'])[0]))), hovertext=ordered_Clim_df['gene symbol'], marker_size=3, marker=dict(color=\"lightseagreen\", size=3, opacity=.6), yaxis=\"y1\"))\n",
    "fig.add_trace(go.Scatter(x=(ordered_Clim_PS_df['Protein ID']), y=(ordered_Clim_PS_df[\"CLClim0NE Clim0 half life (min)\"]), mode='markers', name=(Clim_name + ' (protease substrates), ' + (str(np.shape(ordered_Clim_PS_df['Protein ID'])[0]))), hovertext=ordered_Clim_PS_df['gene symbol'], marker_size=3, marker=dict(color=\"orange\", size=3, opacity=.6), yaxis=\"y1\"))\n",
    "\n",
    "# add a line at 600 minutes: \n",
    "#fig.add_shape(type=\"line\", x0=0, x1=1653, y0=600, y1=600, line=dict(color=\"black\", width=.5,))\n",
    "\n",
    "# Plot Specs\n",
    "fig.update_layout(title=dict(text=f'The C-limited (Clim) half life values for the New WCM proteins assigned to Clim <br> half-lives that were assinged to a half-life of 10 hours in the original model ', font=dict(size=15)), xaxis_title='Protein ID', yaxis_title='Clim Half Life (min)')\n",
    "fig.update_xaxes(visible=False)\n",
    "fig.update_layout(autosize=False, width=700, height=600, showlegend=False)\n",
    "\n",
    "# wont open in pycharm, so save as a html:\n",
    "out_pth = \"~/wcEcoli/out/random_plotlys/\" + current_sequence + \"_Clim0_ordered_with_protein_substrates_proposal.html\"\n",
    "out_pth = os.path.expanduser(out_pth) \n",
    "output_dir = os.path.dirname(out_pth)\n",
    "os.makedirs(output_dir, exist_ok=True)  # Create the directory if it does not exist\n",
    "fig.write_html(out_pth, auto_open=True) # displays the figure on a default web brouser \n"
   ],
   "id": "41cd405a9cd85729",
   "outputs": [],
   "execution_count": 40
  },
  {
   "metadata": {},
   "cell_type": "markdown",
   "source": "2 mins",
   "id": "5e6af8f71b1fe4f"
  },
  {
   "metadata": {
    "ExecuteTime": {
     "end_time": "2024-10-01T16:10:59.963629Z",
     "start_time": "2024-10-01T16:10:59.932568Z"
    }
   },
   "cell_type": "code",
   "source": [
    "# make a new data frame with all proteins that have a half life of greater than 10 mins in the NE half life (min) column \n",
    "df_2mins = df[df['CLNE NE half life (min)'] < 10].copy()\n",
    "monomer_ids_2mins = df_2mins['Protein ID'] # todo: do I need this??\n",
    "df_2mins['gene symbol'] = df_2mins['Protein ID'].apply(lambda x: get_gene_symbols_for_monomer_ids()[x])\n",
    "df_2mins = df_2mins.drop(columns=[\"CLNE NE rate constant (s^1)\", \"CLNE NE half life (min)\", \"CLClim0NE Clim0 rate constant (s^1)\"])\n",
    "df_2mins"
   ],
   "id": "9588aefab038ee11",
   "outputs": [
    {
     "data": {
      "text/plain": [
       "                Protein ID                   HL Source   \n",
       "69         EG10765-MONOMER  Clim0 (protease substrate)  \\\n",
       "216   ISOCIT-LYASE-MONOMER  Clim0 (protease substrate)   \n",
       "540        EG10506-MONOMER                       Clim0   \n",
       "1658  OROPRIBTRANS-MONOMER                       Clim0   \n",
       "1709   PGPPHOSPHAB-MONOMER                       Clim0   \n",
       "1732     PPENTOMUT-MONOMER                       Clim0   \n",
       "\n",
       "      CLClim0NE Clim0 half life (min) gene symbol  \n",
       "69                              221.1        priC  \n",
       "216                             287.0        aceA  \n",
       "540                             333.3        infC  \n",
       "1658                            318.6        pyrE  \n",
       "1709                            720.0        pgpB  \n",
       "1732                            280.7        deoB  "
      ],
      "text/html": [
       "<div>\n",
       "<style scoped>\n",
       "    .dataframe tbody tr th:only-of-type {\n",
       "        vertical-align: middle;\n",
       "    }\n",
       "\n",
       "    .dataframe tbody tr th {\n",
       "        vertical-align: top;\n",
       "    }\n",
       "\n",
       "    .dataframe thead th {\n",
       "        text-align: right;\n",
       "    }\n",
       "</style>\n",
       "<table border=\"1\" class=\"dataframe\">\n",
       "  <thead>\n",
       "    <tr style=\"text-align: right;\">\n",
       "      <th></th>\n",
       "      <th>Protein ID</th>\n",
       "      <th>HL Source</th>\n",
       "      <th>CLClim0NE Clim0 half life (min)</th>\n",
       "      <th>gene symbol</th>\n",
       "    </tr>\n",
       "  </thead>\n",
       "  <tbody>\n",
       "    <tr>\n",
       "      <th>69</th>\n",
       "      <td>EG10765-MONOMER</td>\n",
       "      <td>Clim0 (protease substrate)</td>\n",
       "      <td>221.1</td>\n",
       "      <td>priC</td>\n",
       "    </tr>\n",
       "    <tr>\n",
       "      <th>216</th>\n",
       "      <td>ISOCIT-LYASE-MONOMER</td>\n",
       "      <td>Clim0 (protease substrate)</td>\n",
       "      <td>287.0</td>\n",
       "      <td>aceA</td>\n",
       "    </tr>\n",
       "    <tr>\n",
       "      <th>540</th>\n",
       "      <td>EG10506-MONOMER</td>\n",
       "      <td>Clim0</td>\n",
       "      <td>333.3</td>\n",
       "      <td>infC</td>\n",
       "    </tr>\n",
       "    <tr>\n",
       "      <th>1658</th>\n",
       "      <td>OROPRIBTRANS-MONOMER</td>\n",
       "      <td>Clim0</td>\n",
       "      <td>318.6</td>\n",
       "      <td>pyrE</td>\n",
       "    </tr>\n",
       "    <tr>\n",
       "      <th>1709</th>\n",
       "      <td>PGPPHOSPHAB-MONOMER</td>\n",
       "      <td>Clim0</td>\n",
       "      <td>720.0</td>\n",
       "      <td>pgpB</td>\n",
       "    </tr>\n",
       "    <tr>\n",
       "      <th>1732</th>\n",
       "      <td>PPENTOMUT-MONOMER</td>\n",
       "      <td>Clim0</td>\n",
       "      <td>280.7</td>\n",
       "      <td>deoB</td>\n",
       "    </tr>\n",
       "  </tbody>\n",
       "</table>\n",
       "</div>"
      ]
     },
     "execution_count": 41,
     "metadata": {},
     "output_type": "execute_result"
    }
   ],
   "execution_count": 41
  },
  {
   "metadata": {
    "ExecuteTime": {
     "end_time": "2024-10-01T16:12:00.396235Z",
     "start_time": "2024-10-01T16:12:00.393302Z"
    }
   },
   "cell_type": "code",
   "source": [
    "# third, order the dataframe, then resplit the data \n",
    "\n",
    "# once again, split the dataframe: \n",
    "ordered_2min_df = df_2mins.sort_values(by=\"CLClim0NE Clim0 half life (min)\", ascending=True)\n",
    "\n",
    "# filter ordered DataFrame by HL Source using .loc[] method instead:\n",
    "ordered_Clim_2min_df = ordered_2min_df.loc[ordered_2min_df['HL Source'] == Clim_name]\n",
    "ordered_Clim_2min_PS_df = ordered_2min_df.loc[ordered_2min_df['HL Source'] == Clim_name + \" (protease substrate)\"]"
   ],
   "id": "bad4412ae66698b1",
   "outputs": [],
   "execution_count": 42
  },
  {
   "metadata": {
    "ExecuteTime": {
     "end_time": "2024-10-01T16:14:11.263922Z",
     "start_time": "2024-10-01T16:14:11.097875Z"
    }
   },
   "cell_type": "code",
   "source": [
    "# third, generate the graph\n",
    "fig = go.Figure()\n",
    "\n",
    "# generate the figure in the background first:\n",
    "fig = px.scatter(ordered_2min_df, x=ordered_2min_df[\"Protein ID\"], y=ordered_2min_df[\"CLClim0NE Clim0 half life (min)\"])\n",
    "fig.update_traces(marker_size=.5, opacity=.1)    \n",
    "\n",
    "# overlay the individual rates\n",
    "fig.add_trace(go.Scatter(x=(ordered_Clim_2min_df['Protein ID']), y=(ordered_Clim_2min_df[\"CLClim0NE Clim0 half life (min)\"]), mode='markers', name=(Clim_name + ', '+ (str(np.shape(ordered_Clim_2min_df['Protein ID'])[0]))), hovertext=ordered_Clim_2min_df['gene symbol'], marker_size=8, marker=dict(color=\"lightseagreen\", size=3, opacity=.6), yaxis=\"y1\"))\n",
    "fig.add_trace(go.Scatter(x=(ordered_Clim_2min_PS_df['Protein ID']), y=(ordered_Clim_2min_PS_df[\"CLClim0NE Clim0 half life (min)\"]), mode='markers', name=(Clim_name + ' (protease substrates), ' + (str(np.shape(ordered_Clim_2min_PS_df['Protein ID'])[0]))), hovertext=ordered_Clim_2min_PS_df['gene symbol'], marker_size=8, marker=dict(color=\"orange\", size=3, opacity=.6), yaxis=\"y1\"))\n",
    "\n",
    "# add a line at 600 minutes: \n",
    "#fig.add_shape(type=\"line\", x0=0, x1=1653, y0=600, y1=600, line=dict(color=\"black\", width=.5,))\n",
    "\n",
    "# Plot Specs\n",
    "fig.update_layout(title=dict(text=f'The C-limited (Clim) half life values for the New WCM proteins assigned to Clim <br> half-lives that were assinged to a half-life of 2 minutes in the original model ', font=dict(size=15)), xaxis_title='Protein ID', yaxis_title='Clim Half Life (min)')\n",
    "fig.update_xaxes(visible=False)\n",
    "fig.update_layout(autosize=False, width=700, height=600, showlegend=False)\n",
    "\n",
    "# wont open in pycharm, so save as a html:\n",
    "out_pth = \"~/wcEcoli/out/random_plotlys/\" + current_sequence + \"_Clim0_ordered_with_protein_substrates_proposal_2mins.html\"\n",
    "out_pth = os.path.expanduser(out_pth) \n",
    "output_dir = os.path.dirname(out_pth)\n",
    "os.makedirs(output_dir, exist_ok=True)  # Create the directory if it does not exist\n",
    "fig.write_html(out_pth, auto_open=True) # displays the figure on a default web brouser \n"
   ],
   "id": "5aca6fe19cda474a",
   "outputs": [],
   "execution_count": 45
  },
  {
   "metadata": {},
   "cell_type": "code",
   "outputs": [],
   "execution_count": null,
   "source": "",
   "id": "a8f1e3e3e7cd049d"
  },
  {
   "metadata": {},
   "cell_type": "code",
   "outputs": [],
   "execution_count": null,
   "source": "",
   "id": "ab401aaa32f165f1"
  },
  {
   "metadata": {},
   "cell_type": "markdown",
   "source": "## change in stability?\n",
   "id": "76e29db8309c10a0"
  },
  {
   "metadata": {
    "ExecuteTime": {
     "end_time": "2024-10-02T06:50:39.424177Z",
     "start_time": "2024-10-02T06:50:39.420118Z"
    }
   },
   "cell_type": "code",
   "source": [
    "# calculate how many of the proteins in df_10hrs are greater than 10 hours: \n",
    "more_stable_10_hrs = df_10hrs['CLClim0NE Clim0 half life (min)'].apply(lambda x: x > 600).sum()\n",
    "less_stable_10_hrs = df_10hrs['CLClim0NE Clim0 half life (min)'].apply(lambda x: x < 600).sum()\n",
    "print(f\"More stable than 10 hours: {more_stable_10_hrs}, less stable than 10 hours: {less_stable_10_hrs}\")\n",
    "\n",
    "# calculate how many of the proteins in df_2mins are greater than 2 minutes:\n",
    "more_stable_2_mins = df_2mins['CLClim0NE Clim0 half life (min)'].apply(lambda x: x > 2).sum()\n",
    "less_stable_2_mins = df_2mins['CLClim0NE Clim0 half life (min)'].apply(lambda x: x < 2).sum()\n",
    "print(f\"More stable than 2 minutes: {more_stable_2_mins}, less stable than 2 minutes: {less_stable_2_mins}\")\n",
    "\n"
   ],
   "id": "5939bbed0f4debe2",
   "outputs": [
    {
     "name": "stdout",
     "output_type": "stream",
     "text": [
      "More stable than 10 hours: 605, less stable than 10 hours: 1301\n",
      "More stable than 2 minutes: 6, less stable than 2 minutes: 0\n"
     ]
    }
   ],
   "execution_count": 49
  },
  {
   "metadata": {
    "ExecuteTime": {
     "end_time": "2024-10-02T06:55:27.757132Z",
     "start_time": "2024-10-02T06:55:27.748649Z"
    }
   },
   "cell_type": "code",
   "source": [
    "# create a new dataframe that has the protein ids and a column that says if they are more or less stable than 10 hours now\n",
    "df_10hrs['Stability'] = df_10hrs['CLClim0NE Clim0 half life (min)'].apply(lambda x: \"More Stable\" if x > 600 else \"Less Stable\")\n",
    "df_10hrs\n",
    "\n",
    "# create a new dataframe that has the protein ids and a column that says if they are more or less stable than 2 minutes now\n",
    "df_2mins['Stability'] = df_2mins['CLClim0NE Clim0 half life (min)'].apply(lambda x: \"More Stable\" if x > 2 else \"Less Stable\")\n",
    "\n",
    "# merge the two dataframes:\n",
    "df_stability = pd.concat([df_10hrs, df_2mins], ignore_index=True)\n",
    "df_stability\n",
    "\n",
    "# save the dataframe to a csv file:\n",
    "out_pth = \"~/wcEcoli/models/ecoli/analysis/local_notebooks/C_limited_PDR_analyses_with_published_paper_data/Clim_sorting_combos/Clim0_using_biorxiv_2023_data/CLClim0NE/Clim_stability_change.csv\"\n",
    "out_pth = os.path.expanduser(out_pth)\n",
    "df_stability.to_csv(out_pth, index=False)\n"
   ],
   "id": "e5979b9223b22c1b",
   "outputs": [],
   "execution_count": 54
  },
  {
   "metadata": {},
   "cell_type": "code",
   "outputs": [],
   "execution_count": null,
   "source": "",
   "id": "f3f9be246793239f"
  }
 ],
 "metadata": {
  "kernelspec": {
   "display_name": "Python 3",
   "language": "python",
   "name": "python3"
  },
  "language_info": {
   "codemirror_mode": {
    "name": "ipython",
    "version": 2
   },
   "file_extension": ".py",
   "mimetype": "text/x-python",
   "name": "python",
   "nbconvert_exporter": "python",
   "pygments_lexer": "ipython2",
   "version": "2.7.6"
  }
 },
 "nbformat": 4,
 "nbformat_minor": 5
}
