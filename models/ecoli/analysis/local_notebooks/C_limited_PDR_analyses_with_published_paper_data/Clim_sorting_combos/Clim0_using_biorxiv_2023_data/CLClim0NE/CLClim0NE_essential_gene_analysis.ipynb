{
 "cells": [
  {
   "cell_type": "code",
   "id": "initial_id",
   "metadata": {
    "collapsed": true,
    "ExecuteTime": {
     "end_time": "2024-09-30T01:27:40.443264Z",
     "start_time": "2024-09-30T01:27:40.440012Z"
    }
   },
   "source": [
    "import pandas as pd\n",
    "import numpy as np\n",
    "import matplotlib.pyplot as plt\n",
    "import seaborn as sns\n",
    "import os\n",
    "os.chdir(os.path.expanduser(\n",
    "    '~/wcEcoli/models/ecoli/analysis/local_notebooks/C_limited_PDR_analyses_with_published_paper_data/Clim_sorting_combos/Clim0_using_biorxiv_2023_data/CLClim0NE/'))\n",
    "import plotly.graph_objects as go\n",
    "import glob\n",
    "import plotly.express as px"
   ],
   "outputs": [],
   "execution_count": 7
  },
  {
   "metadata": {},
   "cell_type": "markdown",
   "source": [
    "# C-lim half life experimental data (from first Clim sort, using values from the 2023 bioRxiv preprint) \n",
    "\n",
    "The data used for Clim rates in this analysis (the first analysis of the Clim rates) comes from this preprint: https://www.biorxiv.org/content/10.1101/2022.08.01.502339v2. The paper has been published, and can be found here: Gupta, et al., 2024: https://www.nature.com/articles/s41467-024-49920-8#Sec20\n",
    "\n",
    "Specifically, this data comes from Supplementary Table 1: \"TableS1 - Half-lives for 3262 proteins across 13 growth conditions >>\", which contains the half-lives for proteins in E. coli under carbon-limited conditions. This is the data we are interested in comparing to our model predictions, as the conditions are most similar to our base case.\n",
    "\n",
    "NOTE that this data has some \"ceiling\" values it auto assigns proteins to (as defined in the published paper). In the original Clim sort done using the bioarchiv paper (which will be analyzed here), we were not aware that these were ceilinig values. Thus, they are included in this version, but will likely be removed in later Clim rate sorts for half-life value extractions. Also, any protein that did not have a value reported for any one of its doubling time replicates (six total), were also excluded from this sort (leaving roughly 1912 proteins assigned to Clim rates in this CLClimNE sort, 7 assigned to CL, and 2391 to NE).  \n",
    "\n",
    "ALSO NOTE: even though this file is in the published paper notebook folder, it is still based on the intitial bioRxiv preprint data sort. Future sorts will be done with the new published paper data.\n"
   ],
   "id": "1163b156d090e07e"
  },
  {
   "metadata": {},
   "cell_type": "markdown",
   "source": [
    "## Find essential genes in the Clim0 data\n",
    "\n",
    "Doing this by first finding the gene names for each of the monomer ids in the Clim0 data, and then comparing these to the essential genes list from the model."
   ],
   "id": "d1f687919582b328"
  },
  {
   "metadata": {
    "ExecuteTime": {
     "end_time": "2024-09-30T01:40:41.937348Z",
     "start_time": "2024-09-30T01:40:41.928408Z"
    }
   },
   "cell_type": "code",
   "source": [
    "# FUNCTIONS\n",
    "\n",
    "# get the gene IDs for each monomer IDs:\n",
    "def get_gene_ids_for_monomer_ids():\n",
    "    # code adapted from convert_to_flat.py\n",
    "    import io\n",
    "    from wholecell.io import tsv\n",
    "    from wholecell.utils.filepath import ROOT_PATH\n",
    "    RNAS_FILE = os.path.join(ROOT_PATH, 'reconstruction', 'ecoli', 'flat', 'rnas.tsv')\n",
    "    with io.open(RNAS_FILE, 'rb') as f:\n",
    "        reader = tsv.reader(f, delimiter='\\t')\n",
    "        headers = next(reader)\n",
    "        while headers[0].startswith('#'):\n",
    "            headers = next(reader)\n",
    "\n",
    "        gene_id_index = headers.index('gene_id')\n",
    "        protein_id_index = headers.index('monomer_ids')\n",
    "        monomer_ids_to_gene_ids = {}\n",
    "        for line in reader:\n",
    "            gene_id = line[gene_id_index]\n",
    "            protein_id = list(line[protein_id_index][2:-2].split('\", \"'))[0]\n",
    "            monomer_ids_to_gene_ids[protein_id] = gene_id\n",
    "\n",
    "        return monomer_ids_to_gene_ids\n",
    "    \n",
    "def get_gene_symbols_for_monomer_ids():\n",
    "    # code adapted from convert_to_flat.py\n",
    "    import io\n",
    "    from wholecell.io import tsv\n",
    "    from wholecell.utils.filepath import ROOT_PATH\n",
    "    RNAS_FILE = os.path.join(ROOT_PATH, 'reconstruction', 'ecoli', 'flat', 'rnas.tsv')\n",
    "    with io.open(RNAS_FILE, 'rb') as f:\n",
    "        reader = tsv.reader(f, delimiter='\\t')\n",
    "        headers = next(reader)\n",
    "        while headers[0].startswith('#'):\n",
    "            headers = next(reader)\n",
    "\n",
    "        gene_symbol_index = headers.index('common_name')\n",
    "        protein_id_index = headers.index('monomer_ids')\n",
    "        monomer_ids_to_gene_symbols = {}\n",
    "        for line in reader:\n",
    "            gene_symbol = line[gene_symbol_index]\n",
    "            protein_id = list(line[protein_id_index][2:-2].split('\", \"'))[0]\n",
    "            monomer_ids_to_gene_symbols[protein_id] = gene_symbol\n",
    "\n",
    "        return monomer_ids_to_gene_symbols\n",
    "    \n",
    "    \n",
    "# convert gene IDs to monomer IDs:\n",
    "def get_monomer_ids_for_gene_ids():\n",
    "    # code adapted from convert_to_flat.py\n",
    "    import io\n",
    "    from wholecell.io import tsv\n",
    "    from wholecell.utils.filepath import ROOT_PATH\n",
    "    RNAS_FILE = os.path.join(ROOT_PATH, 'reconstruction', 'ecoli', 'flat', 'rnas.tsv')\n",
    "    with io.open(RNAS_FILE, 'rb') as f:\n",
    "        reader = tsv.reader(f, delimiter='\\t')\n",
    "        headers = next(reader)\n",
    "        while headers[0].startswith('#'):\n",
    "            headers = next(reader)\n",
    "\n",
    "        gene_id_index = headers.index('gene_id')\n",
    "        protein_id_index = headers.index('monomer_ids')\n",
    "        gene_ids_to_monomer_ids = {}\n",
    "        for line in reader:\n",
    "            gene_id = line[gene_id_index]\n",
    "            protein_id = list(line[protein_id_index][2:-2].split('\", \"'))[0]\n",
    "            gene_ids_to_monomer_ids[gene_id] = protein_id\n",
    "\n",
    "        return gene_ids_to_monomer_ids\n",
    "    \n",
    "    \n",
    "# recall the genes defined as \"essential\" in the model, and return them as a list of gene names:\n",
    "def get_essential_genes():\n",
    "    # code adapted from convert_to_flat.py\n",
    "    import io\n",
    "    from wholecell.io import tsv\n",
    "    from wholecell.utils.filepath import ROOT_PATH\n",
    "    GENES_FILE = os.path.join(ROOT_PATH, 'validation', 'ecoli', 'flat', 'essential_genes.tsv')\n",
    "    with io.open(GENES_FILE, 'rb') as f:\n",
    "        reader = tsv.reader(f, delimiter='\\t')\n",
    "        headers = next(reader)\n",
    "        while headers[0].startswith('#'):\n",
    "            headers = next(reader)\n",
    "\n",
    "        gene_id_index = headers.index('FrameID')\n",
    "        essential_genes = []\n",
    "        for line in reader:\n",
    "            essential_gene = line[gene_id_index]\n",
    "            essential_genes.append(essential_gene)\n",
    "\n",
    "        return essential_genes\n",
    "    \n"
   ],
   "id": "e8c14d10e939e88",
   "outputs": [],
   "execution_count": 20
  },
  {
   "metadata": {
    "ExecuteTime": {
     "end_time": "2024-09-30T01:53:28.123293Z",
     "start_time": "2024-09-30T01:53:18.579857Z"
    }
   },
   "cell_type": "code",
   "source": [
    "# load in the Clim0 data:\n",
    "Clim0_data = pd.read_csv('Clim_rate_constants.csv')\n",
    "monomer_ids = Clim0_data['Protein ID']\n",
    "\n",
    "Clim0_essential_gene_symbols_found = []\n",
    "Clim0_essential_monomer_ids_found = []\n",
    "\n",
    "# todo: figure out how to clean up the run time speed on this function\n",
    "# find the essential genes in the Clim0 data:\n",
    "for monomer in monomer_ids:\n",
    "    # get the gene name for the monomer ID:\n",
    "    gene_id = get_gene_ids_for_monomer_ids()[monomer]\n",
    "    if gene_id in get_essential_genes():\n",
    "        Clim0_essential_gene_symbols_found.append(get_gene_symbols_for_monomer_ids()[monomer])\n",
    "        Clim0_essential_monomer_ids_found.append(monomer)\n",
    "\n",
    "print(\"Essential Genes Found in Clim0 (\" +str(len(Clim0_essential_gene_symbols_found))+\"): \", Clim0_essential_gene_symbols_found)\n",
    "\n",
    "# to free up memory:\n",
    "del Clim0_data, monomer_ids"
   ],
   "id": "ed3e0a74edcc0363",
   "outputs": [
    {
     "name": "stdout",
     "output_type": "stream",
     "text": [
      "Essential Genes Found in Clim0 (341):  ['leuA', 'ubiE', 'ubiB', 'panB', 'leuB', 'fabG', 'ubiA', 'bioF', 'argE', 'adk', 'purA', 'cysC', 'purH', 'purM', 'cysJ', 'trpE', 'argS', 'argH', 'argG', 'aroA', 'aroB', 'aroC', 'aroE', 'purB', 'asnS', 'asd', 'pyrB', 'thrA', 'metL', 'aspS', 'atpB', 'atpC', 'hisG', 'accB', 'cysI', 'accC', 'bioB', 'birA', 'ilvE', 'accA', 'accD', 'carB', 'pheA', 'tyrA', 'gltA', 'kdsB', 'pyrG', 'hisF', 'cydA', 'cydC', 'cysN', 'cysS', 'metC', 'bioA', 'lysA', 'dapA', 'folA', 'pyrC', 'pyrD', 'dapB', 'ilvD', 'ribB', 'tmk', 'dut', 'dxr', 'dxs', 'bioH', 'cca', 'lnt', 'dicA', 'dnaB', 'dnaC', 'dnaE', 'dnaN', 'era', 'ffh', 'frr', 'ftsA', 'ftsI', 'ftsY', 'ftsZ', 'fusA', 'ispG', 'grpE', 'gyrA', 'gyrB', 'infA', 'infC', 'lepB', 'ligA', 'map', 'minD', 'minE', 'groS', 'mrdA', 'mrdB', 'mreB', 'mreC', 'msbA', 'mukB', 'nusA', 'nusG', 'parE', 'prfA', 'pth', 'lptE', 'rnc', 'rne', 'rplB', 'rplC', 'rplD', 'rplE', 'rplF', 'rplJ', 'rplL', 'rplM', 'rplN', 'rplO', 'rplP', 'rplQ', 'rplR', 'rplS', 'rplT', 'rplV', 'rplW', 'rplX', 'rpmB', 'rpmD', 'rpoA', 'rpsA', 'rpsB', 'rpsC', 'rpsD', 'rpsE', 'rpsG', 'rpsH', 'rpsI', 'rpsJ', 'rpsK', 'rpsL', 'rpsM', 'rpsN', 'rpsP', 'rpsQ', 'rpsR', 'rpsS', 'ssb', 'suhB', 'topA', 'trmD', 'tsf', 'ispH', 'tsaD', 'mukE', 'fmt', 'lolB', 'ispE', 'hflD', 'ubiD', 'holA', 'waaU', 'def', 'csrA', 'ubiJ', 'ftsH', 'ftsN', 'lptD', 'degS', 'tsaE', 'mukF', 'panZ', 'bcsB', 'can', 'erpA', 'rseP', 'lpxH', 'rplU', 'rpmA', 'acpP', 'eno', 'fabI', 'pdxB', 'fabA', 'fabB', 'fabZ', 'purL', 'fldA', 'folC', 'folD', 'ispA', 'fbaA', 'ftsE', 'ftsX', 'bamA', 'tilS', 'ftsK', 'lolA', 'tsaB', 'der', 'iscS', 'bamD', 'ispD', 'yqgF', 'rsmI', 'obgE', 'mlaB', 'lptC', 'tsaC', 'orn', 'lptG', 'gapA', 'glnS', 'gltX', 'hisH', 'glnA', 'proB', 'murI', 'proA', 'gpsA', 'plsB', 'purD', 'glyA', 'glyQ', 'guaA', 'hemL', 'folE', 'ribA', 'gmk', 'hisS', 'hisI', 'hisD', 'hisC', 'acpS', 'thrB', 'hisB', 'guaB', 'ppa', 'icd', 'kdsA', 'waaA', 'ilvC', 'nadB', 'glmS', 'leuC', 'leuD', 'leuS', 'lpxB', 'ribE', 'fabD', 'metG', 'metF', 'dapE', 'dapD', 'dnaX', 'infB', 'argA', 'murG', 'nadE', 'glmU', 'nadD', 'nrdA', 'nrdB', 'metB', 'hemC', 'ispB', 'pyrE', 'pyrF', 'pabB', 'panC', 'cysH', 'lexA', 'cysB', 'dnaA', 'metR', 'pdxA', 'pdxH', 'pdxJ', 'ppc', 'pgk', 'serA', 'pheS', 'pheT', 'pssA', 'hemB', 'trpC', 'hisA', 'proS', 'hemH', 'hemG', 'purF', 'prs', 'psd', 'serB', 'serC', 'ptsI', 'purE', 'purK', 'proC', 'nadA', 'nadC', 'ribF', 'ribC', 'ribD', 'rpoB', 'rpoC', 'rpoE', 'metK', 'purC', 'secA', 'secD', 'secF', 'secY', 'cysE', 'serS', 'cysG', 'spoT', 'thiL', 'ilvA', 'thrC', 'thrS', 'thyA', 'trpS', 'trpA', 'trpB', 'tyrS', 'murC', 'murD', 'murF', 'murE', 'lpxC', 'lpxD', 'lpxA', 'murA', 'murB', 'pyrH', 'hemD', 'valS', 'lolC', 'lolE', 'lptA', 'yidC']\n"
     ]
    }
   ],
   "execution_count": 24
  },
  {
   "metadata": {
    "ExecuteTime": {
     "end_time": "2024-09-30T01:49:54.035566Z",
     "start_time": "2024-09-30T01:49:43.573676Z"
    }
   },
   "cell_type": "code",
   "source": [
    "# for my own reference, find the number of essential genes in the the NE and CL groups in CLClim0NE too: \n",
    "CL_data = pd.read_csv('CL_rate_constants.csv')\n",
    "CL_monomer_ids = CL_data['Protein ID']\n",
    "\n",
    "CL_essential_gene_symbols_found = []\n",
    "for monomer in CL_monomer_ids:\n",
    "    # get the gene name for the monomer ID:\n",
    "    gene_id = get_gene_ids_for_monomer_ids()[monomer]\n",
    "    if gene_id in get_essential_genes():\n",
    "        CL_essential_gene_symbols_found.append(get_gene_symbols_for_monomer_ids()[monomer])\n",
    "\n",
    "print(\"Essential Genes Found in CL (\" +str(len(CL_essential_gene_symbols_found))+\"): \", CL_essential_gene_symbols_found)\n",
    "\n",
    "NE_data = pd.read_csv('NE_rate_constants.csv')\n",
    "NE_monomer_ids = NE_data['Protein ID']\n",
    "\n",
    "NE_essential_gene_symbols_found = []\n",
    "for monomer in NE_monomer_ids:\n",
    "    # get the gene name for the monomer ID:\n",
    "    gene_id = get_gene_ids_for_monomer_ids()[monomer]\n",
    "    if gene_id in get_essential_genes():\n",
    "        NE_essential_gene_symbols_found.append(get_gene_symbols_for_monomer_ids()[monomer])\n",
    "        \n",
    "print(\"Essential Genes Found in NE (\" +str(len(NE_essential_gene_symbols_found))+\"): \", NE_essential_gene_symbols_found)\n",
    "\n",
    "# to free up memory:\n",
    "del CL_data, NE_data, CL_monomer_ids, NE_monomer_ids"
   ],
   "id": "9166452900b9322a",
   "outputs": [
    {
     "name": "stdout",
     "output_type": "stream",
     "text": [
      "Essential Genes Found in CL (3):  ['carA', 'cdsA', 'bioD']\n",
      "Essential Genes Found in NE (60):  ['plsC', 'trpD', 'panD', 'yagG', 'dfp', 'bioC', 'ftsQ', 'ftsW', 'lspA', 'mazE', 'mreD', 'rnpA', 'rpmC', 'rpmH', 'ftsL', 'secM', 'yihA', 'chpS', 'leuL', 'ydfB', 'tadA', 'holB', 'ispF', 'alsK', 'lapC', 'lgt', 'yhhQ', 'prmC', 'yabQ', 'yefM', 'entD', 'wzyE', 'murJ', 'yceQ', 'ymfK', 'racR', 'ydiL', 'exoX', 'zipA', 'ftsB', 'yqgD', 'mqsA', 'tdcF', 'ubiV', 'igaA', 'lptF', 'hemA', 'folK', 'metA', 'nadK', 'pabA', 'coaD', 'mraY', 'pgsA', 'rpoH', 'secE', 'lpxK', 'tnaB', 'ispU', 'lolD']\n"
     ]
    }
   ],
   "execution_count": 23
  },
  {
   "metadata": {
    "ExecuteTime": {
     "end_time": "2024-09-30T01:56:15.310516Z",
     "start_time": "2024-09-30T01:56:12.065726Z"
    }
   },
   "cell_type": "code",
   "source": [
    "# I would like to see if Lon or Clp are in this out of curiosity:\n",
    "essential_gene_symbols = []\n",
    "for gene in get_essential_genes():\n",
    "    essential_gene_symbols.append(get_gene_symbols_for_monomer_ids()[get_monomer_ids_for_gene_ids()[gene]])\n",
    "    \n",
    "print(\"Essential Genes in Model (\" +str(len(essential_gene_symbols))+\"): \", essential_gene_symbols)\n",
    "\n",
    "del essential_gene_symbols"
   ],
   "id": "11240d29d035afac",
   "outputs": [
    {
     "name": "stdout",
     "output_type": "stream",
     "text": [
      "Essential Genes in Model:  ['argG', 'bioA', 'bioB', 'bioC', 'bioD', 'bioF', 'bioH', 'ilvE', 'cysG', 'ubiE', 'exoX', 'hflD', 'argA', 'argE', 'argH', 'aroA', 'aroB', 'aroC', 'aroE', 'cysC', 'cysE', 'cysH', 'cysI', 'cysJ', 'cysN', 'glyA', 'hisA', 'hisB', 'hisC', 'hisD', 'hisF', 'hisG', 'hisH', 'hisI', 'ilvA', 'ilvC', 'ilvD', 'leuA', 'leuB', 'leuC', 'leuD', 'lysA', 'metA', 'metB', 'metC', 'metF', 'metL', 'pabA', 'pabB', 'pheA', 'proA', 'proB', 'proC', 'serA', 'serB', 'serC', 'thrA', 'thrB', 'thrC', 'trpA', 'trpB', 'trpC', 'trpD', 'trpE', 'tyrA', 'carA', 'carB', 'guaA', 'guaB', 'purA', 'purC', 'purD', 'purE', 'purF', 'purH', 'purK', 'purL', 'purM', 'pyrB', 'pyrC', 'pyrD', 'pyrE', 'pyrF', 'thyA', 'iscS', 'nadA', 'nadB', 'nadC', 'panB', 'panC', 'panD', 'pdxA', 'pdxB', 'pdxH', 'pdxJ', 'cysB', 'leuL', 'metR', 'ptsI', 'atpB', 'atpC', 'glnA', 'gltA', 'icd', 'ppc', 'panZ', 'ribF', 'lspA', 'ispH', 'dapB', 'folA', 'lptD', 'yabQ', 'ftsL', 'ftsI', 'murE', 'murF', 'mraY', 'murD', 'ftsW', 'murG', 'murC', 'ftsQ', 'ftsA', 'ftsZ', 'lpxC', 'secM', 'secA', 'can', 'folK', 'hemL', 'erpA', 'dapD', 'map', 'rpsB', 'tsf', 'pyrH', 'frr', 'dxr', 'ispU', 'cdsA', 'rseP', 'bamA', 'lpxD', 'fabZ', 'lpxA', 'lpxB', 'dnaE', 'accA', 'tilS', 'proS', 'yafF', 'yagG', 'hemB', 'secD', 'secF', 'ribD', 'ribE', 'thiL', 'dxs', 'ispA', 'dnaX', 'adk', 'hemH', 'lpxH', 'cysS', 'folD', 'entD', 'mrdB', 'mrdA', 'nadD', 'holA', 'lptE', 'leuS', 'lnt', 'glnS', 'fldA', 'cydA', 'infA', 'cydC', 'ftsK', 'lolA', 'serS', 'rpsA', 'msbA', 'lpxK', 'kdsB', 'mukF', 'mukE', 'mukB', 'asnS', 'fabA', 'murJ', 'rne', 'yceQ', 'fabD', 'fabG', 'acpP', 'tmk', 'holB', 'lolC', 'lolD', 'lolE', 'purB', 'ymfK', 'minE', 'minD', 'pth', 'prs', 'ispE', 'lolB', 'hemA', 'prfA', 'prmC', 'kdsA', 'topA', 'ribA', 'fabI', 'racR', 'dicA', 'ydfB', 'tyrS', 'ribC', 'ydiL', 'pheT', 'pheS', 'rplT', 'infC', 'thrS', 'nadE', 'gapA', 'tsaB', 'aspS', 'argS', 'pgsA', 'yefM', 'metG', 'folE', 'lapC', 'gyrA', 'nrdA', 'nrdB', 'folC', 'accD', 'fabB', 'gltX', 'ligA', 'zipA', 'dapE', 'dapA', 'der', 'hisS', 'ispG', 'suhB', 'tadA', 'acpS', 'era', 'rnc', 'lepB', 'rpoE', 'pssA', 'bamD', 'rplS', 'trmD', 'rpsP', 'ffh', 'grpE', 'nadK', 'csrA', 'ispF', 'ispD', 'ftsB', 'eno', 'pyrG', 'mazE', 'lgt', 'fbaA', 'pgk', 'yqgD', 'metK', 'yqgF', 'plsC', 'mqsA', 'parE', 'ribB', 'cca', 'tsaD', 'tdcF', 'rsmI', 'ubiV', 'infB', 'nusA', 'ftsH', 'obgE', 'rpmA', 'rplU', 'ispB', 'murA', 'mlaB', 'lptC', 'lptA', 'rpsI', 'rplM', 'degS', 'mreD', 'mreC', 'mreB', 'accB', 'accC', 'tsaC', 'def', 'fmt', 'rplQ', 'rpoA', 'rpsD', 'rpsK', 'rpsM', 'secY', 'rplO', 'rpmD', 'rpsE', 'rplR', 'rplF', 'rpsH', 'rpsN', 'rplE', 'rplX', 'rplN', 'rpsQ', 'rpmC', 'rplP', 'rpsC', 'rplV', 'rpsS', 'rplB', 'rplW', 'rplD', 'rplC', 'rpsJ', 'fusA', 'rpsG', 'rpsL', 'trpS', 'igaA', 'asd', 'rpoH', 'ftsX', 'ftsE', 'ftsY', 'yhhQ', 'bcsB', 'glyQ', 'yibJ', 'gpsA', 'waaU', 'waaA', 'coaD', 'rpmB', 'dfp', 'dut', 'gmk', 'spoT', 'gyrB', 'dnaN', 'dnaA', 'rpmH', 'rnpA', 'yidC', 'tnaB', 'glmS', 'glmU', 'wzyE', 'hemD', 'hemC', 'ubiJ', 'ubiB', 'ubiD', 'hemG', 'yihA', 'ftsN', 'murI', 'murB', 'birA', 'secE', 'nusG', 'rplJ', 'rplL', 'rpoB', 'rpoC', 'ubiA', 'plsB', 'lexA', 'dnaB', 'ssb', 'alsK', 'groS', 'psd', 'orn', 'tsaE', 'rpsR', 'chpS', 'ppa', 'valS', 'lptF', 'lptG', 'dnaC']\n"
     ]
    }
   ],
   "execution_count": 26
  },
  {
   "metadata": {},
   "cell_type": "markdown",
   "source": [
    "# Determining which proteins are assigned to a protease (according to Gupta et al., 2024) and are essential in the CLClim0NE sorted model\n",
    "\n",
    "This data is from a rendition of supplementary table #2 in the published paper (\"TableS2 - Assignment of protein substrates to proteases >>\"). This table contains the proteins that are assigned to each of the proteases in the proteins they measured in the paper. This supplementary table has been adapted for use in this analysis, so the full detail about each data column is not included here (but can be found in the original paper). \n"
   ],
   "id": "8532e6a4735afadc"
  },
  {
   "metadata": {
    "ExecuteTime": {
     "end_time": "2024-09-30T02:23:48.773535Z",
     "start_time": "2024-09-30T02:23:45.062855Z"
    }
   },
   "cell_type": "code",
   "source": [
    "# load in the protease-substrate assignment datatable: \n",
    "protease_data = pd.read_excel('~/wcEcoli/models/ecoli/analysis/local_notebooks/C_limited_PDR_analyses_with_published_paper_data/supplementary_data/Gupta_et_al_2024_ST2_protease_assignment_data.xlsx')\n",
    "\n",
    "# determine if any of the proteins assigned to a protease are considered an essential gene in the model: \n",
    "essential_substrate_gene_symbols = []\n",
    "for gene in get_essential_genes():\n",
    "    if get_gene_symbols_for_monomer_ids()[get_monomer_ids_for_gene_ids()[gene]] in protease_data['Gene name'].values:\n",
    "        essential_substrate_gene_symbols.append(get_gene_symbols_for_monomer_ids()[get_monomer_ids_for_gene_ids()[gene]])\n",
    "        \n",
    "print(\"There are \" + str(len(protease_data['Gene name'].values)) + \" proteins assigned to a protease in the Gupta et al., 2024 data.\")\n",
    "print(\"Essential Genes in Model that are Assigned to a Protease (\" +str(len(essential_substrate_gene_symbols))+\"): \", essential_substrate_gene_symbols)"
   ],
   "id": "faebdfb5417e69ce",
   "outputs": [
    {
     "name": "stdout",
     "output_type": "stream",
     "text": [
      "There are 308 proteins assigned to a protease in the Gupta et al., 2024 data.\n",
      "Essential Genes in Model that are Assigned to a Protease (57):  ['bioB', 'ilvE', 'argA', 'aroE', 'cysH', 'cysI', 'cysJ', 'cysN', 'leuA', 'leuC', 'leuD', 'lysA', 'thrA', 'trpB', 'tyrA', 'iscS', 'nadA', 'nadB', 'metR', 'ispH', 'ftsI', 'ftsQ', 'ftsZ', 'lpxC', 'erpA', 'frr', 'dxr', 'ispU', 'dnaE', 'thiL', 'dnaX', 'ftsK', 'rpsA', 'mukB', 'acpP', 'minE', 'hemA', 'folE', 'ligA', 'dapA', 'ispG', 'era', 'ffh', 'metK', 'parE', 'ribB', 'obgE', 'def', 'rplX', 'dnaA', 'birA', 'rpoB', 'rpoC', 'ubiA', 'lexA', 'dnaB', 'dnaC']\n"
     ]
    }
   ],
   "execution_count": 36
  },
  {
   "metadata": {
    "ExecuteTime": {
     "end_time": "2024-09-30T02:20:28.772886Z",
     "start_time": "2024-09-30T02:20:11.461779Z"
    }
   },
   "cell_type": "code",
   "source": [
    "# determine which proteins are assigned to proteases in the Clim0 data (does not matter if they are essential or not):\n",
    "Clim0_data = pd.read_csv('Clim_rate_constants.csv')\n",
    "monomer_ids = Clim0_data['Protein ID']\n",
    "\n",
    "Clim0_protease_substrate_gene_symbols = []\n",
    "Clim0_protease_substrate_monomer_ids = []\n",
    "for monomer in monomer_ids:\n",
    "    # get the gene symbol for the monomer ID:\n",
    "    gene_symbol = get_gene_symbols_for_monomer_ids()[monomer]\n",
    "    if gene_symbol in protease_data['Gene name'].values:\n",
    "        Clim0_protease_substrate_gene_symbols.append(gene_symbol)\n",
    "        Clim0_protease_substrate_monomer_ids.append(monomer)\n",
    "        \n",
    "print(\"Total Protease Substrates in Clim0 (\" +str(len(Clim0_protease_substrate_gene_symbols))+\"): \", Clim0_protease_substrate_gene_symbols)\n",
    "\n",
    "# to free up memory:\n",
    "del Clim0_data, monomer_ids\n",
    "\n",
    "# repeat for CL\n",
    "CL_data = pd.read_csv('CL_rate_constants.csv')\n",
    "CL_monomer_ids = CL_data['Protein ID']\n",
    "\n",
    "CL_protease_substrate_gene_symbols = []\n",
    "CL_protease_substrate_monomer_ids = []\n",
    "for monomer in CL_monomer_ids:\n",
    "    # get the gene symbol for the monomer ID:\n",
    "    gene_symbol = get_gene_symbols_for_monomer_ids()[monomer]\n",
    "    if gene_symbol in protease_data['Gene name'].values:\n",
    "        CL_protease_substrate_gene_symbols.append(gene_symbol)\n",
    "        CL_protease_substrate_monomer_ids.append(monomer)\n",
    "        \n",
    "print(\"Total Protease Substrates in CL (\" +str(len(CL_protease_substrate_gene_symbols))+\"): \", CL_protease_substrate_gene_symbols)\n",
    "\n",
    "# to free up memory:\n",
    "del CL_data, CL_monomer_ids\n",
    "\n",
    "NE_data = pd.read_csv('NE_rate_constants.csv')\n",
    "NE_monomer_ids = NE_data['Protein ID']\n",
    "\n",
    "NE_protease_substrate_gene_symbols = []\n",
    "NE_protease_substrate_monomer_ids = []\n",
    "for monomer in NE_monomer_ids:\n",
    "    # get the gene symbol for the monomer ID:\n",
    "    gene_symbol = get_gene_symbols_for_monomer_ids()[monomer]\n",
    "    if gene_symbol in protease_data['Gene name'].values:\n",
    "        NE_protease_substrate_gene_symbols.append(gene_symbol)\n",
    "        NE_protease_substrate_monomer_ids.append(monomer)\n",
    "        \n",
    "print(\"Total Protease Substrates in NE (\" +str(len(NE_protease_substrate_gene_symbols))+\"): \", NE_protease_substrate_gene_symbols)\n",
    "\n",
    "# to free up memory:\n",
    "del NE_data, NE_monomer_ids\n",
    "\n",
    "# note that for CLClim0NE, the breakdown appears to be as follows: Clim0 (273), CL (0), NE (25). There are 308 proteins assigned to proteases in the Gupta et al., 2024 data, and 298 of these appear in the whole cell model."
   ],
   "id": "89c7426cfa00e725",
   "outputs": [
    {
     "name": "stdout",
     "output_type": "stream",
     "text": [
      "Total Protease Substrates in Clim0 (273):  ['leuA', 'ubiA', 'ackA', 'acnB', 'fadE', 'glpD', 'cysJ', 'uxaA', 'astA', 'aroD', 'aroE', 'aroG', 'aroK', 'aroL', 'asnA', 'aspA', 'thrA', 'cysI', 'bioB', 'birA', 'ilvE', 'chbB', 'cfa', 'tyrA', 'ubiC', 'cycA', 'cysD', 'cysN', 'dadA', 'lysA', 'dapA', 'nfsB', 'ribB', 'cobT', 'dxr', 'yaaA', 'bisC', 'clpA', 'clpX', 'dedA', 'dedD', 'dksA', 'dnaB', 'dnaC', 'dnaE', 'dnaK', 'dnaQ', 'era', 'ffh', 'frr', 'ftsI', 'ftsZ', 'ispG', 'mnmG', 'greA', 'helD', 'hflX', 'hmp', 'hsdM', 'hypE', 'ligA', 'mazG', 'minE', 'mukB', 'mutS', 'nfo', 'parC', 'parE', 'pcnB', 'priC', 'pspA', 'recA', 'recD', 'recF', 'recJ', 'rhlB', 'rplX', 'rpsA', 'ruvC', 'sbcC', 'selD', 'prlF', 'srmB', 'tonB', 'topB', 'uvrB', 'uvrD', 'ispH', 'sbcD', 'ybaB', 'relE', 'yebC', 'yecA', 'uvrY', 'yibA', 'yidA', 'mioC', 'ybhA', 'rlmD', 'mazF', 'radA', 'rng', 'lipA', 'dinG', 'ahpC', 'ahpF', 'ychF', 'yjgA', 'dps', 'def', 'yigI', 'ycgB', 'ibpA', 'greB', 'grcA', 'yihD', 'yihI', 'yiiQ', 'rsuA', 'radD', 'ccmH', 'ydcF', 'hscA', 'hscB', 'iscA', 'cspE', 'cspC', 'bcsG', 'yiaU', 'ycfH', 'yfhH', 'hrpB', 'erpA', 'ppiC', 'rlmN', 'iaaA', 'ydiF', 'rarA', 'nudL', 'proQ', 'ybcJ', 'acpP', 'fbp', 'fadB', 'fucI', 'intF', 'prpR', 'rnk', 'ybeZ', 'miaB', 'ybgI', 'clsB', 'ybiU', 'ybjI', 'ftsK', 'ycaR', 'comR', 'rluE', 'mpaA', 'ydbK', 'azoR', 'ydcI', 'dosP', 'ydeP', 'sad', 'ydfZ', 'ynfC', 'nemA', 'ydhQ', 'ydhS', 'sufS', 'sufD', 'sufB', 'yeaH', 'yegU', 'yegW', 'yfaY', 'arnA', 'arnD', 'elaA', 'alaA', 'yfcL', 'sixA', 'yfcZ', 'alaC', 'murQ', 'ypfH', 'bepA', 'iscU', 'iscS', 'iscR', 'kbp', 'ygaP', 'csdA', 'guaD', 'yggX', 'patA', 'obgE', 'nanR', 'yheO', 'yhgF', 'nfuA', 'tatB', 'epmB', 'fklB', 'tabA', 'yjjU', 'gabT', 'gcvT', 'gdhA', 'garK', 'glnD', 'gph', 'folE', 'folX', 'metH', 'aceA', 'nadB', 'lldD', 'ilvB', 'leuC', 'leuD', 'sdaA', 'dkgB', 'dnaX', 'argA', 'amiB', 'narP', 'cysH', 'fnr', 'lexA', 'oxyR', 'fhlA', 'exuR', 'dnaA', 'metR', 'ppx', 'putA', 'pflB', 'nadA', 'trxC', 'nrdD', 'rpoB', 'rpoC', 'rpoD', 'rpoS', 'metK', 'secG', 'astB', 'astD', 'astE', 'astC', 'thiL', 'thiC', 'thiE', 'thiF', 'thiG', 'thiH', 'trxB', 'thiM', 'tktA', 'otsA', 'trpB', 'lpxC', 'wecB', 'ugd', 'uhpA', 'hemE', 'avtA', 'yheS', 'zntA', 'gsiA', 'znuC']\n",
      "Total Protease Substrates in CL (0):  []\n",
      "Total Protease Substrates in NE (25):  ['cyaA', 'adhP', 'bolA', 'flk', 'ftsQ', 'phnO', 'tag', 'yacC', 'gadE', 'phoH', 'intA', 'dctR', 'mqo', 'chaB', 'ybjX', 'rutA', 'abgA', 'yoaC', 'ibaG', 'hemA', 'mdlB', 'yaeP', 'narW', 'treF', 'ispU']\n"
     ]
    }
   ],
   "execution_count": 35
  },
  {
   "metadata": {},
   "cell_type": "code",
   "outputs": [
    {
     "name": "stdout",
     "output_type": "stream",
     "text": [
      "Essential Genes in Clim0 that are assigned to a protease (54):  ['leuA', 'ubiA', 'cysJ', 'aroE', 'thrA', 'cysI', 'bioB', 'birA', 'ilvE', 'tyrA', 'cysN', 'lysA', 'dapA', 'ribB', 'dxr', 'dnaB', 'dnaC', 'dnaE', 'era', 'ffh', 'frr', 'ftsI', 'ftsZ', 'ispG', 'ligA', 'minE', 'mukB', 'parE', 'rplX', 'rpsA', 'ispH', 'def', 'erpA', 'acpP', 'ftsK', 'iscS', 'obgE', 'folE', 'nadB', 'leuC', 'leuD', 'dnaX', 'argA', 'cysH', 'lexA', 'dnaA', 'metR', 'nadA', 'rpoB', 'rpoC', 'metK', 'thiL', 'trpB', 'lpxC']\n"
     ]
    }
   ],
   "execution_count": 33,
   "source": [
    "# check if any of the essential genes in the Clim0 data are assigned to a protease:\n",
    "essential_substrate_gene_symbols = []\n",
    "for gene in Clim0_essential_gene_symbols_found:\n",
    "    if gene in protease_data['Gene name'].values:\n",
    "        essential_substrate_gene_symbols.append(gene)\n",
    "        \n",
    "print(\"Essential Genes with Clim0 half-lives that are assigned to a protease (\" +str(len(essential_substrate_gene_symbols))+\"): \", essential_substrate_gene_symbols)"
   ],
   "id": "6c012f1623cd77ef"
  },
  {
   "metadata": {},
   "cell_type": "code",
   "outputs": [
    {
     "name": "stdout",
     "output_type": "stream",
     "text": [
      "Essential Genes with CL half-lives that are assigned to a protease (0):  []\n",
      "Essential Genes with NE half-lives that are assigned to a protease (3):  ['ftsQ', 'hemA', 'ispU']\n"
     ]
    }
   ],
   "execution_count": 34,
   "source": [
    "# check if any of the essential genes in the CL data are assigned to a protease:\n",
    "CL_essential_substrate_gene_symbols = []\n",
    "for gene in CL_essential_gene_symbols_found:\n",
    "    if gene in protease_data['Gene name'].values:\n",
    "        CL_essential_substrate_gene_symbols.append(gene)\n",
    "        \n",
    "print(\"Essential Genes with CL half-lives that are assigned to a protease (\" +str(len(CL_essential_substrate_gene_symbols))+\"): \", CL_essential_substrate_gene_symbols)\n",
    "\n",
    "# check if any of the essential genes in the NE data are assigned to a protease:\n",
    "NE_essential_substrate_gene_symbols = []\n",
    "for gene in NE_essential_gene_symbols_found:\n",
    "    if gene in protease_data['Gene name'].values:\n",
    "        NE_essential_substrate_gene_symbols.append(gene)\n",
    "        \n",
    "print(\"Essential Genes with NE half-lives that are assigned to a protease (\" +str(len(NE_essential_substrate_gene_symbols))+\"): \", NE_essential_substrate_gene_symbols)"
   ],
   "id": "ed282a97db2cf70e"
  },
  {
   "metadata": {},
   "cell_type": "markdown",
   "source": [
    "next items to do with this info: \n",
    "- plot the essential genes in the Clim0 data\n",
    "- plot the outliers and highlight the essential genes \n",
    "- plot the outliers and highlight the protease substrates"
   ],
   "id": "6b60199ca1ebf110"
  }
 ],
 "metadata": {
  "kernelspec": {
   "display_name": "Python 3",
   "language": "python",
   "name": "python3"
  },
  "language_info": {
   "codemirror_mode": {
    "name": "ipython",
    "version": 2
   },
   "file_extension": ".py",
   "mimetype": "text/x-python",
   "name": "python",
   "nbconvert_exporter": "python",
   "pygments_lexer": "ipython2",
   "version": "2.7.6"
  }
 },
 "nbformat": 4,
 "nbformat_minor": 5
}
