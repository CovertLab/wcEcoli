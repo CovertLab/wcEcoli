{
 "cells": [
  {
   "metadata": {},
   "cell_type": "markdown",
   "source": "# Example system of active PD equations",
   "id": "3a7961dd65ea7462"
  },
  {
   "metadata": {},
   "cell_type": "markdown",
   "source": [
    "Say I have 3 substrates that are degraded by 2 substrates. \n",
    "\n",
    "1. $\\( k_{\\text{deg1}} = \\frac{k_{\\text{cat1}} \\cdot [P_1]}{K_{m1} + [S_1]} \\)$\n",
    "\n",
    "2. $\\( k_{\\text{deg2}} = \\frac{k_{\\text{cat2}} \\cdot [P_2]}{K_{m2} + [S_2]} \\)$\n",
    "\n",
    "3. $\\( k_{\\text{deg3}} = \\frac{k_{\\text{cat3}} \\cdot [P_1]}{K_{m3} + [S_3]} + \\frac{k_{\\text{cat4}} \\cdot [P_2]}{K_{m4} + [S_3]} \\)$\n",
    "\n",
    "4. $\\( k_{\\text{P1}} = k_{\\text{cat1}} + k_{\\text{cat3}} \\)$\n",
    "\n",
    "5. $\\( k_{\\text{P2}} = k_{\\text{cat2}} + k_{\\text{cat4}} \\)$\n",
    "\n",
    "By rearranging equations 4 and 5 to get $\\( k_{\\text{cat3}} \\)$ and $\\( k_{\\text{cat4}} \\)$ in terms of $\\( k_{\\text{cat1}} \\)$ and $\\( k_{\\text{cat2}} \\)$, respectively, we can substitute them into equation 3 to get:\n",
    "\n",
    "6. $\\( k_{\\text{deg3}} = \\frac{(k_{\\text{P1}} - k_{\\text{cat1}}) \\cdot [P_1]}{K_{m3}) + [S_3]} + \\frac{(k_{\\text{P2}} - k_{\\text{cat2}}) \\cdot [P_2]}{K_{m4} + [S_3]} \\)$\n",
    "\n",
    "Then, we can rearrange equations 1 and 2 to get $\\( k_{c1} \\)$ and $\\( k_{c2} \\)$ in terms of $\\( k_{\\text{deg1}} \\)$ and $\\( k_{\\text{deg2}} \\)$, respectively, givening the following: \n",
    "\n",
    "$\\( k_{\\text{cat1}} = \\frac{k_{\\text{deg1}} \\cdot K_{m1}}{[P_1]} \\)$, \n",
    "\n",
    "$\\( k_{\\text{cat2}} = \\frac{k_{\\text{deg2}} \\cdot K_{m2}}{[P_2]} \\)$\n",
    "\n",
    "Now I can plug in the values of $\\( k_{\\text{cat1}} \\)$ and $\\( k_{\\text{cat2}} \\)$ into equation 6 and then use numerical methods to solve for solutions to the $\\( K_m \\)$ values (since Kms appear in the denominator, I cannot use linear algebra): \n",
    "\n",
    "\n",
    "$\\( k_{\\text{deg3}} = \\frac{(k_{\\text{P1}} - \\frac{k_{\\text{deg2}} \\cdot K_{m2}}{[P_2]}) \\cdot [P_1]}{K_{m3}) + [S_3]} + \\frac{(k_{\\text{P2}} - \\frac{k_{\\text{deg2}} \\cdot K_{m2}}{[P_2]}) \\cdot [P_2]}{K_{m4} + [S_3]} \\)$\n",
    "\n",
    "\n",
    "\n",
    "\n"
   ],
   "id": "8dcbf855bdb757d8"
  },
  {
   "metadata": {},
   "cell_type": "markdown",
   "source": "In some cases, the relative contribution of a protease to the degradation of a subrate degraded by multiple substrates is given. In cases, like that, we can use that fraction to possibly simplify the system of equations by multiplying the contribution fraction by the rate of degradation of the substrate and setting that quantity equatl to the rate of degradation of the substrate by the particular protease.  ",
   "id": "9112e35e4dde440a"
  },
  {
   "metadata": {
    "ExecuteTime": {
     "end_time": "2024-10-04T22:44:20.741871Z",
     "start_time": "2024-10-04T22:44:20.708696Z"
    }
   },
   "cell_type": "code",
   "source": "",
   "id": "3e96377ceb68e23b",
   "outputs": [
    {
     "ename": "NameError",
     "evalue": "name 'cell_paths' is not defined",
     "output_type": "error",
     "traceback": [
      "\u001B[0;31m---------------------------------------------------------------------------\u001B[0m",
      "\u001B[0;31mNameError\u001B[0m                                 Traceback (most recent call last)",
      "Cell \u001B[0;32mIn[25], line 5\u001B[0m\n\u001B[1;32m      1\u001B[0m \u001B[38;5;28;01mfrom\u001B[39;00m \u001B[38;5;21;01mwholecell\u001B[39;00m\u001B[38;5;21;01m.\u001B[39;00m\u001B[38;5;21;01manalysis\u001B[39;00m\u001B[38;5;21;01m.\u001B[39;00m\u001B[38;5;21;01manalysis_tools\u001B[39;00m \u001B[38;5;28;01mimport\u001B[39;00m (read_stacked_bulk_molecules,\n\u001B[1;32m      2\u001B[0m \tread_stacked_columns)\n\u001B[1;32m      4\u001B[0m counts_to_molar \u001B[38;5;241m=\u001B[39m read_stacked_columns(\n\u001B[0;32m----> 5\u001B[0m \t\t\t\u001B[43mcell_paths\u001B[49m, \u001B[38;5;124m'\u001B[39m\u001B[38;5;124mEnzymeKinetics\u001B[39m\u001B[38;5;124m'\u001B[39m, \u001B[38;5;124m'\u001B[39m\u001B[38;5;124mcountsToMolar\u001B[39m\u001B[38;5;124m'\u001B[39m,\n\u001B[1;32m      6\u001B[0m \t\t\tremove_first\u001B[38;5;241m=\u001B[39m\u001B[38;5;28;01mTrue\u001B[39;00m, ignore_exception\u001B[38;5;241m=\u001B[39m\u001B[38;5;28;01mTrue\u001B[39;00m)\n",
      "\u001B[0;31mNameError\u001B[0m: name 'cell_paths' is not defined"
     ]
    }
   ],
   "execution_count": 25
  },
  {
   "metadata": {},
   "cell_type": "code",
   "outputs": [],
   "execution_count": 4,
   "source": [
    "from scipy.optimize import fsolve\n",
    "import numpy as np"
   ],
   "id": "initial_id"
  },
  {
   "metadata": {},
   "cell_type": "markdown",
   "source": [
    "Attempt to solve the equations above with the following three proteins: \n",
    "\n",
    "At steady state in our model, Lon (P1) has a value of log10(protein counts) = 2.854175 and clpP (P2) has a value of log10(protein counts) = 9.096198\n",
    "\n",
    "metR: assinged to the Lon protease (P1), and has log10(protein counts) = 0.257029, and a half life of 48.7 minutes.\n",
    "\n",
    "glpD: assigned to the clpP protease (P2), and has log10(protein counts) = 3.946707, and a half life of 210.9 minutes.\n",
    "\n",
    "ibpA: assigned to lon and clpP, and has log10(protein counts) = 2.057573, and a half life of 72 minutes.\n",
    "\n",
    "For now, we will assume that the kcat totals for each protease are equal to values found in literature (although these will be estimated better for the context of our model in the future). I will also assume Km3 = Km4 for now, and again, this will later be replaced with a deep curation of the values available in literature."
   ],
   "id": "c79c670d082b954c"
  },
  {
   "metadata": {},
   "cell_type": "markdown",
   "source": "## Constants",
   "id": "1fd93358bdc9d544"
  },
  {
   "metadata": {
    "ExecuteTime": {
     "end_time": "2024-10-04T20:10:13.898770Z",
     "start_time": "2024-10-04T20:10:13.895043Z"
    }
   },
   "cell_type": "code",
   "source": [
    "# relative protein counts at steady state : \n",
    "P1 = 10**2.854175\n",
    "P2 = 10**9.096198\n",
    "S1 = 10**0.257029\n",
    "S2 = 10**3.946707\n",
    "S3 = 10**2.057573\n",
    "# todo: do I need to turn this into the molar mass and then divide by the volume of the cell to get the concentration?\n",
    "# convert to concentrations: \n",
    "# todo: use the ecocyc table to fine concentration values for thse complexes (bc Clpp def is one!!!) \n",
    "P1 = P1 \n",
    "P2 = P2 \n",
    "S1 = S1 \n",
    "S2 = S2 \n",
    "S3 = S3 \n",
    "\n",
    "# measured degradation contstants: \n",
    "kdeg1 = np.log(2) / 48.7 # units: mins-1\n",
    "kdeg2 = np.log(2) / 210.9 # units: mins-1\n",
    "kdeg3 = np.log(2) / 72 # units: mins-1\n",
    "\n",
    "k_total_p1 = 3.2 # s-1, value from https://www.sciencedirect.com/science/article/pii/S0003269701949887?via%3Dihub\n",
    "k_total_p2 = 0.3 # min-1, enz-1, micromolar-1, value from: https://www.cell.com/cell-reports/pdf/S2211-1247(22)01242-6.pdf (enz-1 means per enzyme, so I believe this is ok)\n",
    "\n",
    "# todo: figure out what to make the micromolar vale convert to!! do i need all the values in my above equations to have micromolar taken into account? \n",
    "\n",
    "# edit the values of the protease concentrations: \n",
    "k_total_p1 = k_total_p1 / 60 # convert from s-1 to mins-1\n",
    "k_total_p2 = k_total_p2 # todo: figure out what to do conversion wise here! \n"
   ],
   "id": "ee7644adb5f88031",
   "outputs": [],
   "execution_count": 20
  },
  {
   "metadata": {
    "ExecuteTime": {
     "end_time": "2024-10-04T20:22:18.870561Z",
     "start_time": "2024-10-04T20:22:18.864959Z"
    }
   },
   "cell_type": "code",
   "source": [
    "# Define system of equations\n",
    "def equations(variables):\n",
    "    kcat1, kcat2, Km1, Km2, Km3, Km4 = variables\n",
    "\n",
    "    # Express kcat3 and kcat4 in terms of total kcat values\n",
    "    kcat3 = k_total_p1 - kcat1\n",
    "    kcat4 = k_total_p2 - kcat2\n",
    "\n",
    "    # Equation system: kdeg1, kdeg2, kdeg3 equations, equations from total kcat definitions, and assume Km3 = Km4\n",
    "    eq1 = kdeg1 - (kcat1 * P1 / (Km1 + S1))\n",
    "    eq2 = kdeg2 - (kcat2 * P2 / (Km2 + S2))\n",
    "    eq3 = kdeg3 - ((kcat3 * P1 / (Km3 + S3)) + (kcat4 * P2 / (Km4 + S2)))\n",
    "    eq4 = kcat1 + kcat3 - k_total_p1  \n",
    "    eq5 = kcat2 + kcat4 - k_total_p2  \n",
    "    eq6 = Km4 - Km2 \n",
    "\n",
    "    return [eq1, eq2, eq3, eq4, eq5, eq6]\n",
    "\n",
    "# Initial guess for kcat1, kcat2, Km1, Km2, Km3, Km4\n",
    "initial_guess = [0.1, 0.1, 0.5, 1, 0.5, 0.5]\n",
    "\n",
    "# Use fsolve to solve the system of equations\n",
    "solution = fsolve(equations, initial_guess)\n",
    "\n",
    "kcat1, kcat2, Km1, Km2, Km3, Km4 = solution\n",
    "\n",
    "print(f\"Solved values:\")\n",
    "print(f\"kcat1 = {kcat1}\")\n",
    "print(f\"kcat2 = {kcat2}\")\n",
    "print(f\"Km1 = {Km1}\")\n",
    "print(f\"Km2 = {Km2}\")\n",
    "print(f\"Km3 = {Km3}\")\n",
    "print(f\"Km4 = {Km4}\")"
   ],
   "id": "fdd3b5ad4fdd5967",
   "outputs": [
    {
     "name": "stdout",
     "output_type": "stream",
     "text": [
      "Solved values:\n",
      "kcat1 = 2517305732.637409\n",
      "kcat2 = 0.1504363803274422\n",
      "Km1 = 52080635478.80615\n",
      "Km2 = 878503.9208155256\n",
      "Km3 = 1537221725243130.0\n",
      "Km4 = 878503.9002423795\n"
     ]
    }
   ],
   "execution_count": 24
  },
  {
   "metadata": {},
   "cell_type": "code",
   "outputs": [],
   "execution_count": null,
   "source": "",
   "id": "2787f418fa720f10"
  }
 ],
 "metadata": {
  "kernelspec": {
   "display_name": "Python 3",
   "language": "python",
   "name": "python3"
  },
  "language_info": {
   "codemirror_mode": {
    "name": "ipython",
    "version": 2
   },
   "file_extension": ".py",
   "mimetype": "text/x-python",
   "name": "python",
   "nbconvert_exporter": "python",
   "pygments_lexer": "ipython2",
   "version": "2.7.6"
  }
 },
 "nbformat": 4,
 "nbformat_minor": 5
}
