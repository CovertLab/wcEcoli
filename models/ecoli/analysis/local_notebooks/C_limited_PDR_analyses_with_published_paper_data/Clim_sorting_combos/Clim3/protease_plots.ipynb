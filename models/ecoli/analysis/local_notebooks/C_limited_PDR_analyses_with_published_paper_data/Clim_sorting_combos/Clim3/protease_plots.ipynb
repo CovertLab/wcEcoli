{
 "cells": [
  {
   "cell_type": "code",
   "execution_count": null,
   "id": "initial_id",
   "metadata": {
    "collapsed": true
   },
   "outputs": [],
   "source": [
    "import pickle\n",
    "import os\n",
    "import pandas as pd\n",
    "from matplotlib import pyplot as plt\n",
    "os.chdir(os.path.expanduser('~/wcEcoli/out/'))\n",
    "# noinspection PyUnresolvedReferences\n",
    "import numpy as np\n",
    "import plotly.graph_objects as go\n",
    "from models.ecoli.analysis import cohortAnalysisPlot\n",
    "from wholecell.analysis.analysis_tools import (exportFigure,\n",
    "\tread_bulk_molecule_counts, read_stacked_bulk_molecules, read_stacked_columns)\n",
    "from wholecell.io.tablereader import TableReader\n",
    "from sklearn.metrics import r2_score"
   ]
  },
  {
   "metadata": {},
   "cell_type": "code",
   "outputs": [],
   "execution_count": null,
   "source": [
    "# CLNE \n",
    "VS_log_CLNE = pd.read_csv('~/wcEcoli/models/ecoli/analysis/local_notebooks/C_limited_PDR_analyses_with_published_paper_data/previous_models/CLNE_files/cohort_saved_protein_count_data_10_09/validation_data/log_data/Log10_Schmidt_Comparison_startGen_2.csv')\n",
    "VW_log_CLNE = pd.read_csv('~/wcEcoli/models/ecoli/analysis/local_notebooks/C_limited_PDR_analyses_with_published_paper_data/previous_models/CLNE_files/cohort_saved_protein_count_data_10_09/validation_data/log_data/Log10_Wisniewski_Comparison_startGen_2.csv')\n",
    "\n",
    "# CLClimNE\n",
    "# TODO: CHANGE THESE TO THE CORRECT PATH\n",
    "VS_log_CLClimNE = pd.read_csv('~/wcEcoli/models/ecoli/analysis/local_notebooks/C_limited_PDR_analyses_with_published_paper_data/Clim_sorting_combos/Clim3/cohort_saved_protein_count_data/validation_data/log_data/Log10_Schmidt_Comparison_startGen_2.csv')\n",
    "VW_log_CLClimNE = pd.read_csv('~/wcEcoli/models/ecoli/analysis/local_notebooks/C_limited_PDR_analyses_with_published_paper_data/Clim_sorting_combos/Clim3/cohort_saved_protein_count_data/validation_data/log_data/Log10_Wisniewski_Comparison_startGen_2.csv')\n",
    "\n"
   ],
   "id": "a5ab5740feeb7c9d"
  },
  {
   "metadata": {},
   "cell_type": "code",
   "outputs": [],
   "execution_count": null,
   "source": [
    "# specifiy the current sequence being used: \n",
    "current_sequence = 'CLClim3dNE'\n",
    "Clim_name = 'Clim3d'"
   ],
   "id": "cd40ce172ea6bace"
  },
  {
   "metadata": {},
   "cell_type": "code",
   "outputs": [],
   "execution_count": null,
   "source": "",
   "id": "5326d2233c0e1f8d"
  }
 ],
 "metadata": {
  "kernelspec": {
   "display_name": "Python 3",
   "language": "python",
   "name": "python3"
  },
  "language_info": {
   "codemirror_mode": {
    "name": "ipython",
    "version": 2
   },
   "file_extension": ".py",
   "mimetype": "text/x-python",
   "name": "python",
   "nbconvert_exporter": "python",
   "pygments_lexer": "ipython2",
   "version": "2.7.6"
  }
 },
 "nbformat": 4,
 "nbformat_minor": 5
}
