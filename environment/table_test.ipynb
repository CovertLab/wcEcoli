{
 "cells": [
  {
   "cell_type": "code",
   "execution_count": 2,
   "metadata": {},
   "outputs": [
    {
     "data": {
      "text/html": [
       "<div>\n",
       "<style scoped>\n",
       "    .dataframe tbody tr th:only-of-type {\n",
       "        vertical-align: middle;\n",
       "    }\n",
       "\n",
       "    .dataframe tbody tr th {\n",
       "        vertical-align: top;\n",
       "    }\n",
       "\n",
       "    .dataframe thead th {\n",
       "        text-align: right;\n",
       "    }\n",
       "</style>\n",
       "<table border=\"1\" class=\"dataframe\">\n",
       "  <thead>\n",
       "    <tr style=\"text-align: right;\">\n",
       "      <th></th>\n",
       "      <th>time</th>\n",
       "      <th>media</th>\n",
       "    </tr>\n",
       "  </thead>\n",
       "  <tbody>\n",
       "    <tr>\n",
       "      <th>0</th>\n",
       "      <td>0</td>\n",
       "      <td>aa_transport_lookup_minimal.tsv</td>\n",
       "    </tr>\n",
       "    <tr>\n",
       "      <th>1</th>\n",
       "      <td>50</td>\n",
       "      <td>aa_transport_lookup_amino_acids.tsv</td>\n",
       "    </tr>\n",
       "    <tr>\n",
       "      <th>2</th>\n",
       "      <td>100</td>\n",
       "      <td>aa_transport_lookup_minimal.tsv</td>\n",
       "    </tr>\n",
       "  </tbody>\n",
       "</table>\n",
       "</div>"
      ],
      "text/plain": [
       "   time                                media\n",
       "0     0      aa_transport_lookup_minimal.tsv\n",
       "1    50  aa_transport_lookup_amino_acids.tsv\n",
       "2   100      aa_transport_lookup_minimal.tsv"
      ]
     },
     "execution_count": 2,
     "metadata": {},
     "output_type": "execute_result"
    }
   ],
   "source": [
    "import csv\n",
    "import ast\n",
    "import pandas as pd\n",
    "import numpy as np\n",
    "\n",
    "time_str = 'surrogates/timelines/timeline_1.tsv'\n",
    "timeline = pd.read_csv(time_str, sep='\\t', header=0)\n",
    "timeline"
   ]
  },
  {
   "cell_type": "code",
   "execution_count": 4,
   "metadata": {},
   "outputs": [
    {
     "data": {
      "text/plain": [
       "1"
      ]
     },
     "execution_count": 4,
     "metadata": {},
     "output_type": "execute_result"
    }
   ],
   "source": [
    "transport_table = pd.read_csv('surrogates/tables/aa_transport_lookup_amino_acids.tsv', sep='\\t', header=0).to_dict()\n",
    "dist = ast.literal_eval(transport_table['distribution'][0])\n",
    "stoich = ast.literal_eval(transport_table['stoichiometry'][0])\n",
    "stoich['PI[c]']"
   ]
  },
  {
   "cell_type": "code",
   "execution_count": 18,
   "metadata": {},
   "outputs": [
    {
     "data": {
      "text/plain": [
       "0"
      ]
     },
     "execution_count": 18,
     "metadata": {},
     "output_type": "execute_result"
    }
   ],
   "source": [
    "SUBSTRATES = []\n",
    "for index in transport_table['stoichiometry']:\n",
    "    keys = ast.literal_eval(transport_table['stoichiometry'][index]).keys()\n",
    "    i = 0\n",
    "    while i < len(keys):\n",
    "        if keys[i] not in SUBSTRATES:\n",
    "            SUBSTRATES.append(keys[i])\n",
    "        i+=1\n",
    "zero_pad = [0] * len(SUBSTRATES)\n",
    "SUBSTRATES = dict(zip(SUBSTRATES, zero_pad))\n",
    "\n",
    "i = 0\n",
    "FLUX = []\n",
    "while i < len(transport_table['reaction id']):\n",
    "    FLUX.append(np.random.choice(ast.literal_eval(transport_table['distribution'][i])))\n",
    "    i += 1\n",
    "SUBSTRATES['GLT[c]']\n"
   ]
  },
  {
   "cell_type": "code",
   "execution_count": 176,
   "metadata": {},
   "outputs": [],
   "source": [
    "len(transport_table['reaction id'])\n",
    "i = 0\n",
    "while i < len(transport_table['reaction id']):\n",
    "    flux = np.random.choice(ast.literal_eval(transport_table['distribution'][i]))\n",
    "    stoich = ast.literal_eval(transport_table['stoichiometry'][i])\n",
    "    for substrate in stoich:\n",
    "        value = stoich[substrate] * flux\n",
    "        if substrate in SUBSTRATES:\n",
    "            SUBSTRATES[substrate] += value\n",
    "    i+=1"
   ]
  },
  {
   "cell_type": "code",
   "execution_count": 59,
   "metadata": {},
   "outputs": [
    {
     "data": {
      "text/plain": [
       "{'ADP[c]', 'ATP[c]', 'GLN[c]', 'GLN[p]', 'PI[c]', 'PROTON[c]', 'WATER[c]'}"
      ]
     },
     "execution_count": 59,
     "metadata": {},
     "output_type": "execute_result"
    }
   ],
   "source": []
  },
  {
   "cell_type": "code",
   "execution_count": null,
   "metadata": {},
   "outputs": [],
   "source": []
  }
 ],
 "metadata": {
  "kernelspec": {
   "display_name": "Python 2",
   "language": "python",
   "name": "python2"
  },
  "language_info": {
   "codemirror_mode": {
    "name": "ipython",
    "version": 2
   },
   "file_extension": ".py",
   "mimetype": "text/x-python",
   "name": "python",
   "nbconvert_exporter": "python",
   "pygments_lexer": "ipython2",
   "version": "2.7.15rc1"
  }
 },
 "nbformat": 4,
 "nbformat_minor": 2
}
