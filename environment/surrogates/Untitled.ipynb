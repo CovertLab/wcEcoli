{
 "cells": [
  {
   "cell_type": "code",
   "execution_count": 34,
   "metadata": {},
   "outputs": [
    {
     "data": {
      "text/html": [
       "<div>\n",
       "<style scoped>\n",
       "    .dataframe tbody tr th:only-of-type {\n",
       "        vertical-align: middle;\n",
       "    }\n",
       "\n",
       "    .dataframe tbody tr th {\n",
       "        vertical-align: top;\n",
       "    }\n",
       "\n",
       "    .dataframe thead th {\n",
       "        text-align: right;\n",
       "    }\n",
       "</style>\n",
       "<table border=\"1\" class=\"dataframe\">\n",
       "  <thead>\n",
       "    <tr style=\"text-align: right;\">\n",
       "      <th></th>\n",
       "      <th>time</th>\n",
       "      <th>media</th>\n",
       "    </tr>\n",
       "  </thead>\n",
       "  <tbody>\n",
       "    <tr>\n",
       "      <th>0</th>\n",
       "      <td>0</td>\n",
       "      <td>aa_transport_lookup_minimal.tsv</td>\n",
       "    </tr>\n",
       "    <tr>\n",
       "      <th>1</th>\n",
       "      <td>10</td>\n",
       "      <td>aa_transport_lookup_amino_acids.tsv</td>\n",
       "    </tr>\n",
       "    <tr>\n",
       "      <th>2</th>\n",
       "      <td>20</td>\n",
       "      <td>aa_transport_lookup_anaerobic.tsv</td>\n",
       "    </tr>\n",
       "  </tbody>\n",
       "</table>\n",
       "</div>"
      ],
      "text/plain": [
       "   time                                media\n",
       "0     0      aa_transport_lookup_minimal.tsv\n",
       "1    10  aa_transport_lookup_amino_acids.tsv\n",
       "2    20    aa_transport_lookup_anaerobic.tsv"
      ]
     },
     "execution_count": 34,
     "metadata": {},
     "output_type": "execute_result"
    }
   ],
   "source": [
    "import pandas as pd\n",
    "timeline_str = '/home/lt5bf/Documents/git-repos/wcEcoli/environment/surrogates/timelines/timeline_1.tsv'\n",
    "timeline = pd.read_csv(timeline_str, sep='\\t', header=0)\n",
    "timeline.head()"
   ]
  },
  {
   "cell_type": "code",
   "execution_count": 37,
   "metadata": {},
   "outputs": [
    {
     "name": "stdout",
     "output_type": "stream",
     "text": [
      "aa_transport_lookup_anaerobic.tsv\n"
     ]
    }
   ],
   "source": [
    "# for time in timeline[['time']]:\n",
    "#     print(timeline.at[timeline['time'], time])\n",
    "\n",
    "selected = timeline.iloc[0,1]\n",
    "timepoint = 20\n",
    "length = len(timeline[['time']])\n",
    "i = 0\n",
    "while i < length:\n",
    "    if timepoint >= timeline.iloc[i,0]:\n",
    "        selected = timeline.iloc[i,1]\n",
    "    else:\n",
    "        break\n",
    "    i+=1\n",
    "print(selected)"
   ]
  },
  {
   "cell_type": "code",
   "execution_count": 39,
   "metadata": {},
   "outputs": [
    {
     "data": {
      "text/plain": [
       "'tables/aa_transport_lookup_anaerobic.tsv'"
      ]
     },
     "execution_count": 39,
     "metadata": {},
     "output_type": "execute_result"
    }
   ],
   "source": [
    "s = 'tables/' + selected\n",
    "s"
   ]
  },
  {
   "cell_type": "code",
   "execution_count": null,
   "metadata": {},
   "outputs": [],
   "source": []
  }
 ],
 "metadata": {
  "kernelspec": {
   "display_name": "Python 2",
   "language": "python",
   "name": "python2"
  },
  "language_info": {
   "codemirror_mode": {
    "name": "ipython",
    "version": 2
   },
   "file_extension": ".py",
   "mimetype": "text/x-python",
   "name": "python",
   "nbconvert_exporter": "python",
   "pygments_lexer": "ipython2",
   "version": "2.7.15rc1"
  }
 },
 "nbformat": 4,
 "nbformat_minor": 2
}
